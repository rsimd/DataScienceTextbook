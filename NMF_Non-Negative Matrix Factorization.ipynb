{
 "cells": [
  {
   "attachments": {},
   "cell_type": "markdown",
   "metadata": {},
   "source": [
    "# NMF (Non-Negative Matrix Factorization; 非負値行列因子分解)"
   ]
  },
  {
   "attachments": {},
   "cell_type": "markdown",
   "metadata": {},
   "source": [
    "## NMFとは\n"
   ]
  },
  {
   "cell_type": "markdown",
   "metadata": {},
   "source": [
    "NMFは，非負値($>=0$)の元行列 $\\mathbf{V}$ を他の２つの非負値な行列 $\\mathbf{W}, \\mathbf{H}$の積で近似するアルゴリズムです．例えばユーザーごとの購買履歴を保存した行列$\\mathbf{V}$が与えられた時に，これをユーザー数$D$✖️所与の埋め込み次元$K$（$K$は元の特徴数よりもかなり小さい値）の行列$\\mathbf{W}$と$K$✖️特徴数$F$の行列$\\mathbf{H}$に分解するようなタスクです．これらの二つの行列に何かしらの演算（ここでは積を取ります）をして，元の行列に近い行列を再構築できるようにすることで，より小さい二つの行列で元の行列を圧縮することができていると言えます．このようなタスクを行列分解と呼びます．\n",
    "\n",
    "学習にはさまざまな方法があります．\n",
    "\n",
    "1. 乗法更新式\n",
    "    - 損失関数として定義するユークリッド距離やIダイバージェンスを，パラメタ更新の度に小さくするような更新式を利用します．これは数学的に損失関数が単調減少することが証明されています．{cite}`Lee1999-ge,Lee2000-ld`\n",
    "2. 勾配法\n",
    "    - Neural Netの訓練でも利用されるアルゴリズムです．そのまま使うと$W$や$H$には0未満の値が含まれてしまうので，0未満になる場合は0で置き換えるような処理を追加して利用します．収束するとは限りませんが，実装は簡単です．{cite}`Lin2007-kc`"
   ]
  },
  {
   "attachments": {},
   "cell_type": "markdown",
   "metadata": {},
   "source": [
    "## scikit-learnを使った実験"
   ]
  },
  {
   "cell_type": "markdown",
   "metadata": {},
   "source": [
    "NMFはscikit-learnに実装されているので，これを利用してみましょう．"
   ]
  },
  {
   "cell_type": "code",
   "execution_count": 20,
   "metadata": {},
   "outputs": [],
   "source": [
    "import numpy as np\n",
    "import pandas as pd \n",
    "import plotly.express as px \n",
    "from sklearn.datasets import fetch_20newsgroups\n",
    "from sklearn.feature_extraction.text import CountVectorizer, TfidfVectorizer\n",
    "from sklearn.decomposition import NMF \n",
    "from sklearn.exceptions import NotFittedError\n",
    "from tqdm.auto import trange\n",
    "import plotly.express as px \n",
    "import matplotlib.pyplot as plt"
   ]
  },
  {
   "cell_type": "markdown",
   "metadata": {},
   "source": [
    "今回は20news groupsというテキストデータを利用します．BoWに変換しているので，行列の要素は全て0以上になります．"
   ]
  },
  {
   "cell_type": "code",
   "execution_count": 2,
   "metadata": {},
   "outputs": [],
   "source": [
    "news_train = fetch_20newsgroups(subset=\"train\")\n",
    "news_test = fetch_20newsgroups(subset=\"test\")\n",
    "vectorizer = CountVectorizer(lowercase=True, max_features=1000, stop_words=\"english\", min_df=2, max_df=0.5)\n",
    "X_train = vectorizer.fit_transform(news_train.data)\n",
    "X_test = vectorizer.transform(news_test.data)"
   ]
  },
  {
   "cell_type": "code",
   "execution_count": 3,
   "metadata": {},
   "outputs": [
    {
     "name": "stderr",
     "output_type": "stream",
     "text": [
      "/Users/mriki/.pyenv/versions/miniforge3-4.10.3-10/envs/datasci/lib/python3.10/site-packages/sklearn/utils/deprecation.py:87: FutureWarning: Function get_feature_names is deprecated; get_feature_names is deprecated in 1.0 and will be removed in 1.2. Please use get_feature_names_out instead.\n",
      "  warnings.warn(msg, category=FutureWarning)\n"
     ]
    }
   ],
   "source": [
    "id2word = {id:key for id,key in enumerate(vectorizer.get_feature_names())}\n",
    "word2id = {key:id for id,key in id2word.items()}"
   ]
  },
  {
   "cell_type": "code",
   "execution_count": 13,
   "metadata": {},
   "outputs": [
    {
     "name": "stdout",
     "output_type": "stream",
     "text": [
      "(7532, 20)\n",
      "(20, 1000)\n"
     ]
    }
   ],
   "source": [
    "nmf = NMF(n_components=20)\n",
    "nmf.fit(X_train)\n",
    "W_doc_k = nmf.transform(X_test)\n",
    "print(W_doc_k.shape)\n",
    "H_k_vocab = nmf.components_\n",
    "print(H_k_vocab.shape)"
   ]
  },
  {
   "cell_type": "code",
   "execution_count": 33,
   "metadata": {},
   "outputs": [
    {
     "data": {
      "text/plain": [
       "1488.503298672555"
      ]
     },
     "execution_count": 33,
     "metadata": {},
     "output_type": "execute_result"
    }
   ],
   "source": [
    "nmf.reconstruction_err_ #/ X_train.shape[0]"
   ]
  },
  {
   "cell_type": "markdown",
   "metadata": {},
   "source": []
  },
  {
   "attachments": {},
   "cell_type": "markdown",
   "metadata": {},
   "source": [
    "## NumPyを使って実装する"
   ]
  },
  {
   "cell_type": "markdown",
   "metadata": {},
   "source": [
    "ユークリッド距離を損失関数にして，乗法更新式による訓練を行います． \n",
    "\n",
    "できるだけ行列計算を行う行にはshapeをコメントしてあります．プログラムを読む時に参考にしてください．"
   ]
  },
  {
   "cell_type": "code",
   "execution_count": 8,
   "metadata": {
    "tags": [
     "hide-output"
    ]
   },
   "outputs": [],
   "source": [
    "def update_Vt_by_euclid(X, U, Vt):\n",
    "    _X = U @ Vt # (D,F)=(D,K)@(K,F)\n",
    "    _bias = (U.T @ X) / (U.T @ _X) # (D,K).T@(D,F) / (D,K).T@(D,F)\n",
    "    _bias[np.isnan(_bias)] = 0.0\n",
    "    Vt *= _bias # (K,F)=(K,F)*(K,F)\n",
    "    return Vt \n",
    "\n",
    "def update_U_by_euclid(X,U,Vt):        \n",
    "    _X = U @ Vt # (D,F)=(D,K)@(K,F)\n",
    "    _bias = (X @ Vt.T) / (_X @ Vt.T) # (D,F)@(K,F).T / (D,F)@(K,F).T\n",
    "    _bias[np.isnan(_bias)] = 0\n",
    "    U *= _bias # (D,K)=(D,K)(D,K)\n",
    "    return U\n",
    "\n",
    "def cost_fn_by_euclid(X,_X):\n",
    "    return np.linalg.norm(X - _X, axis=1).mean()\n",
    "\n",
    "class MyNMF():\n",
    "    def __init__(self, n_components:int=2, max_iter:int=100, rng:bool=None, divergence=\"euclid\"):\n",
    "        self.n_components = n_components\n",
    "        self.max_iter = max_iter\n",
    "        self.rng_ = rng if rng is not None else np.random.default_rng(2**1000) \n",
    "        self.divergence = divergence\n",
    "        self.is_fitted = False \n",
    "        self.cost_ = []\n",
    "        if self.divergence == \"euclid\":\n",
    "            self.update_Vt = update_Vt_by_euclid\n",
    "            self.update_U = update_U_by_euclid\n",
    "            self.cost_fn = cost_fn_by_euclid\n",
    "        else:\n",
    "            NotImplementedError('divergenceは[\"eculid\",]から選択')\n",
    "\n",
    "    def fit_transform(self, X:np.ndarray,y=None):\n",
    "        X = X.astype(np.float64)\n",
    "        self._n_features = X.shape[1]\n",
    "        \n",
    "        # Initialize two small matrices from a uniform distribution\n",
    "        _U = self.rng_.uniform(0,1, \n",
    "                              size=[X.shape[0],self.n_components],\n",
    "                              ).astype(X.dtype) # (D,K)\n",
    "        _Vt = self.rng_.uniform(0,1,\n",
    "                                size=[self.n_components, self._n_features],\n",
    "                                ).astype(X.dtype) # (K,F)\n",
    "        \n",
    "        # update parameters\n",
    "        for i in trange(self.max_iter):\n",
    "            _Vt = self.update_Vt(X,_U,_Vt)\n",
    "            _U = self.update_U(X,_U,_Vt)\n",
    "            _X = _U@_Vt\n",
    "            self.cost_.append(self.cost_fn(X, _X))\n",
    "        \n",
    "        # output\n",
    "        self.components_ = _Vt # Store _Vt in instance variable to be accessed from outside\n",
    "        self.is_fitted = True # Raise the flag\n",
    "        return _U\n",
    "    \n",
    "    def fit(self,X,y=None):\n",
    "        self.fit_transform(X)\n",
    "        return self\n",
    "    \n",
    "    def transform(self, X):\n",
    "        if not self.is_fitted:\n",
    "            raise NotFittedError(f\"{self.__class__.__name__}.transformはfit後にのみ利用できる\")\n",
    "        if self.components_.shape[1] != X.shape[1]:\n",
    "            raise ValueError(\"Xと訓練データの特徴数が異なっている\")\n",
    "        X = X.astype(np.float64)\n",
    "        \n",
    "        # Initialize U from a uniform distribution\n",
    "        U = self.rng_.uniform(0,1, \n",
    "                              size=[X.shape[0],self.n_components],\n",
    "                              ).astype(X.dtype) # (K,F)\n",
    "        \n",
    "        for i in trange(self.max_iter):\n",
    "            U = self.update_U(X,U,self.components_)\n",
    "        return U"
   ]
  },
  {
   "cell_type": "markdown",
   "metadata": {},
   "source": [
    "### 訓練の実行"
   ]
  },
  {
   "cell_type": "code",
   "execution_count": 34,
   "metadata": {
    "tags": [
     "hide-output"
    ]
   },
   "outputs": [
    {
     "name": "stderr",
     "output_type": "stream",
     "text": [
      "100%|██████████| 100/100 [00:12<00:00,  7.94it/s]\n"
     ]
    }
   ],
   "source": [
    "mynmf = MyNMF(20,max_iter=100)\n",
    "U = mynmf.fit_transform(X_train)"
   ]
  },
  {
   "cell_type": "code",
   "execution_count": 38,
   "metadata": {},
   "outputs": [
    {
     "name": "stdout",
     "output_type": "stream",
     "text": [
      "最後の更新時の損失関数の値: 10.900271385543064\n"
     ]
    },
    {
     "data": {
      "image/png": "[encoded data removed]",
      "text/plain": [
       "<Figure size 640x480 with 1 Axes>"
      ]
     },
     "metadata": {},
     "output_type": "display_data"
    }
   ],
   "source": [
    "fig = plt.figure()\n",
    "ax = fig.add_subplot()\n",
    "_cost = np.array(mynmf.cost_) #/X_train.shape[0]\n",
    "ax.plot(_cost)\n",
    "ax.set_xlabel(\"Number of update\")\n",
    "ax.set_ylabel(\"Reconstruction error\")\n",
    "ax.set_title(\"Reconstruction Error\")\n",
    "print(\"最後の更新時の損失関数の値:\",_cost[-1])"
   ]
  },
  {
   "cell_type": "markdown",
   "metadata": {},
   "source": [
    "## 参考文献\n",
    "\n",
    "### 論文等\n",
    "\n",
    "```{bibliography}\n",
    ":filter: docname in docnames\n",
    "```"
   ]
  }
 ],
 "metadata": {
  "kernelspec": {
   "display_name": "datasci",
   "language": "python",
   "name": "python3"
  },
  "language_info": {
   "codemirror_mode": {
    "name": "ipython",
    "version": 3
   },
   "file_extension": ".py",
   "mimetype": "text/x-python",
   "name": "python",
   "nbconvert_exporter": "python",
   "pygments_lexer": "ipython3",
   "version": "3.10.6"
  },
  "orig_nbformat": 4,
  "vscode": {
   "interpreter": {
    "hash": "a79fb6e5a930026e4265f7488905aff41e03ef0de0bdcf381b857b9bad06edd5"
   }
  }
 },
 "nbformat": 4,
 "nbformat_minor": 2
}
