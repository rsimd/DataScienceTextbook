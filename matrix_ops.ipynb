{
 "cells": [
  {
   "attachments": {},
   "cell_type": "markdown",
   "metadata": {},
   "source": [
    "## 行列計算で全結合層の計算が実装できる？"
   ]
  },
  {
   "attachments": {},
   "cell_type": "markdown",
   "metadata": {},
   "source": [
    "スカラー同士の計算から徐々に行列を使った実装に直していくので，それぞれのコードを見比べて，最終的なコードのお気持ちを理解してください．"
   ]
  },
  {
   "cell_type": "code",
   "execution_count": 3,
   "metadata": {},
   "outputs": [],
   "source": [
    "import numpy as np \n",
    "import matplotlib.pyplot as plt \n",
    "from IPython.display import display, Markdown"
   ]
  },
  {
   "attachments": {},
   "cell_type": "markdown",
   "metadata": {},
   "source": [
    "ハイパーパラメータを定義しておきましょう．"
   ]
  },
  {
   "cell_type": "code",
   "execution_count": 10,
   "metadata": {},
   "outputs": [],
   "source": [
    "M = 2 # batch_size \n",
    "F = 3 # n_features\n",
    "K = 4 # n_hidden_layer_units\n",
    "C = 5 #  n_classes"
   ]
  },
  {
   "attachments": {},
   "cell_type": "markdown",
   "metadata": {},
   "source": [
    "パラメータも初期化しておきます．全て標準正規分布に従う事にします．（初期化の方法は適当です）"
   ]
  },
  {
   "cell_type": "code",
   "execution_count": 11,
   "metadata": {},
   "outputs": [],
   "source": [
    "X = np.random.random([M,F])\n",
    "W0 = np.random.random([F,K])\n",
    "b0 = np.random.random([K,])"
   ]
  },
  {
   "attachments": {},
   "cell_type": "markdown",
   "metadata": {},
   "source": [
    "ニューラルネットワークの全結合層をPythonプログラムで書いた例を以下に示します．"
   ]
  },
  {
   "attachments": {},
   "cell_type": "markdown",
   "metadata": {},
   "source": [
    "### ①，スカラーの四則演算だけで実装する場合"
   ]
  },
  {
   "cell_type": "code",
   "execution_count": 15,
   "metadata": {},
   "outputs": [
    {
     "data": {
      "text/plain": [
       "array([[2.54946342, 1.50958158, 1.60502882, 1.52379507],\n",
       "       [2.18509404, 1.35633831, 1.29644947, 1.74141183]])"
      ]
     },
     "execution_count": 15,
     "metadata": {},
     "output_type": "execute_result"
    }
   ],
   "source": [
    "# ①\n",
    "output = np.zeros([M,K]) #答えの初期化\n",
    "for m in range(M):\n",
    "    for k in range(K):\n",
    "        xh = np.zeros(F)\n",
    "        for f in range(F):\n",
    "            xh[f] = X[m,f] * W0[f,k]\n",
    "        output[m,k] = xh.sum() + b0[k]\n",
    "output"
   ]
  },
  {
   "attachments": {},
   "cell_type": "markdown",
   "metadata": {},
   "source": [
    "### ②，①から入力層のニューロンを回すfor文を消して，ベクトル同士の内積で置き換えた場合\""
   ]
  },
  {
   "cell_type": "code",
   "execution_count": 17,
   "metadata": {},
   "outputs": [
    {
     "data": {
      "text/plain": [
       "array([[2.54946342, 1.50958158, 1.60502882, 1.52379507],\n",
       "       [2.18509404, 1.35633831, 1.29644947, 1.74141183]])"
      ]
     },
     "execution_count": 17,
     "metadata": {},
     "output_type": "execute_result"
    }
   ],
   "source": [
    "# ②\n",
    "output = np.zeros([M,K]) #答えの初期化\n",
    "for m in range(M):\n",
    "    for k in range(K):\n",
    "        xh = X[m] @ W0[:,k] # (F)@(F,1)->(,)\n",
    "        output[m,k] = xh + b0[k]\n",
    "output"
   ]
  },
  {
   "attachments": {},
   "cell_type": "markdown",
   "metadata": {},
   "source": [
    "### ③，②から隠れ層のニューロンを回すfor文を消して，データベクトルと重み行列の内積で置き換えた場合"
   ]
  },
  {
   "cell_type": "code",
   "execution_count": 18,
   "metadata": {},
   "outputs": [
    {
     "data": {
      "text/plain": [
       "array([[2.54946342, 1.50958158, 1.60502882, 1.52379507],\n",
       "       [2.18509404, 1.35633831, 1.29644947, 1.74141183]])"
      ]
     },
     "execution_count": 18,
     "metadata": {},
     "output_type": "execute_result"
    }
   ],
   "source": [
    "# ③\n",
    "output = np.zeros([M,K]) #答えの初期化\n",
    "for m in range(M):\n",
    "    xh = X[m] @ W0 # (F)@(F,K)->(K)\n",
    "    output[m] = xh + b0 # (K)+(K)->(K)\n",
    "output\n"
   ]
  },
  {
   "attachments": {},
   "cell_type": "markdown",
   "metadata": {},
   "source": [
    "### ④，③からミニバッチを回すfor文を消して，ミニバッチ行列と重み行列の内積で置き換えた場合"
   ]
  },
  {
   "cell_type": "code",
   "execution_count": 19,
   "metadata": {},
   "outputs": [
    {
     "data": {
      "text/plain": [
       "array([[2.54946342, 1.50958158, 1.60502882, 1.52379507],\n",
       "       [2.18509404, 1.35633831, 1.29644947, 1.74141183]])"
      ]
     },
     "execution_count": 19,
     "metadata": {},
     "output_type": "execute_result"
    }
   ],
   "source": [
    "output = X @ W0 + b0\n",
    "output"
   ]
  }
 ],
 "metadata": {
  "kernelspec": {
   "display_name": "datasci",
   "language": "python",
   "name": "python3"
  },
  "language_info": {
   "codemirror_mode": {
    "name": "ipython",
    "version": 3
   },
   "file_extension": ".py",
   "mimetype": "text/x-python",
   "name": "python",
   "nbconvert_exporter": "python",
   "pygments_lexer": "ipython3",
   "version": "3.10.6"
  },
  "orig_nbformat": 4
 },
 "nbformat": 4,
 "nbformat_minor": 2
}
