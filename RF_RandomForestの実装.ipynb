{
  "cells": [
    {
      "attachments": {},
      "cell_type": "markdown",
      "metadata": {},
      "source": [
        "# RF (Random Forest; ランダムフォレスト)"
      ]
    },
    {
      "cell_type": "code",
      "execution_count": 1,
      "metadata": {
        "colab": {
          "base_uri": "https://localhost:8080/"
        },
        "id": "LHARO55yibSN",
        "outputId": "329cd263-95dc-4424-92af-1e964f05efbc"
      },
      "outputs": [],
      "source": [
        "import numpy as np \n",
        "import pandas as pd\n",
        "import scipy\n",
        "from sklearn.tree import DecisionTreeClassifier, DecisionTreeRegressor\n",
        "from sklearn.datasets import load_wine\n",
        "from sklearn.model_selection import train_test_split\n",
        "from sklearn.preprocessing import LabelEncoder\n",
        "from copy import copy\n",
        "from sklearn.ensemble import RandomForestClassifier\n",
        "try:\n",
        "  from palmerpenguins import load_penguins\n",
        "except:\n",
        "  !pip install palmerpenguins\n",
        "  from palmerpenguins import load_penguins\n",
        "\n",
        "\n",
        "SEED = 2023_02_15"
      ]
    },
    {
      "cell_type": "markdown",
      "metadata": {
        "id": "fR-UFq-9WXx0"
      },
      "source": [
        "## データの準備"
      ]
    },
    {
      "cell_type": "code",
      "execution_count": 2,
      "metadata": {
        "colab": {
          "base_uri": "https://localhost:8080/",
          "height": 467
        },
        "id": "wyHOpiLQQIMK",
        "outputId": "07987aba-b56d-444d-d641-37cf8b2f1c21"
      },
      "outputs": [
        {
          "name": "stdout",
          "output_type": "stream",
          "text": [
            "-------Original DataFrame-------------------\n",
            "(344, 8)\n"
          ]
        },
        {
          "data": {
            "text/html": [
              "<div>\n",
              "<style scoped>\n",
              "    .dataframe tbody tr th:only-of-type {\n",
              "        vertical-align: middle;\n",
              "    }\n",
              "\n",
              "    .dataframe tbody tr th {\n",
              "        vertical-align: top;\n",
              "    }\n",
              "\n",
              "    .dataframe thead th {\n",
              "        text-align: right;\n",
              "    }\n",
              "</style>\n",
              "<table border=\"1\" class=\"dataframe\">\n",
              "  <thead>\n",
              "    <tr style=\"text-align: right;\">\n",
              "      <th></th>\n",
              "      <th>species</th>\n",
              "      <th>island</th>\n",
              "      <th>bill_length_mm</th>\n",
              "      <th>bill_depth_mm</th>\n",
              "      <th>flipper_length_mm</th>\n",
              "      <th>body_mass_g</th>\n",
              "      <th>sex</th>\n",
              "      <th>year</th>\n",
              "    </tr>\n",
              "  </thead>\n",
              "  <tbody>\n",
              "    <tr>\n",
              "      <th>0</th>\n",
              "      <td>Adelie</td>\n",
              "      <td>Torgersen</td>\n",
              "      <td>39.1</td>\n",
              "      <td>18.7</td>\n",
              "      <td>181.0</td>\n",
              "      <td>3750.0</td>\n",
              "      <td>male</td>\n",
              "      <td>2007</td>\n",
              "    </tr>\n",
              "    <tr>\n",
              "      <th>1</th>\n",
              "      <td>Adelie</td>\n",
              "      <td>Torgersen</td>\n",
              "      <td>39.5</td>\n",
              "      <td>17.4</td>\n",
              "      <td>186.0</td>\n",
              "      <td>3800.0</td>\n",
              "      <td>female</td>\n",
              "      <td>2007</td>\n",
              "    </tr>\n",
              "    <tr>\n",
              "      <th>2</th>\n",
              "      <td>Adelie</td>\n",
              "      <td>Torgersen</td>\n",
              "      <td>40.3</td>\n",
              "      <td>18.0</td>\n",
              "      <td>195.0</td>\n",
              "      <td>3250.0</td>\n",
              "      <td>female</td>\n",
              "      <td>2007</td>\n",
              "    </tr>\n",
              "    <tr>\n",
              "      <th>3</th>\n",
              "      <td>Adelie</td>\n",
              "      <td>Torgersen</td>\n",
              "      <td>NaN</td>\n",
              "      <td>NaN</td>\n",
              "      <td>NaN</td>\n",
              "      <td>NaN</td>\n",
              "      <td>NaN</td>\n",
              "      <td>2007</td>\n",
              "    </tr>\n",
              "    <tr>\n",
              "      <th>4</th>\n",
              "      <td>Adelie</td>\n",
              "      <td>Torgersen</td>\n",
              "      <td>36.7</td>\n",
              "      <td>19.3</td>\n",
              "      <td>193.0</td>\n",
              "      <td>3450.0</td>\n",
              "      <td>female</td>\n",
              "      <td>2007</td>\n",
              "    </tr>\n",
              "  </tbody>\n",
              "</table>\n",
              "</div>"
            ],
            "text/plain": [
              "  species     island  bill_length_mm  bill_depth_mm  flipper_length_mm  \\\n",
              "0  Adelie  Torgersen            39.1           18.7              181.0   \n",
              "1  Adelie  Torgersen            39.5           17.4              186.0   \n",
              "2  Adelie  Torgersen            40.3           18.0              195.0   \n",
              "3  Adelie  Torgersen             NaN            NaN                NaN   \n",
              "4  Adelie  Torgersen            36.7           19.3              193.0   \n",
              "\n",
              "   body_mass_g     sex  year  \n",
              "0       3750.0    male  2007  \n",
              "1       3800.0  female  2007  \n",
              "2       3250.0  female  2007  \n",
              "3          NaN     NaN  2007  \n",
              "4       3450.0  female  2007  "
            ]
          },
          "metadata": {},
          "output_type": "display_data"
        },
        {
          "name": "stdout",
          "output_type": "stream",
          "text": [
            "-------Preprocessed DataFrame-------------------\n",
            "(333, 8)\n"
          ]
        },
        {
          "data": {
            "text/html": [
              "<div>\n",
              "<style scoped>\n",
              "    .dataframe tbody tr th:only-of-type {\n",
              "        vertical-align: middle;\n",
              "    }\n",
              "\n",
              "    .dataframe tbody tr th {\n",
              "        vertical-align: top;\n",
              "    }\n",
              "\n",
              "    .dataframe thead th {\n",
              "        text-align: right;\n",
              "    }\n",
              "</style>\n",
              "<table border=\"1\" class=\"dataframe\">\n",
              "  <thead>\n",
              "    <tr style=\"text-align: right;\">\n",
              "      <th></th>\n",
              "      <th>species</th>\n",
              "      <th>island</th>\n",
              "      <th>bill_length_mm</th>\n",
              "      <th>bill_depth_mm</th>\n",
              "      <th>flipper_length_mm</th>\n",
              "      <th>body_mass_g</th>\n",
              "      <th>sex</th>\n",
              "      <th>year</th>\n",
              "    </tr>\n",
              "  </thead>\n",
              "  <tbody>\n",
              "    <tr>\n",
              "      <th>0</th>\n",
              "      <td>0</td>\n",
              "      <td>2</td>\n",
              "      <td>39.1</td>\n",
              "      <td>18.7</td>\n",
              "      <td>181.0</td>\n",
              "      <td>3750.0</td>\n",
              "      <td>1</td>\n",
              "      <td>2007</td>\n",
              "    </tr>\n",
              "    <tr>\n",
              "      <th>1</th>\n",
              "      <td>0</td>\n",
              "      <td>2</td>\n",
              "      <td>39.5</td>\n",
              "      <td>17.4</td>\n",
              "      <td>186.0</td>\n",
              "      <td>3800.0</td>\n",
              "      <td>0</td>\n",
              "      <td>2007</td>\n",
              "    </tr>\n",
              "    <tr>\n",
              "      <th>2</th>\n",
              "      <td>0</td>\n",
              "      <td>2</td>\n",
              "      <td>40.3</td>\n",
              "      <td>18.0</td>\n",
              "      <td>195.0</td>\n",
              "      <td>3250.0</td>\n",
              "      <td>0</td>\n",
              "      <td>2007</td>\n",
              "    </tr>\n",
              "    <tr>\n",
              "      <th>4</th>\n",
              "      <td>0</td>\n",
              "      <td>2</td>\n",
              "      <td>36.7</td>\n",
              "      <td>19.3</td>\n",
              "      <td>193.0</td>\n",
              "      <td>3450.0</td>\n",
              "      <td>0</td>\n",
              "      <td>2007</td>\n",
              "    </tr>\n",
              "    <tr>\n",
              "      <th>5</th>\n",
              "      <td>0</td>\n",
              "      <td>2</td>\n",
              "      <td>39.3</td>\n",
              "      <td>20.6</td>\n",
              "      <td>190.0</td>\n",
              "      <td>3650.0</td>\n",
              "      <td>1</td>\n",
              "      <td>2007</td>\n",
              "    </tr>\n",
              "  </tbody>\n",
              "</table>\n",
              "</div>"
            ],
            "text/plain": [
              "   species  island  bill_length_mm  bill_depth_mm  flipper_length_mm  \\\n",
              "0        0       2            39.1           18.7              181.0   \n",
              "1        0       2            39.5           17.4              186.0   \n",
              "2        0       2            40.3           18.0              195.0   \n",
              "4        0       2            36.7           19.3              193.0   \n",
              "5        0       2            39.3           20.6              190.0   \n",
              "\n",
              "   body_mass_g  sex  year  \n",
              "0       3750.0    1  2007  \n",
              "1       3800.0    0  2007  \n",
              "2       3250.0    0  2007  \n",
              "4       3450.0    0  2007  \n",
              "5       3650.0    1  2007  "
            ]
          },
          "metadata": {},
          "output_type": "display_data"
        }
      ],
      "source": [
        "print(\"-------Original DataFrame-------------------\")\n",
        "df = load_penguins()\n",
        "print(df.shape)\n",
        "display(df.head())\n",
        "#display(df.info())\n",
        "\n",
        "print(\"-------Preprocessed DataFrame-------------------\")\n",
        "df = df.dropna()\n",
        "labelencoder = LabelEncoder()\n",
        "df.island = labelencoder.fit_transform(df.island)\n",
        "df.sex = labelencoder.fit_transform(df.sex)\n",
        "df.species = labelencoder.fit_transform(df.species)\n",
        "print(df.shape)\n",
        "display(df.head())\n",
        "\n",
        "X = df.drop(\"species\", axis=1).to_numpy()\n",
        "y = df[\"species\"].to_numpy()\n",
        "X_train,X_test,y_train,y_test=train_test_split(X,y,test_size=0.5,)#stratify=y)"
      ]
    },
    {
      "attachments": {},
      "cell_type": "markdown",
      "metadata": {
        "id": "hIZbBTRvWbsr"
      },
      "source": [
        "## scikit-learnを使った決定木の実験"
      ]
    },
    {
      "cell_type": "code",
      "execution_count": 3,
      "metadata": {
        "colab": {
          "base_uri": "https://localhost:8080/"
        },
        "id": "IjKRdUtoi3t5",
        "outputId": "39d5cf43-530b-452a-8859-38dc12aeed21"
      },
      "outputs": [
        {
          "name": "stdout",
          "output_type": "stream",
          "text": [
            "train_acc=1.0\n",
            "test_acc=0.9341317365269461\n"
          ]
        }
      ],
      "source": [
        "dtc = DecisionTreeClassifier(max_depth=None,random_state=SEED)\n",
        "dtc.fit(X_train,y_train)\n",
        "train_acc=dtc.score(X_train,y_train)\n",
        "test_acc=dtc.score(X_test,y_test)\n",
        "print(f\"{train_acc=}\\n{test_acc=}\")"
      ]
    },
    {
      "attachments": {},
      "cell_type": "markdown",
      "metadata": {},
      "source": [
        "## scikit-learnを使ったRandom Forestの実験"
      ]
    },
    {
      "cell_type": "code",
      "execution_count": 6,
      "metadata": {},
      "outputs": [
        {
          "data": {
            "text/html": [
              "<style>#sk-container-id-1 {color: black;background-color: white;}#sk-container-id-1 pre{padding: 0;}#sk-container-id-1 div.sk-toggleable {background-color: white;}#sk-container-id-1 label.sk-toggleable__label {cursor: pointer;display: block;width: 100%;margin-bottom: 0;padding: 0.3em;box-sizing: border-box;text-align: center;}#sk-container-id-1 label.sk-toggleable__label-arrow:before {content: \"▸\";float: left;margin-right: 0.25em;color: #696969;}#sk-container-id-1 label.sk-toggleable__label-arrow:hover:before {color: black;}#sk-container-id-1 div.sk-estimator:hover label.sk-toggleable__label-arrow:before {color: black;}#sk-container-id-1 div.sk-toggleable__content {max-height: 0;max-width: 0;overflow: hidden;text-align: left;background-color: #f0f8ff;}#sk-container-id-1 div.sk-toggleable__content pre {margin: 0.2em;color: black;border-radius: 0.25em;background-color: #f0f8ff;}#sk-container-id-1 input.sk-toggleable__control:checked~div.sk-toggleable__content {max-height: 200px;max-width: 100%;overflow: auto;}#sk-container-id-1 input.sk-toggleable__control:checked~label.sk-toggleable__label-arrow:before {content: \"▾\";}#sk-container-id-1 div.sk-estimator input.sk-toggleable__control:checked~label.sk-toggleable__label {background-color: #d4ebff;}#sk-container-id-1 div.sk-label input.sk-toggleable__control:checked~label.sk-toggleable__label {background-color: #d4ebff;}#sk-container-id-1 input.sk-hidden--visually {border: 0;clip: rect(1px 1px 1px 1px);clip: rect(1px, 1px, 1px, 1px);height: 1px;margin: -1px;overflow: hidden;padding: 0;position: absolute;width: 1px;}#sk-container-id-1 div.sk-estimator {font-family: monospace;background-color: #f0f8ff;border: 1px dotted black;border-radius: 0.25em;box-sizing: border-box;margin-bottom: 0.5em;}#sk-container-id-1 div.sk-estimator:hover {background-color: #d4ebff;}#sk-container-id-1 div.sk-parallel-item::after {content: \"\";width: 100%;border-bottom: 1px solid gray;flex-grow: 1;}#sk-container-id-1 div.sk-label:hover label.sk-toggleable__label {background-color: #d4ebff;}#sk-container-id-1 div.sk-serial::before {content: \"\";position: absolute;border-left: 1px solid gray;box-sizing: border-box;top: 0;bottom: 0;left: 50%;z-index: 0;}#sk-container-id-1 div.sk-serial {display: flex;flex-direction: column;align-items: center;background-color: white;padding-right: 0.2em;padding-left: 0.2em;position: relative;}#sk-container-id-1 div.sk-item {position: relative;z-index: 1;}#sk-container-id-1 div.sk-parallel {display: flex;align-items: stretch;justify-content: center;background-color: white;position: relative;}#sk-container-id-1 div.sk-item::before, #sk-container-id-1 div.sk-parallel-item::before {content: \"\";position: absolute;border-left: 1px solid gray;box-sizing: border-box;top: 0;bottom: 0;left: 50%;z-index: -1;}#sk-container-id-1 div.sk-parallel-item {display: flex;flex-direction: column;z-index: 1;position: relative;background-color: white;}#sk-container-id-1 div.sk-parallel-item:first-child::after {align-self: flex-end;width: 50%;}#sk-container-id-1 div.sk-parallel-item:last-child::after {align-self: flex-start;width: 50%;}#sk-container-id-1 div.sk-parallel-item:only-child::after {width: 0;}#sk-container-id-1 div.sk-dashed-wrapped {border: 1px dashed gray;margin: 0 0.4em 0.5em 0.4em;box-sizing: border-box;padding-bottom: 0.4em;background-color: white;}#sk-container-id-1 div.sk-label label {font-family: monospace;font-weight: bold;display: inline-block;line-height: 1.2em;}#sk-container-id-1 div.sk-label-container {text-align: center;}#sk-container-id-1 div.sk-container {/* jupyter's `normalize.less` sets `[hidden] { display: none; }` but bootstrap.min.css set `[hidden] { display: none !important; }` so we also need the `!important` here to be able to override the default hidden behavior on the sphinx rendered scikit-learn.org. See: https://github.com/scikit-learn/scikit-learn/issues/21755 */display: inline-block !important;position: relative;}#sk-container-id-1 div.sk-text-repr-fallback {display: none;}</style><div id=\"sk-container-id-1\" class=\"sk-top-container\"><div class=\"sk-text-repr-fallback\"><pre>RandomForestClassifier(n_jobs=-1, random_state=20230215)</pre><b>In a Jupyter environment, please rerun this cell to show the HTML representation or trust the notebook. <br />On GitHub, the HTML representation is unable to render, please try loading this page with nbviewer.org.</b></div><div class=\"sk-container\" hidden><div class=\"sk-item\"><div class=\"sk-estimator sk-toggleable\"><input class=\"sk-toggleable__control sk-hidden--visually\" id=\"sk-estimator-id-1\" type=\"checkbox\" checked><label for=\"sk-estimator-id-1\" class=\"sk-toggleable__label sk-toggleable__label-arrow\">RandomForestClassifier</label><div class=\"sk-toggleable__content\"><pre>RandomForestClassifier(n_jobs=-1, random_state=20230215)</pre></div></div></div></div></div>"
            ],
            "text/plain": [
              "RandomForestClassifier(n_jobs=-1, random_state=20230215)"
            ]
          },
          "execution_count": 6,
          "metadata": {},
          "output_type": "execute_result"
        }
      ],
      "source": [
        "rfc = RandomForestClassifier(\n",
        "    n_estimators=100, # 弱学習器を何個作るか\n",
        "    criterion=\"gini\", # 損失関数をginiやentropyから指定\n",
        "    max_depth=None, # 弱学習器として使った決定木の深さ上限\n",
        "    max_features=\"sqrt\", # ブートストラップサンプルの特徴数。sqrtはsqrt(n_features)\n",
        "    n_jobs=-1, # 何個並列で計算するか。-1は使えるコアを全て使う。\n",
        "    random_state=SEED, # 擬似乱数のSEED\n",
        ")\n",
        "\n",
        "rfc.fit(X_train,y_train)"
      ]
    },
    {
      "cell_type": "code",
      "execution_count": 8,
      "metadata": {},
      "outputs": [
        {
          "data": {
            "text/plain": [
              "array([0, 0, 1, 2, 1, 0, 0, 2, 1, 0, 2, 2, 2, 0, 0, 0, 0, 0, 0, 0, 2, 0,\n",
              "       0, 2, 0, 2, 2, 2, 2, 2, 2, 1, 0, 2, 1, 0, 1, 1, 2, 0, 0, 2, 2, 2,\n",
              "       2, 1, 2, 1, 1, 0, 2, 0, 2, 1, 0, 1, 1, 2, 0, 1, 0, 0, 0, 1, 0, 0,\n",
              "       0, 1, 2, 1, 1, 0, 2, 1, 2, 2, 0, 0, 0, 2, 0, 2, 1, 0, 0, 2, 1, 2,\n",
              "       2, 0, 1, 1, 2, 0, 0, 2, 2, 0, 2, 2, 1, 2, 0, 1, 0, 1, 0, 0, 1, 2,\n",
              "       0, 1, 1, 1, 0, 2, 0, 2, 2, 0, 0, 2, 0, 1, 1, 2, 0, 2, 0, 0, 1, 2,\n",
              "       0, 0, 2, 1, 0, 1, 0, 2, 2, 0, 1, 0, 2, 0, 2, 2, 2, 0, 0, 1, 0, 0,\n",
              "       2, 2, 0, 2, 0, 0, 2, 2, 1, 1, 2, 2, 0])"
            ]
          },
          "execution_count": 8,
          "metadata": {},
          "output_type": "execute_result"
        }
      ],
      "source": [
        "rfc.predict(X_test)"
      ]
    },
    {
      "cell_type": "code",
      "execution_count": 9,
      "metadata": {},
      "outputs": [
        {
          "data": {
            "text/plain": [
              "0.9760479041916168"
            ]
          },
          "execution_count": 9,
          "metadata": {},
          "output_type": "execute_result"
        }
      ],
      "source": [
        "rfc.score(X_test,y_test)"
      ]
    },
    {
      "attachments": {},
      "cell_type": "markdown",
      "metadata": {
        "id": "jrQwSn4Tw2Sn"
      },
      "source": [
        "## RandomForestClassifierのシンプルな実装例\n",
        "NumPyを使ってRandom Forest Classifierを実装しましょう。ただし、sklearnのDecisionTreeClassifierを使います。"
      ]
    },
    {
      "cell_type": "code",
      "execution_count": 21,
      "metadata": {
        "id": "epA-c6l0i3rQ"
      },
      "outputs": [],
      "source": [
        "import numpy as np \n",
        "import scipy\n",
        "from sklearn.tree import DecisionTreeClassifier\n",
        "from copy import copy\n",
        "\n",
        "# 最頻値を求める\n",
        "def mode(Mat: np.ndarray, axis: int = None) -> np.ndarray:\n",
        "    return scipy.stats.mode(Mat, axis=axis, keepdims=False).mode\n",
        "\n",
        "def get_bootstrap_sample_indices(rng:np.random._generator.Generator, X:np.ndarray, bootstrap_sample_size:int)->np.ndarray:\n",
        "    \"\"\"ブートストラップサンプルを一つ作る\n",
        "\n",
        "    Args:\n",
        "        rng (np.random._generator.Generator): 擬似乱数生成器\n",
        "        X (np.ndarray): 二次元配列\n",
        "        bootstrap_sample_size (int): サンプルサイズ\n",
        "\n",
        "    Returns:\n",
        "        np.ndarray: サンプルのindexを持った一次元配列\n",
        "    \"\"\"\n",
        "    return rng.integers(low=0, high=X.shape[0],size=bootstrap_sample_size,)\n",
        "\n",
        "\n",
        "class MyRandomForestClassifier:\n",
        "    def __init__(self,\n",
        "                 bootstrap_sample_size: int,\n",
        "                 max_features: int = None,\n",
        "                 n_estimators: int = 100,\n",
        "                 rng: np.random._generator.Generator = np.random.default_rng(\n",
        "                     np.random.randint(2**20)),\n",
        "                 **estimator_params,\n",
        "                 ):\n",
        "        self.n_estimators = n_estimators\n",
        "        self.bootstrap_sample_size = bootstrap_sample_size\n",
        "        self.max_features = max_features\n",
        "        self.rng = rng\n",
        "        self.estimator_params = estimator_params\n",
        "        self.estimators_ = []\n",
        "        self.selected_features_ = []\n",
        "        self.is_fitted = False\n",
        "\n",
        "    def fit(self, X, y):\n",
        "        # ブートストラップサンプルを作成\n",
        "        for _x, _y in self.get_bootstrap_sample(X, y):\n",
        "            # 弱識別器の訓練を行う\n",
        "            _estimator = DecisionTreeClassifier(**self.estimator_params,\n",
        "                                         random_state=self.rng.integers(0, 2**20),)\n",
        "            _estimator.fit(_x, _y)\n",
        "            # 学習済み弱識別器をリストに保存\n",
        "            self.estimators_.append(_estimator)\n",
        "        self.is_fitted = True\n",
        "        return self\n",
        "\n",
        "    def get_bootstrap_sample(self, X: np.ndarray, y: np.ndarray):\n",
        "        \"\"\"ブートストラップサンプルを作成し、データとラベルのペアを一つ一つ返すメソッド\n",
        "        \"\"\"\n",
        "        if self.is_fitted:\n",
        "            print(\"warning! 2回目以降のfitです。bootstrap sampleの作り方が初期化されます。\")\n",
        "\n",
        "        for _ in range(self.n_estimators):\n",
        "            _sample_data_indices = get_bootstrap_sample_indices(self.rng,X,self.bootstrap_sample_size)\n",
        "            \n",
        "            # ランダムに特徴を選択する\n",
        "            _feature_indices = np.arange(X.shape[1])\n",
        "            if self.max_features is not None:\n",
        "                self.rng.shuffle(_feature_indices)\n",
        "                _feature_indices = _feature_indices[:self.max_features]\n",
        "            self.selected_features_.append(_feature_indices)\n",
        "\n",
        "            # ブートストラップサンプルを切り出す\n",
        "            X_sample = X[_sample_data_indices][:, _feature_indices]\n",
        "            y_sample = y[_sample_data_indices]\n",
        "            yield X_sample, y_sample\n",
        "\n",
        "    def predict(self, X):\n",
        "        assert self.is_fitted, \"このメソッドは訓練後に利用してください。\"\n",
        "        _pred_labels = []\n",
        "\n",
        "        for _index in range(len(self.estimators_)):\n",
        "            # _index番目の弱識別器を使ってXのラベルを推論する\n",
        "            _estimator = self.estimators_[_index]\n",
        "            _feature_indices = self.selected_features_[_index]\n",
        "            _pred_labels.append(_estimator.predict(X[:, _feature_indices]))\n",
        "        _pred_labels = np.vstack(_pred_labels)\n",
        "\n",
        "        # 多数決で予測値を決定する（_pred_labelsの各列の最頻値を返す)\n",
        "        pred_labels = mode(_pred_labels, axis=0)\n",
        "        return pred_labels\n",
        "\n",
        "    def score(self, X, y):\n",
        "        \"正答率を計算する\"\n",
        "        assert self.is_fitted, \"このメソッドは訓練後に利用してください。\"\n",
        "        _pred_labels = self.predict(X,)\n",
        "        return (_pred_labels == y).sum()/y.size"
      ]
    },
    {
      "cell_type": "code",
      "execution_count": 22,
      "metadata": {
        "colab": {
          "base_uri": "https://localhost:8080/"
        },
        "id": "3gABw94OMq-I",
        "outputId": "f5b832a3-f427-4418-8c93-6064c5408243"
      },
      "outputs": [
        {
          "name": "stdout",
          "output_type": "stream",
          "text": [
            "train_acc=1.0\n",
            "test_acc=0.9820359281437125\n"
          ]
        }
      ],
      "source": [
        "rf = MyRandomForestClassifier(\n",
        "    bootstrap_sample_size=int(X_train.shape[0]*0.9),\n",
        "    max_features = int(X_train.shape[1]*0.8),\n",
        "    n_estimators = 100,\n",
        "    rng = np.random.default_rng(SEED),\n",
        "    max_depth=None,\n",
        "    )\n",
        "rf.fit(X_train,y_train)\n",
        "\n",
        "train_acc=rf.score(X_train,y_train)\n",
        "test_acc=rf.score(X_test,y_test)\n",
        "print(f\"{train_acc=}\\n{test_acc=}\")"
      ]
    },
    {
      "attachments": {},
      "cell_type": "markdown",
      "metadata": {},
      "source": [
        "## RandomForestRegressorのシンプルな実装例\n",
        "NumPyを使ってRandom Forest Regressorを実装しましょう。ただし、sklearnのDecisionTreeRegressorを使います。"
      ]
    },
    {
      "cell_type": "code",
      "execution_count": 25,
      "metadata": {
        "id": "lgG4iQoru1nr"
      },
      "outputs": [],
      "source": [
        "class MyRandomForestRegressor:\n",
        "    def __init__(self,\n",
        "                 bootstrap_sample_size: int,\n",
        "                 max_features: int = None,\n",
        "                 n_estimators: int = 100,\n",
        "                 rng: np.random._generator.Generator = np.random.default_rng(\n",
        "                     np.random.randint(2**20)),\n",
        "                 **estimator_params,\n",
        "                 ):\n",
        "        self.n_estimators = n_estimators\n",
        "        self.bootstrap_sample_size = bootstrap_sample_size\n",
        "        self.max_features = max_features\n",
        "        self.rng = rng\n",
        "        self.estimator_params = estimator_params\n",
        "        self.estimators_ = []\n",
        "        self.selected_features_ = []\n",
        "        self.is_fitted = False\n",
        "\n",
        "    def fit(self, X, y):\n",
        "        # ブートストラップサンプルを作成\n",
        "        for _x, _y in self.get_bootstrap_sample(X, y):\n",
        "            # 弱識別器の訓練を行う\n",
        "            _estimator = DecisionTreeRegressor(**self.estimator_params,\n",
        "                                         random_state=self.rng.integers(0, 2**20),)\n",
        "            _estimator.fit(_x, _y)\n",
        "            # 学習済み弱識別器をリストに保存\n",
        "            self.estimators_.append(_estimator)\n",
        "        self.is_fitted = True\n",
        "        return self\n",
        "\n",
        "    def get_bootstrap_sample(self, X: np.ndarray, y: np.ndarray):\n",
        "        \"\"\"ブートストラップサンプルを作成し、データとラベルのペアを一つ一つ返すメソッド\n",
        "        \"\"\"\n",
        "        if self.is_fitted:\n",
        "            print(\"warning! 2回目以降のfitです。bootstrap sampleの作り方が初期化されます。\")\n",
        "\n",
        "        for _ in range(self.n_estimators):\n",
        "            _sample_data_indices = get_bootstrap_sample_indices(self.rng,X,self.bootstrap_sample_size)\n",
        "            \n",
        "            # ランダムに特徴を選択する\n",
        "            _feature_indices = np.arange(X.shape[1])\n",
        "            if self.max_features is not None:\n",
        "                self.rng.shuffle(_feature_indices)\n",
        "                _feature_indices = _feature_indices[:self.max_features]\n",
        "            self.selected_features_.append(_feature_indices)\n",
        "\n",
        "            # ブートストラップサンプルを切り出す\n",
        "            X_sample = X[_sample_data_indices][:, _feature_indices]\n",
        "            y_sample = y[_sample_data_indices]\n",
        "            yield X_sample, y_sample\n",
        "\n",
        "    def predict(self, X):\n",
        "        assert self.is_fitted, \"このメソッドは訓練後に利用してください。\"\n",
        "        _pred_labels = []\n",
        "\n",
        "        for _index in range(len(self.estimators_)):\n",
        "            # _index番目の弱識別器を使ってXのラベルを推論する\n",
        "            _estimator = self.estimators_[_index]\n",
        "            _feature_indices = self.selected_features_[_index]\n",
        "            _pred_labels.append(_estimator.predict(X[:, _feature_indices]))\n",
        "        _pred_labels = np.vstack(_pred_labels)\n",
        "\n",
        "        # 平均で予測値を決定する（_pred_labelsの各列の平均を返す)\n",
        "        pred_labels = np.mean(_pred_labels, axis=0)\n",
        "        return pred_labels\n",
        "\n",
        "    def score(self, X, y):\n",
        "        \"正答率を計算する\"\n",
        "        assert self.is_fitted, \"このメソッドは訓練後に利用してください。\"\n",
        "        _pred_labels = self.predict(X,)\n",
        "        return (_pred_labels == y).sum()/y.size"
      ]
    },
    {
      "cell_type": "code",
      "execution_count": null,
      "metadata": {},
      "outputs": [],
      "source": []
    }
  ],
  "metadata": {
    "colab": {
      "provenance": []
    },
    "kernelspec": {
      "display_name": "Python 3",
      "name": "python3"
    },
    "language_info": {
      "codemirror_mode": {
        "name": "ipython",
        "version": 3
      },
      "file_extension": ".py",
      "mimetype": "text/x-python",
      "name": "python",
      "nbconvert_exporter": "python",
      "pygments_lexer": "ipython3",
      "version": "3.10.6"
    }
  },
  "nbformat": 4,
  "nbformat_minor": 0
}
