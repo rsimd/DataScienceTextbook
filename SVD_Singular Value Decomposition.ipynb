{
 "cells": [
  {
   "attachments": {},
   "cell_type": "markdown",
   "metadata": {},
   "source": [
    "# SVD (Singular Value Decomposition; 特異値分解)\n",
    "\n",
    "https://ohke.hateblo.jp/entry/2017/12/14/230500\n"
   ]
  },
  {
   "attachments": {},
   "cell_type": "markdown",
   "metadata": {},
   "source": [
    "## SVDとは"
   ]
  },
  {
   "cell_type": "markdown",
   "metadata": {},
   "source": []
  },
  {
   "attachments": {},
   "cell_type": "markdown",
   "metadata": {},
   "source": [
    "## scikit-learnを使った実験"
   ]
  },
  {
   "cell_type": "code",
   "execution_count": 1,
   "metadata": {},
   "outputs": [],
   "source": [
    "import numpy as np\n",
    "import pandas as pd\n",
    "import plotly.express as px \n",
    "from sklearn.datasets import load_iris\n",
    "#from sklearn.decomposition import TruncatedSVD\n",
    "from scipy.linalg import svd\n",
    "from sklearn.exceptions import NotFittedError"
   ]
  },
  {
   "cell_type": "code",
   "execution_count": 3,
   "metadata": {},
   "outputs": [
    {
     "data": {
      "text/html": [
       "<div>\n",
       "<style scoped>\n",
       "    .dataframe tbody tr th:only-of-type {\n",
       "        vertical-align: middle;\n",
       "    }\n",
       "\n",
       "    .dataframe tbody tr th {\n",
       "        vertical-align: top;\n",
       "    }\n",
       "\n",
       "    .dataframe thead th {\n",
       "        text-align: right;\n",
       "    }\n",
       "</style>\n",
       "<table border=\"1\" class=\"dataframe\">\n",
       "  <thead>\n",
       "    <tr style=\"text-align: right;\">\n",
       "      <th></th>\n",
       "      <th>sepal length (cm)</th>\n",
       "      <th>sepal width (cm)</th>\n",
       "      <th>petal length (cm)</th>\n",
       "      <th>petal width (cm)</th>\n",
       "      <th>target</th>\n",
       "    </tr>\n",
       "  </thead>\n",
       "  <tbody>\n",
       "    <tr>\n",
       "      <th>0</th>\n",
       "      <td>5.1</td>\n",
       "      <td>3.5</td>\n",
       "      <td>1.4</td>\n",
       "      <td>0.2</td>\n",
       "      <td>0</td>\n",
       "    </tr>\n",
       "    <tr>\n",
       "      <th>1</th>\n",
       "      <td>4.9</td>\n",
       "      <td>3.0</td>\n",
       "      <td>1.4</td>\n",
       "      <td>0.2</td>\n",
       "      <td>0</td>\n",
       "    </tr>\n",
       "    <tr>\n",
       "      <th>2</th>\n",
       "      <td>4.7</td>\n",
       "      <td>3.2</td>\n",
       "      <td>1.3</td>\n",
       "      <td>0.2</td>\n",
       "      <td>0</td>\n",
       "    </tr>\n",
       "    <tr>\n",
       "      <th>3</th>\n",
       "      <td>4.6</td>\n",
       "      <td>3.1</td>\n",
       "      <td>1.5</td>\n",
       "      <td>0.2</td>\n",
       "      <td>0</td>\n",
       "    </tr>\n",
       "    <tr>\n",
       "      <th>4</th>\n",
       "      <td>5.0</td>\n",
       "      <td>3.6</td>\n",
       "      <td>1.4</td>\n",
       "      <td>0.2</td>\n",
       "      <td>0</td>\n",
       "    </tr>\n",
       "  </tbody>\n",
       "</table>\n",
       "</div>"
      ],
      "text/plain": [
       "   sepal length (cm)  sepal width (cm)  petal length (cm)  petal width (cm)  \\\n",
       "0                5.1               3.5                1.4               0.2   \n",
       "1                4.9               3.0                1.4               0.2   \n",
       "2                4.7               3.2                1.3               0.2   \n",
       "3                4.6               3.1                1.5               0.2   \n",
       "4                5.0               3.6                1.4               0.2   \n",
       "\n",
       "   target  \n",
       "0       0  \n",
       "1       0  \n",
       "2       0  \n",
       "3       0  \n",
       "4       0  "
      ]
     },
     "execution_count": 3,
     "metadata": {},
     "output_type": "execute_result"
    }
   ],
   "source": [
    "df = load_iris(as_frame=True)[\"frame\"]\n",
    "df.head()"
   ]
  },
  {
   "cell_type": "markdown",
   "metadata": {},
   "source": []
  },
  {
   "attachments": {},
   "cell_type": "markdown",
   "metadata": {},
   "source": [
    "## NumPyを使って実装する"
   ]
  },
  {
   "cell_type": "code",
   "execution_count": 42,
   "metadata": {},
   "outputs": [
    {
     "name": "stdout",
     "output_type": "stream",
     "text": [
      "(150, 4) (4,) (4, 4)\n",
      "(150, 150) (4,) (4, 4)\n"
     ]
    }
   ],
   "source": [
    "class MySVD():\n",
    "    def fit_transform(self, X,y=None):\n",
    "        \"\"\" X = U\\Sigma V^T\n",
    "        U: (M,M) 左特異行列, \n",
    "        Σ: (N,M) 対角成分がXの特異値, \n",
    "        V: (N,N) 右特異行列, \n",
    "        \"\"\"\n",
    "        # C^T@Cの固有値と固有ベクトル\n",
    "        XtX_eigen_values, XtX_eigen_vectors = np.linalg.eig(X.T@X) # (F,),(F,F)←(F,F)=(D,F).T@(D,F)\n",
    "        # 特異値\n",
    "        singular_values = XtX_eigen_values**(1/2) # (F,)\n",
    "        sorted_singular_index = np.argsort(singular_values)[::-1] # (F,)\n",
    "        # 特異値行列\n",
    "        sigma = np.diag(singular_values[sorted_singular_index]) # (F,F) 対角要素のみ値が入っている\n",
    "        # 右特異行列\n",
    "        V = XtX_eigen_vectors[:,sorted_singular_index] #(F,F)\n",
    "        # 左特異行列\n",
    "        U = []\n",
    "        for i in range(len(sigma_diag := sigma.diagonal())): # (F,)\n",
    "            _u = (X @ V[:,i]) / sigma_diag[i] # (D,)=((D,F)@(F,))/(1,)\n",
    "            U.append(_u)\n",
    "        U = np.array(U).T # \n",
    "        return U, sigma_diag, V.T\n",
    "    \n",
    "X = df.drop(\"target\", axis=1)\n",
    "myoutput = MySVD().fit_transform(X)\n",
    "output = svd(X)\n",
    "print(myoutput[0].shape,myoutput[1].shape,myoutput[2].shape)\n",
    "print(output[0].shape,output[1].shape,output[2].shape)"
   ]
  },
  {
   "cell_type": "code",
   "execution_count": 37,
   "metadata": {},
   "outputs": [
    {
     "data": {
      "text/plain": [
       "(150,)"
      ]
     },
     "execution_count": 37,
     "metadata": {},
     "output_type": "execute_result"
    }
   ],
   "source": [
    "a = X@myoutput[2].T[:,1]\n",
    "a.shape"
   ]
  },
  {
   "cell_type": "code",
   "execution_count": 43,
   "metadata": {},
   "outputs": [
    {
     "data": {
      "text/plain": [
       "(150, 4)"
      ]
     },
     "execution_count": 43,
     "metadata": {},
     "output_type": "execute_result"
    }
   ],
   "source": [
    "X.shape"
   ]
  },
  {
   "cell_type": "code",
   "execution_count": 28,
   "metadata": {},
   "outputs": [
    {
     "data": {
      "text/plain": [
       "array([[-0.75110816, -0.38008617, -0.51300886, -0.16790754],\n",
       "       [ 0.2841749 ,  0.5467445 , -0.70866455, -0.34367081],\n",
       "       [ 0.50215472, -0.67524332, -0.05916621, -0.53701625],\n",
       "       [ 0.32081425, -0.31725607, -0.48074507,  0.75187165]])"
      ]
     },
     "execution_count": 28,
     "metadata": {},
     "output_type": "execute_result"
    }
   ],
   "source": [
    "output[2]"
   ]
  },
  {
   "cell_type": "code",
   "execution_count": 45,
   "metadata": {},
   "outputs": [
    {
     "data": {
      "text/plain": [
       "array([95.95991387, 17.76103366])"
      ]
     },
     "execution_count": 45,
     "metadata": {},
     "output_type": "execute_result"
    }
   ],
   "source": [
    "output[1][:2]"
   ]
  },
  {
   "cell_type": "code",
   "execution_count": null,
   "metadata": {},
   "outputs": [],
   "source": []
  }
 ],
 "metadata": {
  "kernelspec": {
   "display_name": "datasci",
   "language": "python",
   "name": "python3"
  },
  "language_info": {
   "codemirror_mode": {
    "name": "ipython",
    "version": 3
   },
   "file_extension": ".py",
   "mimetype": "text/x-python",
   "name": "python",
   "nbconvert_exporter": "python",
   "pygments_lexer": "ipython3",
   "version": "3.10.6"
  },
  "orig_nbformat": 4,
  "vscode": {
   "interpreter": {
    "hash": "a79fb6e5a930026e4265f7488905aff41e03ef0de0bdcf381b857b9bad06edd5"
   }
  }
 },
 "nbformat": 4,
 "nbformat_minor": 2
}
