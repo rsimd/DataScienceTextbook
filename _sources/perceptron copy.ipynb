{
 "cells": [
  {
   "attachments": {},
   "cell_type": "markdown",
   "metadata": {},
   "source": [
    "# パーセプトロン"
   ]
  },
  {
   "attachments": {},
   "cell_type": "markdown",
   "metadata": {},
   "source": [
    "このノートで使うパッケージをimportしておきましょう．"
   ]
  },
  {
   "cell_type": "code",
   "execution_count": 352,
   "metadata": {},
   "outputs": [],
   "source": [
    "# packageのimport\n",
    "from typing import Any, Union, Callable, Type, TypeVar\n",
    "import numpy as np \n",
    "import numpy.typing as npt\n",
    "import pandas as pd \n",
    "import matplotlib.pyplot as plt \n",
    "import plotly.express as px\n",
    "import seaborn as sns\n",
    "import japanize_matplotlib"
   ]
  },
  {
   "cell_type": "code",
   "execution_count": 353,
   "metadata": {},
   "outputs": [],
   "source": [
    "plt.style.use(\"bmh\")"
   ]
  },
  {
   "attachments": {},
   "cell_type": "markdown",
   "metadata": {},
   "source": [
    "## 動物の神経系との関係"
   ]
  },
  {
   "attachments": {},
   "cell_type": "markdown",
   "metadata": {},
   "source": [
    "人工ニューラルネットワーク（ANN; Artificial Neural Network）は，生物の学習メカニズムを模倣した機械学習の一手法として知られています．この人工ニューラルネットワークは単にニューラルネットワークとも呼ばれていますが，人間を初めとした動物の脳内に存在するニューラルネットワークをそのまま不足無く再現した数理モデルではありません．以下に生物学的なニューロン（ニューラルネットワークを構成する細胞）の構造を示します．"
   ]
  },
  {
   "attachments": {},
   "cell_type": "markdown",
   "metadata": {},
   "source": [
    "> ![Neuron Diagram & Types | Ask A Biologist https://askabiologist.asu.edu/neuron-anatomy ](https://askabiologist.asu.edu/sites/default/files/resources/articles/neuron_anatomy.jpg)  \n",
    "生物学的なニューロンの構造．出典： [Neuron Diagram & Types | Ask A Biologist](https://askabiologist.asu.edu/neuron-anatomy)"
   ]
  },
  {
   "attachments": {},
   "cell_type": "markdown",
   "metadata": {},
   "source": [
    ">![「ディープラーニングがわかる数学入門」P.11](https://starpentagon.net/analytics/wp-content/uploads/2017/09/neuron.png)  \n",
    "> 生物学的なニューロンの信号伝搬の仕組み．出典: 「[ディープラーニングがわかる数学入門](https://www.amazon.co.jp/%E3%83%87%E3%82%A3%E3%83%BC%E3%83%97%E3%83%A9%E3%83%BC%E3%83%8B%E3%83%B3%E3%82%B0%E3%81%8C%E3%82%8F%E3%81%8B%E3%82%8B%E6%95%B0%E5%AD%A6%E5%85%A5%E9%96%80-%E6%B6%8C%E4%BA%95-%E8%89%AF%E5%B9%B8/dp/477418814X)」P.11 "
   ]
  },
  {
   "attachments": {},
   "cell_type": "markdown",
   "metadata": {},
   "source": [
    "> ![](https://cz-cdn.shoeisha.jp/static/images/article/13501/13501_02.jpg)  \n",
    "人工ニューロンの一例．出典：[ディープラーニングと脳の関係とは？ 人工ニューロンや再帰型ニューラルネットワークを解説|CodeZine（コードジン）](https://codezine.jp/article/detail/13501)  \n",
    "> また，この記事は『[あたらしい脳科学と人工知能の教科書](https://www.amazon.co.jp/dp/479816495X?tag=searticle1-22)』の「Chapter4　脳と人工知能」から一部を抜粋し編集されたもの．"
   ]
  },
  {
   "attachments": {},
   "cell_type": "markdown",
   "metadata": {},
   "source": [
    "ニューロンはニューラルネットワークを構成する要素であり，これが何個も集まり多層になったものがニューラルネットワークの中でも深層学習（Deep Learning，特にDNN; Deep Neural Network）と呼ばれるものです．この説明だとDeep Learningの説明としては不足ですが，まずはDeep Learning理解ための第一歩なのだと思っていただければ間違いありません．"
   ]
  },
  {
   "attachments": {},
   "cell_type": "markdown",
   "metadata": {},
   "source": [
    "## 単純パーセプトロン"
   ]
  },
  {
   "attachments": {},
   "cell_type": "markdown",
   "metadata": {},
   "source": [
    "### 単純パーセプトロンの基礎"
   ]
  },
  {
   "attachments": {},
   "cell_type": "markdown",
   "metadata": {},
   "source": [
    "単純パーセプトロンは上記で示した図のような数理モデルです．ニューロンは外部刺激を受けた際に，入力値がある閾値（\"しきいち\"と読みます．別の分野では\"いきち\"と読ませる場合もあり，英語ではthresholdと書きます）を超えた際に，次のニューロンに対して出力信号を返します．ここではこれを使って，二値クラス分類を行う例を考えていきます．\n",
    "\n",
    "単純パーセプトロンの数理モデルを導入するために，まずはデータの準備を行います．個々の訓練データは$(X,y)$という形をしているとします．ここで$X=[x_1,\\cdots, x_d]$であり$X$は$d$個の特徴量変数を含んだ行ベクトルです．（通常列ベクトルで書く方が多いのかもしれませんが，[PyTorch](https://pytorch.org/)を初めとしたPythonのDeep Learning Frameworkとの親和性を考えてこのようにしています．）$y \\in \\{0,1\\}$は2値のクラス変数の観測値です．\n",
    "\n",
    "```{hint}\n",
    "統計学の分野では特徴量を説明変数，クラス変数を目的変数とも呼びます．\n",
    "```\n",
    "ここで単純パーセプトロンの模式図を再掲します．\n",
    "> ![](https://cz-cdn.shoeisha.jp/static/images/article/13501/13501_02.jpg)  \n",
    "人工ニューロンの一例．ただし，図は[ディープラーニングと脳の関係とは？ 人工ニューロンや再帰型ニューラルネットワークを解説|CodeZine（コードジン）](https://codezine.jp/article/detail/13501) より引用した．また，この記事は『[あたらしい脳科学と人工知能の教科書](https://www.amazon.co.jp/dp/479816495X?tag=searticle1-22)』の「Chapter4　脳と人工知能」から一部を抜粋し編集されたもの．\n",
    "\n",
    "この図における\"入力\"に相当するのが$X$です．また，図のそれぞれの入力は，そのデータの特徴量に対応し，この入力の数は特徴量の数に設定します．それと同じ数だけある\"重み\"に相当するのは$W=[w_1,\\cdots, w_d]$です．これはそれぞれの入力の重要度を重み付けるために用いられるので， __結合重み__ や単に __重み__ と言われます．パーセプトロンでは入力と，これにそれぞれ対応した重みがあり，これらの重み付き和がニューロンに入ります．その後何かしらの活性化関数に適用することで出力$\\hat{y}\\in \\{0,1\\}$を得ます．\n",
    "\n",
    "```{hint}\n",
    "$\\hat{y}$はワイハット，またはワイカレットなどと読みます．\n",
    "```\n",
    "\n",
    "\n",
    "ここまでを式で表してみます．\n",
    "\n",
    "$$\n",
    "\\hat{y} = \\operatorname{sign}\\{W\\cdot X\\}=\\operatorname{sign}\\{\\sum_{j=1}^{d}w_j x_j\\}\n",
    "$$\n",
    "\n",
    "ここで活性化関数として，[符号関数$\\operatorname{sign}$](https://mathlandscape.com/sign-function/)（この他に$\\operatorname{step}$関数とも呼ばれます．）を使います．$\\operatorname{sign}$の定義は以下：\n",
    "\n",
    "$$\n",
    "\\operatorname{sign}\\{x\\}=\\operatorname{sgn}\\{x\\}= \n",
    "    \\begin{cases}\n",
    "    1 &  \\text{if}~ x > 0  \\\\ \n",
    "    0 &  \\text{if}~ x \\leq 0 \n",
    "    \\end{cases}\n",
    "$$\n",
    "\n",
    "ただし，ここで$x$は適当な入力値という意味であり，$X$とは関係が無いことに注意してください．また，ここでは等号がどちらのcaseについているのかについても然程重要ではありません．（0以下の場合に0を返すのか-1を返すのかも，ブレがあるようです．-1を返すのが主流だと思いますが，ここでは解説の都合上0を採用します．）"
   ]
  },
  {
   "cell_type": "code",
   "execution_count": 354,
   "metadata": {},
   "outputs": [
    {
     "data": {
      "application/vnd.plotly.v1+json": {
       "config": {
        "plotlyServerURL": "https://plot.ly"
       },
       "data": [
        {
         "hovertemplate": "x=%{x}<br>y=%{y}<extra></extra>",
         "legendgroup": "",
         "marker": {
          "color": "#636efa",
          "symbol": "circle"
         },
         "mode": "markers",
         "name": "",
         "orientation": "v",
         "showlegend": false,
         "type": "scatter",
         "x": [
          -10,
          -9.899497487437186,
          -9.798994974874372,
          -9.698492462311558,
          -9.597989949748744,
          -9.49748743718593,
          -9.396984924623116,
          -9.296482412060302,
          -9.195979899497488,
          -9.095477386934673,
          -8.99497487437186,
          -8.894472361809045,
          -8.793969849246231,
          -8.693467336683417,
          -8.592964824120603,
          -8.492462311557789,
          -8.391959798994975,
          -8.291457286432161,
          -8.190954773869347,
          -8.090452261306533,
          -7.989949748743719,
          -7.889447236180905,
          -7.788944723618091,
          -7.688442211055277,
          -7.5879396984924625,
          -7.4874371859296485,
          -7.386934673366834,
          -7.28643216080402,
          -7.185929648241206,
          -7.085427135678392,
          -6.984924623115578,
          -6.884422110552764,
          -6.78391959798995,
          -6.683417085427136,
          -6.582914572864322,
          -6.482412060301508,
          -6.381909547738694,
          -6.28140703517588,
          -6.180904522613066,
          -6.080402010050252,
          -5.979899497487437,
          -5.879396984924623,
          -5.7788944723618085,
          -5.6783919597989945,
          -5.57788944723618,
          -5.477386934673366,
          -5.376884422110552,
          -5.276381909547738,
          -5.175879396984924,
          -5.07537688442211,
          -4.974874371859296,
          -4.874371859296482,
          -4.773869346733668,
          -4.673366834170854,
          -4.57286432160804,
          -4.472361809045226,
          -4.371859296482412,
          -4.271356783919598,
          -4.1708542713567835,
          -4.0703517587939695,
          -3.9698492462311554,
          -3.8693467336683414,
          -3.7688442211055273,
          -3.6683417085427132,
          -3.567839195979899,
          -3.467336683417085,
          -3.366834170854271,
          -3.266331658291457,
          -3.165829145728643,
          -3.065326633165829,
          -2.964824120603015,
          -2.8643216080402008,
          -2.7638190954773867,
          -2.6633165829145726,
          -2.5628140703517586,
          -2.4623115577889445,
          -2.3618090452261304,
          -2.2613065326633164,
          -2.1608040201005023,
          -2.0603015075376883,
          -1.9597989949748733,
          -1.8592964824120592,
          -1.7587939698492452,
          -1.6582914572864311,
          -1.557788944723617,
          -1.457286432160803,
          -1.356783919597989,
          -1.2562814070351749,
          -1.1557788944723608,
          -1.0552763819095468,
          -0.9547738693467327,
          -0.8542713567839186,
          -0.7537688442211046,
          -0.6532663316582905,
          -0.5527638190954764,
          -0.4522613065326624,
          -0.3517587939698483,
          -0.25125628140703427,
          -0.1507537688442202,
          -0.05025125628140614,
          0.05025125628140792,
          0.15075376884422198,
          0.25125628140703604,
          0.3517587939698501,
          0.45226130653266416,
          0.5527638190954782,
          0.6532663316582923,
          0.7537688442211063,
          0.8542713567839204,
          0.9547738693467345,
          1.0552763819095485,
          1.1557788944723626,
          1.2562814070351767,
          1.3567839195979907,
          1.4572864321608048,
          1.5577889447236188,
          1.658291457286433,
          1.758793969849247,
          1.859296482412061,
          1.959798994974875,
          2.060301507537689,
          2.160804020100503,
          2.2613065326633173,
          2.3618090452261313,
          2.4623115577889454,
          2.5628140703517595,
          2.6633165829145735,
          2.7638190954773876,
          2.8643216080402016,
          2.9648241206030157,
          3.0653266331658298,
          3.165829145728644,
          3.266331658291458,
          3.366834170854272,
          3.467336683417086,
          3.5678391959799,
          3.668341708542714,
          3.768844221105528,
          3.8693467336683423,
          3.9698492462311563,
          4.07035175879397,
          4.170854271356784,
          4.2713567839195985,
          4.371859296482413,
          4.472361809045227,
          4.572864321608041,
          4.673366834170855,
          4.773869346733669,
          4.874371859296483,
          4.974874371859297,
          5.075376884422111,
          5.175879396984925,
          5.276381909547739,
          5.376884422110553,
          5.477386934673367,
          5.577889447236181,
          5.678391959798995,
          5.778894472361809,
          5.8793969849246235,
          5.9798994974874375,
          6.080402010050253,
          6.180904522613066,
          6.2814070351758815,
          6.381909547738694,
          6.48241206030151,
          6.582914572864322,
          6.683417085427138,
          6.78391959798995,
          6.884422110552766,
          6.984924623115578,
          7.085427135678394,
          7.185929648241206,
          7.286432160804022,
          7.386934673366834,
          7.48743718592965,
          7.5879396984924625,
          7.688442211055278,
          7.788944723618091,
          7.8894472361809065,
          7.989949748743719,
          8.090452261306535,
          8.190954773869347,
          8.291457286432163,
          8.391959798994975,
          8.49246231155779,
          8.592964824120603,
          8.693467336683419,
          8.793969849246231,
          8.894472361809047,
          8.99497487437186,
          9.095477386934675,
          9.195979899497488,
          9.296482412060303,
          9.396984924623116,
          9.497487437185931,
          9.597989949748744,
          9.69849246231156,
          9.798994974874372,
          9.899497487437188,
          10
         ],
         "xaxis": "x",
         "y": [
          0,
          0,
          0,
          0,
          0,
          0,
          0,
          0,
          0,
          0,
          0,
          0,
          0,
          0,
          0,
          0,
          0,
          0,
          0,
          0,
          0,
          0,
          0,
          0,
          0,
          0,
          0,
          0,
          0,
          0,
          0,
          0,
          0,
          0,
          0,
          0,
          0,
          0,
          0,
          0,
          0,
          0,
          0,
          0,
          0,
          0,
          0,
          0,
          0,
          0,
          0,
          0,
          0,
          0,
          0,
          0,
          0,
          0,
          0,
          0,
          0,
          0,
          0,
          0,
          0,
          0,
          0,
          0,
          0,
          0,
          0,
          0,
          0,
          0,
          0,
          0,
          0,
          0,
          0,
          0,
          0,
          0,
          0,
          0,
          0,
          0,
          0,
          0,
          0,
          0,
          0,
          0,
          0,
          0,
          0,
          0,
          0,
          0,
          0,
          0,
          1,
          1,
          1,
          1,
          1,
          1,
          1,
          1,
          1,
          1,
          1,
          1,
          1,
          1,
          1,
          1,
          1,
          1,
          1,
          1,
          1,
          1,
          1,
          1,
          1,
          1,
          1,
          1,
          1,
          1,
          1,
          1,
          1,
          1,
          1,
          1,
          1,
          1,
          1,
          1,
          1,
          1,
          1,
          1,
          1,
          1,
          1,
          1,
          1,
          1,
          1,
          1,
          1,
          1,
          1,
          1,
          1,
          1,
          1,
          1,
          1,
          1,
          1,
          1,
          1,
          1,
          1,
          1,
          1,
          1,
          1,
          1,
          1,
          1,
          1,
          1,
          1,
          1,
          1,
          1,
          1,
          1,
          1,
          1,
          1,
          1,
          1,
          1,
          1,
          1,
          1,
          1,
          1,
          1,
          1,
          1,
          1,
          1,
          1,
          1
         ],
         "yaxis": "y"
        }
       ],
       "layout": {
        "height": 500,
        "legend": {
         "tracegroupgap": 0
        },
        "template": {
         "data": {
          "bar": [
           {
            "error_x": {
             "color": "#2a3f5f"
            },
            "error_y": {
             "color": "#2a3f5f"
            },
            "marker": {
             "line": {
              "color": "#E5ECF6",
              "width": 0.5
             },
             "pattern": {
              "fillmode": "overlay",
              "size": 10,
              "solidity": 0.2
             }
            },
            "type": "bar"
           }
          ],
          "barpolar": [
           {
            "marker": {
             "line": {
              "color": "#E5ECF6",
              "width": 0.5
             },
             "pattern": {
              "fillmode": "overlay",
              "size": 10,
              "solidity": 0.2
             }
            },
            "type": "barpolar"
           }
          ],
          "carpet": [
           {
            "aaxis": {
             "endlinecolor": "#2a3f5f",
             "gridcolor": "white",
             "linecolor": "white",
             "minorgridcolor": "white",
             "startlinecolor": "#2a3f5f"
            },
            "baxis": {
             "endlinecolor": "#2a3f5f",
             "gridcolor": "white",
             "linecolor": "white",
             "minorgridcolor": "white",
             "startlinecolor": "#2a3f5f"
            },
            "type": "carpet"
           }
          ],
          "choropleth": [
           {
            "colorbar": {
             "outlinewidth": 0,
             "ticks": ""
            },
            "type": "choropleth"
           }
          ],
          "contour": [
           {
            "colorbar": {
             "outlinewidth": 0,
             "ticks": ""
            },
            "colorscale": [
             [
              0,
              "#0d0887"
             ],
             [
              0.1111111111111111,
              "#46039f"
             ],
             [
              0.2222222222222222,
              "#7201a8"
             ],
             [
              0.3333333333333333,
              "#9c179e"
             ],
             [
              0.4444444444444444,
              "#bd3786"
             ],
             [
              0.5555555555555556,
              "#d8576b"
             ],
             [
              0.6666666666666666,
              "#ed7953"
             ],
             [
              0.7777777777777778,
              "#fb9f3a"
             ],
             [
              0.8888888888888888,
              "#fdca26"
             ],
             [
              1,
              "#f0f921"
             ]
            ],
            "type": "contour"
           }
          ],
          "contourcarpet": [
           {
            "colorbar": {
             "outlinewidth": 0,
             "ticks": ""
            },
            "type": "contourcarpet"
           }
          ],
          "heatmap": [
           {
            "colorbar": {
             "outlinewidth": 0,
             "ticks": ""
            },
            "colorscale": [
             [
              0,
              "#0d0887"
             ],
             [
              0.1111111111111111,
              "#46039f"
             ],
             [
              0.2222222222222222,
              "#7201a8"
             ],
             [
              0.3333333333333333,
              "#9c179e"
             ],
             [
              0.4444444444444444,
              "#bd3786"
             ],
             [
              0.5555555555555556,
              "#d8576b"
             ],
             [
              0.6666666666666666,
              "#ed7953"
             ],
             [
              0.7777777777777778,
              "#fb9f3a"
             ],
             [
              0.8888888888888888,
              "#fdca26"
             ],
             [
              1,
              "#f0f921"
             ]
            ],
            "type": "heatmap"
           }
          ],
          "heatmapgl": [
           {
            "colorbar": {
             "outlinewidth": 0,
             "ticks": ""
            },
            "colorscale": [
             [
              0,
              "#0d0887"
             ],
             [
              0.1111111111111111,
              "#46039f"
             ],
             [
              0.2222222222222222,
              "#7201a8"
             ],
             [
              0.3333333333333333,
              "#9c179e"
             ],
             [
              0.4444444444444444,
              "#bd3786"
             ],
             [
              0.5555555555555556,
              "#d8576b"
             ],
             [
              0.6666666666666666,
              "#ed7953"
             ],
             [
              0.7777777777777778,
              "#fb9f3a"
             ],
             [
              0.8888888888888888,
              "#fdca26"
             ],
             [
              1,
              "#f0f921"
             ]
            ],
            "type": "heatmapgl"
           }
          ],
          "histogram": [
           {
            "marker": {
             "pattern": {
              "fillmode": "overlay",
              "size": 10,
              "solidity": 0.2
             }
            },
            "type": "histogram"
           }
          ],
          "histogram2d": [
           {
            "colorbar": {
             "outlinewidth": 0,
             "ticks": ""
            },
            "colorscale": [
             [
              0,
              "#0d0887"
             ],
             [
              0.1111111111111111,
              "#46039f"
             ],
             [
              0.2222222222222222,
              "#7201a8"
             ],
             [
              0.3333333333333333,
              "#9c179e"
             ],
             [
              0.4444444444444444,
              "#bd3786"
             ],
             [
              0.5555555555555556,
              "#d8576b"
             ],
             [
              0.6666666666666666,
              "#ed7953"
             ],
             [
              0.7777777777777778,
              "#fb9f3a"
             ],
             [
              0.8888888888888888,
              "#fdca26"
             ],
             [
              1,
              "#f0f921"
             ]
            ],
            "type": "histogram2d"
           }
          ],
          "histogram2dcontour": [
           {
            "colorbar": {
             "outlinewidth": 0,
             "ticks": ""
            },
            "colorscale": [
             [
              0,
              "#0d0887"
             ],
             [
              0.1111111111111111,
              "#46039f"
             ],
             [
              0.2222222222222222,
              "#7201a8"
             ],
             [
              0.3333333333333333,
              "#9c179e"
             ],
             [
              0.4444444444444444,
              "#bd3786"
             ],
             [
              0.5555555555555556,
              "#d8576b"
             ],
             [
              0.6666666666666666,
              "#ed7953"
             ],
             [
              0.7777777777777778,
              "#fb9f3a"
             ],
             [
              0.8888888888888888,
              "#fdca26"
             ],
             [
              1,
              "#f0f921"
             ]
            ],
            "type": "histogram2dcontour"
           }
          ],
          "mesh3d": [
           {
            "colorbar": {
             "outlinewidth": 0,
             "ticks": ""
            },
            "type": "mesh3d"
           }
          ],
          "parcoords": [
           {
            "line": {
             "colorbar": {
              "outlinewidth": 0,
              "ticks": ""
             }
            },
            "type": "parcoords"
           }
          ],
          "pie": [
           {
            "automargin": true,
            "type": "pie"
           }
          ],
          "scatter": [
           {
            "fillpattern": {
             "fillmode": "overlay",
             "size": 10,
             "solidity": 0.2
            },
            "type": "scatter"
           }
          ],
          "scatter3d": [
           {
            "line": {
             "colorbar": {
              "outlinewidth": 0,
              "ticks": ""
             }
            },
            "marker": {
             "colorbar": {
              "outlinewidth": 0,
              "ticks": ""
             }
            },
            "type": "scatter3d"
           }
          ],
          "scattercarpet": [
           {
            "marker": {
             "colorbar": {
              "outlinewidth": 0,
              "ticks": ""
             }
            },
            "type": "scattercarpet"
           }
          ],
          "scattergeo": [
           {
            "marker": {
             "colorbar": {
              "outlinewidth": 0,
              "ticks": ""
             }
            },
            "type": "scattergeo"
           }
          ],
          "scattergl": [
           {
            "marker": {
             "colorbar": {
              "outlinewidth": 0,
              "ticks": ""
             }
            },
            "type": "scattergl"
           }
          ],
          "scattermapbox": [
           {
            "marker": {
             "colorbar": {
              "outlinewidth": 0,
              "ticks": ""
             }
            },
            "type": "scattermapbox"
           }
          ],
          "scatterpolar": [
           {
            "marker": {
             "colorbar": {
              "outlinewidth": 0,
              "ticks": ""
             }
            },
            "type": "scatterpolar"
           }
          ],
          "scatterpolargl": [
           {
            "marker": {
             "colorbar": {
              "outlinewidth": 0,
              "ticks": ""
             }
            },
            "type": "scatterpolargl"
           }
          ],
          "scatterternary": [
           {
            "marker": {
             "colorbar": {
              "outlinewidth": 0,
              "ticks": ""
             }
            },
            "type": "scatterternary"
           }
          ],
          "surface": [
           {
            "colorbar": {
             "outlinewidth": 0,
             "ticks": ""
            },
            "colorscale": [
             [
              0,
              "#0d0887"
             ],
             [
              0.1111111111111111,
              "#46039f"
             ],
             [
              0.2222222222222222,
              "#7201a8"
             ],
             [
              0.3333333333333333,
              "#9c179e"
             ],
             [
              0.4444444444444444,
              "#bd3786"
             ],
             [
              0.5555555555555556,
              "#d8576b"
             ],
             [
              0.6666666666666666,
              "#ed7953"
             ],
             [
              0.7777777777777778,
              "#fb9f3a"
             ],
             [
              0.8888888888888888,
              "#fdca26"
             ],
             [
              1,
              "#f0f921"
             ]
            ],
            "type": "surface"
           }
          ],
          "table": [
           {
            "cells": {
             "fill": {
              "color": "#EBF0F8"
             },
             "line": {
              "color": "white"
             }
            },
            "header": {
             "fill": {
              "color": "#C8D4E3"
             },
             "line": {
              "color": "white"
             }
            },
            "type": "table"
           }
          ]
         },
         "layout": {
          "annotationdefaults": {
           "arrowcolor": "#2a3f5f",
           "arrowhead": 0,
           "arrowwidth": 1
          },
          "autotypenumbers": "strict",
          "coloraxis": {
           "colorbar": {
            "outlinewidth": 0,
            "ticks": ""
           }
          },
          "colorscale": {
           "diverging": [
            [
             0,
             "#8e0152"
            ],
            [
             0.1,
             "#c51b7d"
            ],
            [
             0.2,
             "#de77ae"
            ],
            [
             0.3,
             "#f1b6da"
            ],
            [
             0.4,
             "#fde0ef"
            ],
            [
             0.5,
             "#f7f7f7"
            ],
            [
             0.6,
             "#e6f5d0"
            ],
            [
             0.7,
             "#b8e186"
            ],
            [
             0.8,
             "#7fbc41"
            ],
            [
             0.9,
             "#4d9221"
            ],
            [
             1,
             "#276419"
            ]
           ],
           "sequential": [
            [
             0,
             "#0d0887"
            ],
            [
             0.1111111111111111,
             "#46039f"
            ],
            [
             0.2222222222222222,
             "#7201a8"
            ],
            [
             0.3333333333333333,
             "#9c179e"
            ],
            [
             0.4444444444444444,
             "#bd3786"
            ],
            [
             0.5555555555555556,
             "#d8576b"
            ],
            [
             0.6666666666666666,
             "#ed7953"
            ],
            [
             0.7777777777777778,
             "#fb9f3a"
            ],
            [
             0.8888888888888888,
             "#fdca26"
            ],
            [
             1,
             "#f0f921"
            ]
           ],
           "sequentialminus": [
            [
             0,
             "#0d0887"
            ],
            [
             0.1111111111111111,
             "#46039f"
            ],
            [
             0.2222222222222222,
             "#7201a8"
            ],
            [
             0.3333333333333333,
             "#9c179e"
            ],
            [
             0.4444444444444444,
             "#bd3786"
            ],
            [
             0.5555555555555556,
             "#d8576b"
            ],
            [
             0.6666666666666666,
             "#ed7953"
            ],
            [
             0.7777777777777778,
             "#fb9f3a"
            ],
            [
             0.8888888888888888,
             "#fdca26"
            ],
            [
             1,
             "#f0f921"
            ]
           ]
          },
          "colorway": [
           "#636efa",
           "#EF553B",
           "#00cc96",
           "#ab63fa",
           "#FFA15A",
           "#19d3f3",
           "#FF6692",
           "#B6E880",
           "#FF97FF",
           "#FECB52"
          ],
          "font": {
           "color": "#2a3f5f"
          },
          "geo": {
           "bgcolor": "white",
           "lakecolor": "white",
           "landcolor": "#E5ECF6",
           "showlakes": true,
           "showland": true,
           "subunitcolor": "white"
          },
          "hoverlabel": {
           "align": "left"
          },
          "hovermode": "closest",
          "mapbox": {
           "style": "light"
          },
          "paper_bgcolor": "white",
          "plot_bgcolor": "#E5ECF6",
          "polar": {
           "angularaxis": {
            "gridcolor": "white",
            "linecolor": "white",
            "ticks": ""
           },
           "bgcolor": "#E5ECF6",
           "radialaxis": {
            "gridcolor": "white",
            "linecolor": "white",
            "ticks": ""
           }
          },
          "scene": {
           "xaxis": {
            "backgroundcolor": "#E5ECF6",
            "gridcolor": "white",
            "gridwidth": 2,
            "linecolor": "white",
            "showbackground": true,
            "ticks": "",
            "zerolinecolor": "white"
           },
           "yaxis": {
            "backgroundcolor": "#E5ECF6",
            "gridcolor": "white",
            "gridwidth": 2,
            "linecolor": "white",
            "showbackground": true,
            "ticks": "",
            "zerolinecolor": "white"
           },
           "zaxis": {
            "backgroundcolor": "#E5ECF6",
            "gridcolor": "white",
            "gridwidth": 2,
            "linecolor": "white",
            "showbackground": true,
            "ticks": "",
            "zerolinecolor": "white"
           }
          },
          "shapedefaults": {
           "line": {
            "color": "#2a3f5f"
           }
          },
          "ternary": {
           "aaxis": {
            "gridcolor": "white",
            "linecolor": "white",
            "ticks": ""
           },
           "baxis": {
            "gridcolor": "white",
            "linecolor": "white",
            "ticks": ""
           },
           "bgcolor": "#E5ECF6",
           "caxis": {
            "gridcolor": "white",
            "linecolor": "white",
            "ticks": ""
           }
          },
          "title": {
           "x": 0.05
          },
          "xaxis": {
           "automargin": true,
           "gridcolor": "white",
           "linecolor": "white",
           "ticks": "",
           "title": {
            "standoff": 15
           },
           "zerolinecolor": "white",
           "zerolinewidth": 2
          },
          "yaxis": {
           "automargin": true,
           "gridcolor": "white",
           "linecolor": "white",
           "ticks": "",
           "title": {
            "standoff": 15
           },
           "zerolinecolor": "white",
           "zerolinewidth": 2
          }
         }
        },
        "title": {
         "text": "sign関数"
        },
        "width": 500,
        "xaxis": {
         "anchor": "y",
         "domain": [
          0,
          1
         ],
         "title": {
          "text": "入力 x"
         }
        },
        "yaxis": {
         "anchor": "x",
         "domain": [
          0,
          1
         ],
         "title": {
          "text": "出力 sign(x)"
         }
        }
       }
      }
     },
     "metadata": {},
     "output_type": "display_data"
    }
   ],
   "source": [
    "def sign(x):\n",
    "    # 単にreturn float(x>0)としてもOKです．\n",
    "    if x > 0:\n",
    "        return 1.\n",
    "    return 0.\n",
    "\n",
    "def sign(x:np.ndarray):\n",
    "    return (x > 0).astype(x.dtype)\n",
    "\n",
    "x = np.linspace(-10,10,200)\n",
    "fig = px.scatter(x=x, y=sign(x), title=\"sign関数\", height=500,width=500)\n",
    "fig.update_xaxes(title=dict(text='入力 x'))\n",
    "fig.update_yaxes(title=dict(text='出力 sign(x)'))"
   ]
  },
  {
   "attachments": {},
   "cell_type": "markdown",
   "metadata": {},
   "source": [
    "sign関数は入力値が0以下の場合と正の数になった場合とで値が変わります．そのため連続な関数では無いことに注意してください．"
   ]
  },
  {
   "attachments": {},
   "cell_type": "markdown",
   "metadata": {},
   "source": [
    "### biasの導入"
   ]
  },
  {
   "attachments": {},
   "cell_type": "markdown",
   "metadata": {},
   "source": [
    "このsign関数の閾値は常に$0$に設定されていますが，場合によっては値を変更したくなるかもしれません．そのような場合に有効なのがbias $b\\in \\mathbb{R}$です．これを活性化関数の入力値に対して加算することで，閾値の操作が可能です．\n",
    "\n",
    "$$\n",
    "\\hat{y} = \\operatorname{sign}\\{W\\cdot X + b\\}=\\operatorname{sign}\\{\\sum_{j=1}^{d}(w_j x_j)+ b\\}\n",
    "$$\n",
    "\n",
    "この式を使うと，パーセプトロンの条件分岐は以下のようになります．\n",
    "\n",
    "$$\n",
    "\\operatorname{perceptron}\\{x;W,b\\}= \n",
    "    \\begin{cases}\n",
    "    1 &  \\text{if}~ W\\cdot X + b > 0  \\\\\n",
    "    0 &  \\text{if}~ W\\cdot X + b \\leq 0 \n",
    "    \\end{cases} \n",
    "$$\n",
    "$b$を移項するとより分かりやすいかも知れません．\n",
    "\n",
    "$$\n",
    "\\operatorname{perceptron}\\{x;W,b\\}=\n",
    "    \\begin{cases}\n",
    "    1 &  \\text{if}~ W\\cdot X  > -b  \\\\ \n",
    "    0 &  \\text{if}~ W\\cdot X  \\leq -b \n",
    "    \\end{cases}\n",
    "$$"
   ]
  },
  {
   "attachments": {},
   "cell_type": "markdown",
   "metadata": {},
   "source": [
    "## 実装"
   ]
  },
  {
   "attachments": {},
   "cell_type": "markdown",
   "metadata": {},
   "source": [
    "Pythonを使った単純パーセプトロンの実装は以下のようになります．"
   ]
  },
  {
   "attachments": {},
   "cell_type": "markdown",
   "metadata": {},
   "source": [
    "### 行列計算を用いない実装"
   ]
  },
  {
   "attachments": {},
   "cell_type": "markdown",
   "metadata": {},
   "source": [
    "パーセプトロンの図を思い出してください．入力される特徴量変数$x_i (i = 1,2,...d)$ の一つ一つに対して，対応する$w_i$が乗算されます．その後これらを合計し，$b$を加算することでニューロンへの入力値が求められました．その後は閾値を超えているかをチェックし，1 or 0を返す処理を行います．それをpure pythonで実装した例が以下です．"
   ]
  },
  {
   "cell_type": "code",
   "execution_count": 355,
   "metadata": {},
   "outputs": [
    {
     "data": {
      "text/plain": [
       "1.0"
      ]
     },
     "execution_count": 355,
     "metadata": {},
     "output_type": "execute_result"
    }
   ],
   "source": [
    "def sign(x:float)->float:\n",
    "    # 単にreturn float(x>0)としてもOKです．\n",
    "    if x > 0:\n",
    "        return 1.\n",
    "    return 0.\n",
    "\n",
    "def perceptron(X:list[float], W:list[float],b:float)->float:\n",
    "    h = 0.\n",
    "    for _x, _w in zip(X,W):\n",
    "        h += _x * _w\n",
    "    h += b\n",
    "    return sign(h)\n",
    "\n",
    "W = np.random.random([3])\n",
    "b = 0.2\n",
    "X = np.random.random([3])\n",
    "perceptron(X, W,b)"
   ]
  },
  {
   "attachments": {},
   "cell_type": "markdown",
   "metadata": {},
   "source": [
    "### 行列計算を用いた実装"
   ]
  },
  {
   "attachments": {},
   "cell_type": "markdown",
   "metadata": {},
   "source": [
    "重み付き総和の計算は，$X$と$W$のdot積で求まります．後は$b$を加算し，sign関数を適用するだけでOKです．  \n",
    "ただし，以下のコードの\n",
    "```py\n",
    "np.dot(W,X)\n",
    "```\n",
    "において，WとXはベクトルや一次元配列が期待されていることに注意してください．これらオブジェクトがnp.ndarrayである場合，shapeは(3)であり，(1,3)や(3,1)ではありません．この違いを理解しておかないと，このコード（特にnp.dot関数）は正しく動作しないでしょう．"
   ]
  },
  {
   "cell_type": "code",
   "execution_count": 364,
   "metadata": {},
   "outputs": [
    {
     "data": {
      "text/plain": [
       "1"
      ]
     },
     "execution_count": 364,
     "metadata": {},
     "output_type": "execute_result"
    }
   ],
   "source": [
    "def sign(X:np.ndarray)->float:\n",
    "    return (X > 0).astype(x.dtype)\n",
    "\n",
    "def perceptron(X:npt.ArrayLike, W:npt.ArrayLike, b:float)->float:\n",
    "    h = np.dot(W,X) + b\n",
    "    return sign(h)\n",
    "\n",
    "\n",
    "W = np.random.random([3])\n",
    "b = 0.2\n",
    "X = np.random.random([3])\n",
    "perceptron(X, W,b)"
   ]
  },
  {
   "attachments": {},
   "cell_type": "markdown",
   "metadata": {},
   "source": [
    "## 実験"
   ]
  },
  {
   "attachments": {},
   "cell_type": "markdown",
   "metadata": {},
   "source": [
    "### ORゲート"
   ]
  },
  {
   "attachments": {},
   "cell_type": "markdown",
   "metadata": {},
   "source": [
    "単純パーセプトロンの能力を紹介するために，実装したperceptron関数を利用して論理回路を再現してみます．"
   ]
  },
  {
   "cell_type": "code",
   "execution_count": 357,
   "metadata": {},
   "outputs": [
    {
     "name": "stdout",
     "output_type": "stream",
     "text": [
      "真偽値表\n"
     ]
    },
    {
     "data": {
      "text/html": [
       "<div>\n",
       "<style scoped>\n",
       "    .dataframe tbody tr th:only-of-type {\n",
       "        vertical-align: middle;\n",
       "    }\n",
       "\n",
       "    .dataframe tbody tr th {\n",
       "        vertical-align: top;\n",
       "    }\n",
       "\n",
       "    .dataframe thead th {\n",
       "        text-align: right;\n",
       "    }\n",
       "</style>\n",
       "<table border=\"1\" class=\"dataframe\">\n",
       "  <thead>\n",
       "    <tr style=\"text-align: right;\">\n",
       "      <th></th>\n",
       "      <th>x1</th>\n",
       "      <th>x2</th>\n",
       "      <th>or</th>\n",
       "      <th>and</th>\n",
       "      <th>xor</th>\n",
       "    </tr>\n",
       "  </thead>\n",
       "  <tbody>\n",
       "    <tr>\n",
       "      <th>0</th>\n",
       "      <td>1</td>\n",
       "      <td>1</td>\n",
       "      <td>1</td>\n",
       "      <td>1</td>\n",
       "      <td>0</td>\n",
       "    </tr>\n",
       "    <tr>\n",
       "      <th>1</th>\n",
       "      <td>1</td>\n",
       "      <td>0</td>\n",
       "      <td>1</td>\n",
       "      <td>0</td>\n",
       "      <td>1</td>\n",
       "    </tr>\n",
       "    <tr>\n",
       "      <th>2</th>\n",
       "      <td>0</td>\n",
       "      <td>1</td>\n",
       "      <td>1</td>\n",
       "      <td>0</td>\n",
       "      <td>1</td>\n",
       "    </tr>\n",
       "    <tr>\n",
       "      <th>3</th>\n",
       "      <td>0</td>\n",
       "      <td>0</td>\n",
       "      <td>0</td>\n",
       "      <td>0</td>\n",
       "      <td>0</td>\n",
       "    </tr>\n",
       "  </tbody>\n",
       "</table>\n",
       "</div>"
      ],
      "text/plain": [
       "   x1  x2  or  and  xor\n",
       "0   1   1   1    1    0\n",
       "1   1   0   1    0    1\n",
       "2   0   1   1    0    1\n",
       "3   0   0   0    0    0"
      ]
     },
     "execution_count": 357,
     "metadata": {},
     "output_type": "execute_result"
    }
   ],
   "source": [
    "truth_table = pd.DataFrame(\n",
    "    np.array([[1,1,0,0],[1,0,1,0]]).T,\n",
    "    columns=[\"x1\",\"x2\"]\n",
    ")\n",
    "truth_table[\"or\"] = truth_table.x1 | truth_table.x2\n",
    "truth_table[\"and\"] = truth_table.x1 & truth_table.x2\n",
    "truth_table[\"xor\"] = np.logical_xor(truth_table.x1,truth_table.x2).astype(truth_table.x1.dtype)\n",
    "print(\"真偽値表\")\n",
    "truth_table"
   ]
  },
  {
   "attachments": {},
   "cell_type": "markdown",
   "metadata": {},
   "source": [
    "ここで，真偽値表のx1列，x2列がパーセプトロンに入力される特徴量です．一行ずつ取り出して，or，andの値をそれぞれ予測してみましょう．\n",
    "\n",
    "まずはorを再現してみます．"
   ]
  },
  {
   "cell_type": "code",
   "execution_count": 358,
   "metadata": {},
   "outputs": [
    {
     "name": "stdout",
     "output_type": "stream",
     "text": [
      "or回路\n",
      "正答: [1, 1, 1, 0]\n",
      "予測: [1, 1, 1, 0]\n"
     ]
    }
   ],
   "source": [
    "X = truth_table[[\"x1\",\"x2\"]].to_numpy()\n",
    "Y = truth_table[\"or\"].to_numpy()\n",
    "Y_hat = []\n",
    "\n",
    "W = np.array([0.2, 0.2]) # 適当な2値で埋めた重みベクトル\n",
    "b = -0.1 # 適当なスカラ値\n",
    "\n",
    "for x in X:\n",
    "    y_hat = perceptron(x,W,b)\n",
    "    Y_hat.append(y_hat)\n",
    "\n",
    "print(\"or回路\")\n",
    "print(\"正答:\",Y.tolist())\n",
    "print(\"予測:\",Y_hat)"
   ]
  },
  {
   "attachments": {},
   "cell_type": "markdown",
   "metadata": {},
   "source": [
    "or回路をパーセプトロンがどのように再現したのかをグラフで確認してみましょう．パーセプトロンの獲得した識別境界の式を用意します．\n",
    "\n",
    "$$\n",
    "\\hat{y} =\\operatorname{sign}\\{\\sum_{j=1}^{2}(w_j x_j)+ b\\} = \\operatorname{sign}\\{w_1x_1+w_2x_2+b\\}\n",
    "$$\n",
    "この式のsign関数の引数に着目し，$x_2$に対しての式に直します．\n",
    "$$\n",
    "x_2 = \\frac{w_1x_1+b}{-w_2}\n",
    "$$\n",
    "\n",
    "これを使って識別境界（閾値）を散布図上にプロットします．（$x_1=0$時の$x_2$と，$x_2=0$時の$x_1$を求めて，2点を繋ぐ直線を引くことでも識別境界をプロットできます．）\n"
   ]
  },
  {
   "cell_type": "code",
   "execution_count": 359,
   "metadata": {},
   "outputs": [
    {
     "data": {
      "image/png": "[encoded data removed]",
      "text/plain": [
       "<Figure size 640x480 with 1 Axes>"
      ]
     },
     "metadata": {},
     "output_type": "display_data"
    }
   ],
   "source": [
    "def plot_perceptron(w,b, truth_table, gate_type=\"or\", need_output=False):\n",
    "    linear = lambda x1,w,b: -(w[0]*x1 + b)/w[1]\n",
    "    x1_sample = np.linspace(-2,2,100)\n",
    "\n",
    "    fig, ax = plt.subplots()\n",
    "    ax.scatter(truth_table.x1, truth_table.x2, c=truth_table[gate_type], label=\"入力データ\")\n",
    "    ax.plot(x1_sample, linear(x1_sample, W,b), label=\"閾値, 識別境界\")\n",
    "    ax.set_title(f\"$x_1$-$x_2$平面上の{gate_type}問題\")\n",
    "    ax.set_xlabel(\"$x_1$\")\n",
    "    ax.set_ylabel(\"$x_2$\")\n",
    "    ax.set_xlim(-2, 2)\n",
    "    ax.set_ylim(-2, 2)\n",
    "    plt.legend()\n",
    "    #ax.set_aspect('equal')\n",
    "    if need_output:\n",
    "        return fig\n",
    "plot_perceptron(W,b,truth_table,gate_type=\"or\")"
   ]
  },
  {
   "attachments": {},
   "cell_type": "markdown",
   "metadata": {},
   "source": [
    "境界線の式やプロットから分かる通り，境界線は一本の直線になっています．パーセプトロンを使ったクラス分類はこのような線形分離可能な問題にのみ有効であることがわかります．"
   ]
  },
  {
   "attachments": {},
   "cell_type": "markdown",
   "metadata": {},
   "source": [
    "### ANDゲート"
   ]
  },
  {
   "attachments": {},
   "cell_type": "markdown",
   "metadata": {},
   "source": [
    "次はandを再現します．  \n",
    "以下のセルで，W,bの値を適当に変化させて期待通りの答えを見つけてみてください．"
   ]
  },
  {
   "cell_type": "code",
   "execution_count": 360,
   "metadata": {},
   "outputs": [
    {
     "name": "stdout",
     "output_type": "stream",
     "text": [
      "and回路\n",
      "正答: [1, 0, 0, 0]\n",
      "予測: [1, 0, 1, 1]\n"
     ]
    },
    {
     "data": {
      "image/png": "[encoded data removed]",
      "text/plain": [
       "<Figure size 640x480 with 1 Axes>"
      ]
     },
     "metadata": {},
     "output_type": "display_data"
    }
   ],
   "source": [
    "X = truth_table[[\"x1\",\"x2\"]].to_numpy()\n",
    "Y = truth_table[\"and\"].to_numpy()\n",
    "Y_hat = []\n",
    "\n",
    "W = np.array([-1,1]) # 適当な2値で埋めた重みベクトル\n",
    "b = 1.0 # 適当なスカラ値\n",
    "\n",
    "for x in X:\n",
    "    y_hat = perceptron(x,W,b)\n",
    "    Y_hat.append(y_hat)\n",
    "\n",
    "print(\"and回路\")\n",
    "print(\"正答:\",Y.tolist())\n",
    "print(\"予測:\",Y_hat)\n",
    "\n",
    "plot_perceptron(W,b,truth_table,gate_type=\"and\")"
   ]
  },
  {
   "attachments": {},
   "cell_type": "markdown",
   "metadata": {},
   "source": [
    "## パーセプトロンの再考\n",
    "\n",
    "「学習（データと答えからいい感じのパラメータを自動獲得）できるようにしようぜ」"
   ]
  },
  {
   "attachments": {},
   "cell_type": "markdown",
   "metadata": {},
   "source": [
    "パーセプトロンには「線形に分離できる場合のみ正しい答えを見つけることができる」という限界があるようですが，それでもその制限の中ならば，$W$と$b$をうまく設定してあげることで自動でクラス分類ができそうです．ここでの$W$と$b$のような変数を __パラメータ(parameters)__ と呼びます．また，これらは後述するように様々なアルゴリズムによりデータとクラスのペアがたくさんあれば自動獲得させることが可能です．そのため __学習可能パラメータ__ と敢えて呼ぶこともあります．\n",
    "\n",
    "それではパーセプトロンの学習可能パラメータの「いい感じの値」を見つけるアルゴリズムを考えていきましょう．パーセプトロンに対する学習即には，大きくヘブ則とパーセプトロン学習即の二つが知られています．そのうちヘブ則は収束しないことが多いので，疑似コードを使ってこれを見ていきましょう．\n",
    "\n",
    "![](./figs/perceptron_algo.png)\n",
    "\n",
    "疑似コードに慣れていない人のために，一行ずつ解説をつけておきます．\n",
    "\n",
    "- Require（入力）\n",
    "    - 所与の値として学習率（Learning rate）$r$を指定します．ただし，0より大きい値でしてしましょう．パーセプトロンの場合は1でもOKです．\n",
    "- Ensure（出力）\n",
    "    - このアルゴリズムではパラメータ$W,b$を返します．\n",
    "1. この値について適切な値がわからないので乱数で初期化することにしましょう．まずは適当に標準正規分布に従うものとします．\n",
    "2. perceptronが全てのデータに対して正しい答えを返すまで以下を繰り返します．\n",
    "3. データセット$\\mathcal{D}$から一つ一つ事例$(x,y)$を取り出し，以下を繰り返します．\n",
    "4. 現状のパラメータの値を使って，パーセプトロンの出力を計算します．\n",
    "5. wを更新します．\n",
    "6. bを更新します．\n",
    "\n",
    "\n",
    "このアルゴリズムに従ってプログラムを実装し，実際にパラメータが収束するのかを確認してみてください．\n",
    "\n",
    "```{hint}\n",
    "実際に実装する時には，WHILEループの終了条件は「全てのパラメータが更新されなくなるまで」でもOKです．さらに，パーセプトロンだと学習の終了まで短時間で終わるので気にしなくても良いですが，普通の機械学習モデルの訓練の場合は，最大epoch数（or 最大更新回数）を設定しておくことが普通です．\n",
    "```"
   ]
  },
  {
   "attachments": {},
   "cell_type": "markdown",
   "metadata": {},
   "source": []
  },
  {
   "cell_type": "code",
   "execution_count": 390,
   "metadata": {},
   "outputs": [],
   "source": [
    "truth_table[truth_table == 0]=-1"
   ]
  },
  {
   "cell_type": "code",
   "execution_count": 391,
   "metadata": {},
   "outputs": [
    {
     "ename": "KeyboardInterrupt",
     "evalue": "",
     "output_type": "error",
     "traceback": [
      "\u001b[0;31m---------------------------------------------------------------------------\u001b[0m",
      "\u001b[0;31mKeyboardInterrupt\u001b[0m                         Traceback (most recent call last)",
      "\u001b[1;32m/Users/mriki/Workspace/prml/perceptron.ipynb セル 42\u001b[0m in \u001b[0;36m2\n\u001b[1;32m     <a href='vscode-notebook-cell:/Users/mriki/Workspace/prml/perceptron.ipynb#Y130sZmlsZQ%3D%3D?line=16'>17</a>\u001b[0m     \u001b[39mreturn\u001b[39;00m W, b\n\u001b[1;32m     <a href='vscode-notebook-cell:/Users/mriki/Workspace/prml/perceptron.ipynb#Y130sZmlsZQ%3D%3D?line=18'>19</a>\u001b[0m gate_type \u001b[39m=\u001b[39m \u001b[39m\"\u001b[39m\u001b[39mand\u001b[39m\u001b[39m\"\u001b[39m\n\u001b[0;32m---> <a href='vscode-notebook-cell:/Users/mriki/Workspace/prml/perceptron.ipynb#Y130sZmlsZQ%3D%3D?line=19'>20</a>\u001b[0m W,b \u001b[39m=\u001b[39m update_perceptron(\n\u001b[1;32m     <a href='vscode-notebook-cell:/Users/mriki/Workspace/prml/perceptron.ipynb#Y130sZmlsZQ%3D%3D?line=20'>21</a>\u001b[0m     truth_table[[\u001b[39m\"\u001b[39;49m\u001b[39mx1\u001b[39;49m\u001b[39m\"\u001b[39;49m,\u001b[39m\"\u001b[39;49m\u001b[39mx2\u001b[39;49m\u001b[39m\"\u001b[39;49m]]\u001b[39m.\u001b[39;49mto_numpy(),\n\u001b[1;32m     <a href='vscode-notebook-cell:/Users/mriki/Workspace/prml/perceptron.ipynb#Y130sZmlsZQ%3D%3D?line=21'>22</a>\u001b[0m     truth_table[gate_type]\u001b[39m.\u001b[39;49mto_numpy(),\n\u001b[1;32m     <a href='vscode-notebook-cell:/Users/mriki/Workspace/prml/perceptron.ipynb#Y130sZmlsZQ%3D%3D?line=22'>23</a>\u001b[0m     )\n\u001b[1;32m     <a href='vscode-notebook-cell:/Users/mriki/Workspace/prml/perceptron.ipynb#Y130sZmlsZQ%3D%3D?line=23'>24</a>\u001b[0m plot_perceptron(W,b,truth_table\u001b[39m=\u001b[39mtruth_table, gate_type\u001b[39m=\u001b[39mgate_type)\n\u001b[1;32m     <a href='vscode-notebook-cell:/Users/mriki/Workspace/prml/perceptron.ipynb#Y130sZmlsZQ%3D%3D?line=25'>26</a>\u001b[0m Y_hat \u001b[39m=\u001b[39m []\n",
      "\u001b[1;32m/Users/mriki/Workspace/prml/perceptron.ipynb セル 42\u001b[0m in \u001b[0;36m1\n\u001b[1;32m     <a href='vscode-notebook-cell:/Users/mriki/Workspace/prml/perceptron.ipynb#Y130sZmlsZQ%3D%3D?line=11'>12</a>\u001b[0m     _b \u001b[39m=\u001b[39m b\n\u001b[1;32m     <a href='vscode-notebook-cell:/Users/mriki/Workspace/prml/perceptron.ipynb#Y130sZmlsZQ%3D%3D?line=12'>13</a>\u001b[0m     W \u001b[39m+\u001b[39m\u001b[39m=\u001b[39m lr\u001b[39m*\u001b[39m(y\u001b[39m-\u001b[39my_hat)\u001b[39m*\u001b[39mx\n\u001b[0;32m---> <a href='vscode-notebook-cell:/Users/mriki/Workspace/prml/perceptron.ipynb#Y130sZmlsZQ%3D%3D?line=13'>14</a>\u001b[0m     b \u001b[39m+\u001b[39m\u001b[39m=\u001b[39m lr\u001b[39m*\u001b[39m(y\u001b[39m-\u001b[39my_hat)\n\u001b[1;32m     <a href='vscode-notebook-cell:/Users/mriki/Workspace/prml/perceptron.ipynb#Y130sZmlsZQ%3D%3D?line=14'>15</a>\u001b[0m W_diff \u001b[39m=\u001b[39m np\u001b[39m.\u001b[39mmean((W\u001b[39m-\u001b[39m _W)\u001b[39m*\u001b[39m\u001b[39m*\u001b[39m\u001b[39m2\u001b[39m)\n\u001b[1;32m     <a href='vscode-notebook-cell:/Users/mriki/Workspace/prml/perceptron.ipynb#Y130sZmlsZQ%3D%3D?line=15'>16</a>\u001b[0m b_diff \u001b[39m=\u001b[39m (b\u001b[39m-\u001b[39m _b)\u001b[39m*\u001b[39m\u001b[39m*\u001b[39m\u001b[39m2\u001b[39m\n",
      "\u001b[0;31mKeyboardInterrupt\u001b[0m: "
     ]
    }
   ],
   "source": [
    "def update_perceptron(X,Y, lr=1, delta=1e-7, rng = np.random.default_rng(10)):\n",
    "    W = rng.normal(0,1, [X.shape[-1]])\n",
    "    b = float(rng.normal(0,1, 1))\n",
    "    _W = np.zeros_like(W)\n",
    "    _b = 0\n",
    "    W_diff = np.inf\n",
    "    b_diff = np.inf\n",
    "    while not (W_diff<= delta and b_diff <=delta):\n",
    "        for (x,y) in zip(X,Y):\n",
    "            y_hat = perceptron(x, W, b)\n",
    "            _W = W\n",
    "            _b = b\n",
    "            W += lr*(y-y_hat)*x\n",
    "            b += lr*(y-y_hat)\n",
    "        W_diff = np.mean((W- _W)**2)\n",
    "        b_diff = (b- _b)**2\n",
    "    return W, b\n",
    "\n",
    "gate_type = \"and\"\n",
    "W,b = update_perceptron(\n",
    "    truth_table[[\"x1\",\"x2\"]].to_numpy(),\n",
    "    truth_table[gate_type].to_numpy(),\n",
    "    )\n",
    "plot_perceptron(W,b,truth_table=truth_table, gate_type=gate_type)\n",
    "\n",
    "Y_hat = []\n",
    "for x in truth_table[[\"x1\",\"x2\"]].to_numpy():\n",
    "    y_hat = perceptron(x, W,b)\n",
    "    Y_hat.append(y_hat)\n",
    "    print(x, y_hat)\n",
    "print(truth_table[gate_type].to_numpy(),)\n",
    "print(Y_hat)"
   ]
  },
  {
   "cell_type": "code",
   "execution_count": 347,
   "metadata": {},
   "outputs": [
    {
     "name": "stdout",
     "output_type": "stream",
     "text": [
      "[1 1] 1\n",
      "[1 0] 1\n",
      "[0 1] 1\n",
      "[0 0] 1\n",
      "[1 1 1 0]\n",
      "[1, 1, 1, 1]\n"
     ]
    }
   ],
   "source": []
  },
  {
   "cell_type": "code",
   "execution_count": null,
   "metadata": {},
   "outputs": [],
   "source": []
  },
  {
   "attachments": {},
   "cell_type": "markdown",
   "metadata": {},
   "source": []
  },
  {
   "attachments": {},
   "cell_type": "markdown",
   "metadata": {},
   "source": []
  },
  {
   "attachments": {},
   "cell_type": "markdown",
   "metadata": {},
   "source": []
  },
  {
   "attachments": {},
   "cell_type": "markdown",
   "metadata": {},
   "source": [
    "## パーセプトロンの限界"
   ]
  },
  {
   "attachments": {},
   "cell_type": "markdown",
   "metadata": {},
   "source": [
    "XORができないとか何とか"
   ]
  },
  {
   "cell_type": "code",
   "execution_count": null,
   "metadata": {},
   "outputs": [],
   "source": []
  },
  {
   "cell_type": "code",
   "execution_count": null,
   "metadata": {},
   "outputs": [],
   "source": []
  },
  {
   "cell_type": "code",
   "execution_count": null,
   "metadata": {},
   "outputs": [],
   "source": []
  }
 ],
 "metadata": {
  "kernelspec": {
   "display_name": "datasci",
   "language": "python",
   "name": "python3"
  },
  "language_info": {
   "codemirror_mode": {
    "name": "ipython",
    "version": 3
   },
   "file_extension": ".py",
   "mimetype": "text/x-python",
   "name": "python",
   "nbconvert_exporter": "python",
   "pygments_lexer": "ipython3",
   "version": "3.10.6"
  },
  "orig_nbformat": 4
 },
 "nbformat": 4,
 "nbformat_minor": 2
}
