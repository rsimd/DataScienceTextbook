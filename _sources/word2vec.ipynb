{
  "cells": [
    {
      "attachments": {},
      "cell_type": "markdown",
      "metadata": {
        "id": "X3UWLGaYDip5"
      },
      "source": [
        "# Word2Vec"
      ]
    },
    {
      "cell_type": "code",
      "execution_count": 40,
      "metadata": {
        "id": "LPYafyK0Dip7",
        "tags": [
          "hide-input"
        ]
      },
      "outputs": [],
      "source": [
        "# packageのimport\n",
        "import os \n",
        "import math \n",
        "from typing import Any, Union, Callable, Type, TypeVar\n",
        "from tqdm.std import trange,tqdm\n",
        "import numpy as np \n",
        "import numpy.typing as npt\n",
        "import pandas as pd \n",
        "import matplotlib.pyplot as plt \n",
        "import plotly.express as px\n",
        "import seaborn as sns\n",
        "\n",
        "# pytorch関連のimport\n",
        "import torch\n",
        "import torch.nn as nn \n",
        "import torch.nn.functional as F \n",
        "import torch.optim as optim "
      ]
    },
    {
      "attachments": {},
      "cell_type": "markdown",
      "metadata": {
        "id": "rGJQlew4Dip8"
      },
      "source": [
        "## 単語のベクトル表現"
      ]
    },
    {
      "cell_type": "markdown",
      "metadata": {},
      "source": [
        "自然言語処理において，単語をそのまま機械学習モデルに扱わせることはできません．そのため，それぞれの単語に対応するベクトル表現を利用することになります．このベクトル表現方法はいろいろとあり，離散表現と分散表現という大別ができます．これらについて見ていきましょう．"
      ]
    },
    {
      "attachments": {},
      "cell_type": "markdown",
      "metadata": {
        "id": "KZwQgXchDip8"
      },
      "source": [
        "### 離散表現と分散表現"
      ]
    },
    {
      "attachments": {},
      "cell_type": "markdown",
      "metadata": {
        "id": "GSxLIlkEDip8"
      },
      "source": [
        "単語をベクトルとして表現する方法として古くから使われているのがone-hot表現（1-of-K表現とも呼ばれます）です．これはある要素のみが1でそれ以外が0であるような表現のことであり，単語に対応したベクトルのある要素のみが1でそれ以外が0であるようなベクトルを用いることで，単語をベクトル表現します．\n",
        "\n",
        "> ![](https://jiho-ml.com/content/images/2020/04/figure1-4.png)  \n",
        "one-hot表現のイメージ  \n",
        "出典: [위클리 NLP Week 2 - 단어를 가방에 때려 넣으면 문장이 된다](https://jiho-ml.com/weekly-nlp-2/)\n",
        "\n",
        "one-hotベクトルはシンプルなアイディアで理解しやすいですが，語彙の数だけベクトルの次元数が必要になることに注意が必要です．また，「オートバイ」と「バイク」のようなほぼほぼ似たような意味の単語同士の類似度をcosine類似度で計算しようとしても，それぞれが別の次元が立っているだけのベクトルなので内積0となってしまい，意味的な類似度を測ることには適さないことがわかります．\n",
        "\n",
        "ここではこのone-hot表現を離散表現の例として紹介しました．\n",
        "\n",
        "また，文書中に登場した単語のone-hotベクトルを足し合わせることで，文書をベクトル表現するBag-of-Words（BoW）という表現方法もあります．\n",
        "> ![](https://jiho-ml.com/content/images/2020/04/figure2-3.png)  \n",
        "BoWのイメージ  \n",
        "出典: [위클리 NLP Week 2 - 단어를 가방에 때려 넣으면 문장이 된다](https://jiho-ml.com/weekly-nlp-2/)\n",
        "\n",
        "\n",
        "\n",
        "\n",
        "この場合はただ足し合わせるだけなので，文書中に同じ単語が何回か登場したら，1以上の整数がベクトル内に現れることもあります．\n",
        "> ![](https://www.programmersought.com/images/947/0acb9279d17a1631bcfb154583cca443.JPEG)  \n",
        "BoWのイメージ2   \n",
        "出典: [Comparison of word bag model BoW and word set model SoW  |ProgrammerSought](https://jiho-ml.com/weekly-nlp-2/)\n",
        "\n",
        "\n"
      ]
    },
    {
      "attachments": {},
      "cell_type": "markdown",
      "metadata": {},
      "source": [
        "onehotやbowの様な表現方法は非常に簡便で分かりやすい反面，語彙数分だけの次元数が常に必要になるなどの嬉しくない特徴を持ちます．"
      ]
    },
    {
      "attachments": {},
      "cell_type": "markdown",
      "metadata": {
        "id": "R8U-z-38Dip9"
      },
      "source": [
        "### 様々な分散表現"
      ]
    },
    {
      "attachments": {},
      "cell_type": "markdown",
      "metadata": {
        "id": "twW1kRHaDip9"
      },
      "source": [
        "one-hot表現に対して，分散表現とは単語を語彙数に比べて低次元の実数値ベクトルで表す表現です．気持ちとしては，one-hotで表現された単語をより低次元空間の座標として表現し，one-hot→embedding→onehotの様に可逆圧縮しているイメージです．そのため多くの場合任意の比較的小さい次元数（50, 100, 200, 300次元など）が用いられています．これの利点としては，\n",
        "- 語彙数に左右されずにベクトルの次元数を決定できるため計算量を抑えられる\n",
        "- 同じような意味の単語に同じようなベクトル表現を当てがうことができるのならば，cosine類似度のような簡単な計算で意味の類似度（のようなもの）を評価することができる\n",
        "\n",
        "などが考えられます．現代の自然言語処理においても，このアプローチが取られることが多いです．\n",
        "\n",
        "> ![](./figs/w2v/encoding.png)  \n",
        "離散表現と分散表現  \n",
        "出典: [なぜ自然言語処理にとって単語の分散表現は重要なのか？](https://qiita.com/Hironsan/items/a58636f946dd51f670b0) "
      ]
    },
    {
      "attachments": {},
      "cell_type": "markdown",
      "metadata": {
        "id": "cpFhGucvDip9"
      },
      "source": [
        "この分散表現の作り方には色々な方法があります．例えばBoWで表現された文章データをNMF（Non-Negative Matrix Factorization, 非負値行列因子分解）{cite}`Lee1999-ge,Lee2000-ld`やLSA（Latent Semantic Analysis, 潜在的意味解析）{cite}`Deerwester1990-tn`のような手法で行列分解することで作成することもできます．ただし作成できるベクトルが持つ意味（作成されたベクトルがどのような使い方に適したものなのか）は手法により様々です．今回は，ニューラルネットワークを用いて単語の分散表現が作れるword2vec{cite}`Mikolov2013-ok,Mikolov2013-yn,Mikolov2013-zb`と呼ばれる手法群の中でも，CBOWについて紹介します．"
      ]
    },
    {
      "attachments": {},
      "cell_type": "markdown",
      "metadata": {
        "id": "iu2rEu2QDip9"
      },
      "source": [
        "## Continuous Bag-of-Words"
      ]
    },
    {
      "attachments": {},
      "cell_type": "markdown",
      "metadata": {
        "id": "c9VRMtQJDip9"
      },
      "source": [
        "### CBOWと分布仮説"
      ]
    },
    {
      "attachments": {},
      "cell_type": "markdown",
      "metadata": {
        "id": "gYpYF7ZKDip9"
      },
      "source": [
        ":::{margin}\n",
        "> word2vec はある単語から周囲の単語を予測するタスクを解くことで，各単語の低次元（数百次元）の分散表現を獲得する手法です．この手法は，分布仮説「単語の意味は周囲の単語との関係性から規定される」に基づいて次元削減で低次のベクトル表現を獲得することある条件下において同等であると証明されています．分布仮説において，例えば，「ラーメン」と「うどん」はそれぞれ，「食べる」や「昼飯」や「麺」などの同じ単語と共起しやすいため，この二つの単語は近いと考えられます．  \n",
        "　自然言語における __分布仮説__ は，ネットワーク分析における「ある人を知りたければその友人を見よ」や「論文の内容はその引用関係から推定できる」という考え方と類似しています．  \n",
        "> 引用: [Vol.31.No.4(2016/7)ネットワークの表現学習 -- 人工知能学会](https://www.ai-gakkai.or.jp/resource/my-bookmark/my-bookmark_vol31-no4/#:~:text=%E8%87%AA%E7%84%B6%E8%A8%80%E8%AA%9E%E3%81%AB%E3%81%8A%E3%81%91%E3%82%8B%E5%88%86%E5%B8%83%E4%BB%AE%E8%AA%AC%E3%81%AF%EF%BC%8C%E3%83%8D%E3%83%83%E3%83%88%E3%83%AF%E3%83%BC%E3%82%AF%E5%88%86%E6%9E%90%E3%81%AB%E3%81%8A%E3%81%91%E3%82%8B%E3%80%8C%E3%81%82%E3%82%8B%E4%BA%BA%E3%82%92%E7%9F%A5%E3%82%8A%E3%81%9F%E3%81%91%E3%82%8C%E3%81%B0%E3%81%9D%E3%81%AE%E5%8F%8B%E4%BA%BA%E3%82%92%E8%A6%8B%E3%82%88%E3%80%8D%E3%82%84%E3%80%8C%E8%AB%96%E6%96%87%E3%81%AE%E5%86%85%E5%AE%B9%E3%81%AF%E3%81%9D%E3%81%AE%E5%BC%95%E7%94%A8%E9%96%A2%E4%BF%82%E3%81%8B%E3%82%89%E6%8E%A8%E5%AE%9A%E3%81%A7%E3%81%8D%E3%82%8B%E3%80%8D%E3%81%A8%E3%81%84%E3%81%86%E8%80%83%E3%81%88%E6%96%B9%E3%81%A8%E9%A1%9E%E4%BC%BC%E3%81%97%E3%81%A6%E3%81%84%E3%81%BE%E3%81%99%EF%BC%8E%E3%81%93%E3%81%AE%E3%82%88%E3%81%86%E3%81%AB%EF%BC%8C%E5%88%86%E5%B8%83%E4%BB%AE%E8%AA%AC%E3%81%AB%E5%9F%BA%E3%81%A5%E3%81%84%E3%81%9F%E8%87%AA%E7%84%B6%E8%A8%80%E8%AA%9E%E5%87%A6%E7%90%86%E3%81%A8%E3%83%8D%E3%83%83%E3%83%88%E3%83%AF%E3%83%BC%E3%82%AF%E5%88%86%E6%9E%90%E3%81%AF%EF%BC%8C%E5%91%A8%E5%9B%B2%E3%81%AE%E9%96%A2%E4%BF%82%E6%80%A7%E3%81%8B%E3%82%89%E8%A6%81%E7%B4%A0%E3%81%AE%E6%80%A7%E8%B3%AA%E3%82%92%E6%8E%A8%E5%AE%9A%E3%81%99%E3%82%8B%E3%81%A8%E3%81%84%E3%81%86%E6%84%8F%E5%91%B3%E3%81%A7%E8%BF%91%E3%81%84%E3%81%A8%E3%81%84%E3%81%88%E3%81%BE%E3%81%99%EF%BC%8E2014%20%E5%B9%B4%E3%81%AB%E7%99%BA%E8%A1%A8%E3%81%95%E3%82%8C%E3%81%9FDeepWalk%20%E3%81%AF%EF%BC%8C%E3%81%93%E3%81%AE%E8%80%83%E3%81%88%E6%96%B9%E3%82%92%E3%82%82%E3%81%A8%E3%81%ABword2vec,%E3%82%92%E3%83%8D%E3%83%83%E3%83%88%E3%83%AF%E3%83%BC%E3%82%AF%E6%A7%8B%E9%80%A0%E3%81%AE%E8%A1%A8%E7%8F%BE%E5%AD%A6%E7%BF%92%E3%81%AB%E5%BF%9C%E7%94%A8%E3%81%97%E3%81%9F%E6%89%8B%E6%B3%95%E3%81%A7%E3%81%99%EF%BC%8EDeepWalk%20%E3%81%A7%E3%81%AF%EF%BC%8C%E3%83%8D%E3%83%83%E3%83%88%E3%83%AF%E3%83%BC%E3%82%AF%E3%81%AE%E3%83%AA%E3%83%B3%E3%82%AF%E4%B8%8A%E3%82%92%E3%83%A9%E3%83%B3%E3%83%80%E3%83%A0%E3%82%A6%E3%82%A9%E3%83%BC%E3%82%AF%E3%81%99%E3%82%8B%E3%81%93%E3%81%A8%E3%81%AB%E3%82%88%E3%81%A3%E3%81%A6%E8%BE%BF%E3%82%8C%E3%82%8B%E3%83%8E%E3%83%BC%E3%83%89%E3%81%AE%E5%88%97%E3%82%92%E2%80%9D%E6%96%87%E8%84%88%E2%80%9D%E3%81%A8%E3%81%BF%E3%81%AA%E3%81%97%EF%BC%8C%E3%81%9D%E3%81%AE%E6%96%87%E8%84%88%E3%82%92word2vec%20%E3%81%AB%E3%82%A4%E3%83%B3%E3%83%97%E3%83%83%E3%83%88%E3%81%97%E3%81%A6%E3%83%8E%E3%83%BC%E3%83%89%E3%81%AE%E5%88%86%E6%95%A3%E8%A1%A8%E7%8F%BE%E3%82%92%E8%A8%88%E7%AE%97%E3%81%97%E3%81%BE%E3%81%99%EF%BC%8E)\n",
        "\n",
        ":::\n",
        "\n",
        "例えば以下の文章があったときに，__XXX__ や __YYY__ に相当する単語がなんなのかがわかるでしょうか？  \n",
        "![](./figs/w2v/zettaiwakarurei.png)\n",
        "\n",
        "（この例ではもちろんXXXは __ガンダム__ ですし，YYYは __ノリス・パッカード大佐__ ですね．） \n",
        "\n",
        "私たちはある単語を聞きそびれたり，何かの固有名詞が分からなくても，周辺の言葉から大体類推して言葉の意味を把握することができます．\n",
        "\n",
        "このような「単語の意味は、周囲の単語によって形成される」という仮説を自然言語処理では __分布仮説__ と呼びます．"
      ]
    },
    {
      "attachments": {},
      "cell_type": "markdown",
      "metadata": {
        "id": "L42ESYPtDip-"
      },
      "source": [
        "この文脈において，対象の単語の周辺の単語のことをコンテキストと呼びます．\n",
        "\n",
        "![](./figs/w2v/context.png)  \n",
        "説明したい単語「goodbye」と，その周辺にあってこの単語の意味を推測するのに使えそうな単語達（コンテキスト）の関係．  \n",
        "出典: [ゼロから作るDeep Learning 2 自然言語処理編](https://www.oreilly.co.jp/books/9784873118369/)\n",
        "\n",
        "この分布仮説をもとに，ニューラルネットワークを使って単語の意味をある程度表現できるようなベクトル表現を獲得できる手法がこれから紹介するCBOWです．"
      ]
    },
    {
      "attachments": {},
      "cell_type": "markdown",
      "metadata": {
        "id": "xCQ7TVBVDip-"
      },
      "source": [
        "### CBOWのアーキテクチャ"
      ]
    },
    {
      "attachments": {},
      "cell_type": "markdown",
      "metadata": {
        "id": "NDvd7moSDip-"
      },
      "source": [
        "CBoWでは，周辺の単語を入力にして目的の単語を予測するネットワークを構築します．\n",
        "\n",
        "![](./figs/w2v/context2.png)  \n",
        "コンテキストを使った単語の予測．  \n",
        "出典: [ゼロから作るDeep Learning 2 自然言語処理編](https://www.oreilly.co.jp/books/9784873118369/)\n",
        "\n",
        "CBOWは単純なMLPを利用して，語彙数$V$，埋め込み次元数$N$の場合に，全ての語彙それぞれに対応する単語埋め込みベクトルの束である$\\mathbf{W}_{V, N}$を作成します．（ノーテーションは正しく定義しておけばなんでもいいのですが，私は埋め込み次元数を$L$と置くことが多いです．）"
      ]
    },
    {
      "attachments": {},
      "cell_type": "markdown",
      "metadata": {
        "id": "PaMIJbmODip-"
      },
      "source": [
        "\n",
        "\n",
        "> ![Illustration of the word2vec models: (a) CBOW, (b) skip-gram [16, 33]. ](https://www.researchgate.net/profile/Elena-Tutubalina/publication/318507923/figure/fig2/AS:613947946319904@1523388005889/Illustration-of-the-word2vec-models-a-CBOW-b-skip-gram-16-33.png)  \n",
        "word2vecのアーキテクチャ．左側がCBoW，また右側はSkip-Gram．   \n",
        "出典: [Demographic Prediction Based on User Reviews about Medications](https://www.scielo.org.mx/pdf/cys/v21n2/1405-5546-cys-21-02-00227.pdf)"
      ]
    },
    {
      "attachments": {},
      "cell_type": "markdown",
      "metadata": {},
      "source": []
    },
    {
      "attachments": {},
      "cell_type": "markdown",
      "metadata": {},
      "source": [
        "### 実装"
      ]
    },
    {
      "attachments": {},
      "cell_type": "markdown",
      "metadata": {},
      "source": [
        "::::{admonition} Embeddingsから任意の単語に対応したものを取り出す\n",
        ":class: dropdown\n",
        "\n",
        "CBoWの実装を考える時に気にしなければいけないのが，どうやって任意の単語の埋め込みベクトルを取り出すのかと言う問題です．例えば語彙数が5, 埋め込み次元数が3の単語埋め込み行列があるとします．\n",
        "```py\n",
        "W = torch.tensor([[ 0.4019, -0.1891, -0.3723],\n",
        "        [-0.3303,  0.2106, -0.0976],\n",
        "        [-0.2294, -0.3021,  0.3005],\n",
        "        [ 0.2210,  0.4406,  0.1265],\n",
        "        [-0.3187, -0.2617,  0.0953]],dtype=torch.float32)\n",
        "```\n",
        "ここから0番目の語彙の単語埋め込みベクトルを取り出すには，onehotベクトルとのdot積を取ればOKです．\n",
        "```py\n",
        "x = torch.tensor([1,0,0,0,0],dtype=torch.float32)\n",
        "x @ W\n",
        "```\n",
        "出力: tensor([ 0.4019, -0.1891, -0.3723])\n",
        "\n",
        "また同様に，これはミニバッチごとにまとめて取ることも可能です．\n",
        "\n",
        "```py\n",
        "x = torch.tensor([[1,0,0,0,0],[0,0,0,0,1]],dtype=torch.float32)\n",
        "x @ W\n",
        "```\n",
        "出力:  \n",
        "tensor([[ 0.4019, -0.1891, -0.3723],  \n",
        "        [-0.3187, -0.2617,  0.0953]])  \n",
        "\n",
        "contextsに含まれる単語の単語埋め込みベクトルを取る際にも上のテクニックは使えますが，このベクトルを取り出した後に要素ごとに平均をとる必要があります．これはつまり要素ごとに足した後に単語数で割っているだけなので，contextsをbowにして，これを入力にすれば「要素ごとに足した後のベクトル」が得られます．後はcontextsの要素数で各要素を割ればOKです．\n",
        "\n",
        "::::"
      ]
    },
    {
      "attachments": {},
      "cell_type": "markdown",
      "metadata": {},
      "source": [
        "まずは，forwardメソッドの入力値が「コンテクストのBoW表現」である場合の実装を考えます．一層目の全結合層の結合重みをそれぞれの語彙に対応する単語埋め込みベクトルとして利用しましょう．\n",
        "\n",
        "一つ目のnn.Linearはこのモデルで扱いたい語彙（異なり語，ユニークな単語）の数$V$（コード中では `vocab_size`）の数だけベクトルを持っており，入力された語彙に対応したベクトルを取り出して返します．この語彙に対応したベクトルを __単語埋め込みベクトル__ と呼びます．また，単語埋め込みベクトルの次元数$N$を __埋め込み次元数__ などと呼び，コード中では `embedding_dim`という変数で扱います．  \n",
        "**ある単語は，同じ文書中に存在する「その単語の周辺に出現する単語」によって類推することができる**というのが自然言語処理の分布仮説でした．これに則り，周辺単語を入力として，予測したい単語の出現確率を出力するMLPを作ります．"
      ]
    },
    {
      "attachments": {},
      "cell_type": "markdown",
      "metadata": {},
      "source": [
        "```python\n",
        "class CBoW(nn.Module):\n",
        "    def __init__(self, vocab_size:int, embedding_dim:int) -> None:\n",
        "        super().__init__()\n",
        "        self.embeddingbag = nn.Linear(vocab_size, embedding_dim, bias=False)\n",
        "        self.linear = nn.Linear(embedding_dim, vocab_size)\n",
        "\n",
        "    def forward(self, inputs:Any)->Any:\n",
        "        h = self.embeddingbag(inputs) / inputs.sum(1)[:,None]\n",
        "        return self.linear(h)\n",
        "```"
      ]
    },
    {
      "attachments": {},
      "cell_type": "markdown",
      "metadata": {},
      "source": [
        "この実装のCBoWクラスはMLPとほぼ同じなので非常にわかりやすいですが，contextsをBoW表現に直す必要があります．データが少ない場合は問題になりませんが，データ量が増えた時には大変です．"
      ]
    },
    {
      "attachments": {},
      "cell_type": "markdown",
      "metadata": {},
      "source": [
        "PyTorchでは，このような実装をしなくとも単語のid列を入力に，onehotやbowを介さずに埋め込みベクトルを返してくれる`nn.Embedding`クラスと`nn.Embeddingbag`クラスがあります．これを使ってより賢い実装を以下に示します．\n",
        "\n",
        "```{hint}\n",
        "単語idを一つ一つ単語埋め込みベクトルに変換したいなら`nn.Embedding`を使います．文書（単語idのシーケンス）に対する単純な埋め込みベクトルが欲しいならば`nn.Embeddingbag`を使います．\n",
        "```"
      ]
    },
    {
      "cell_type": "code",
      "execution_count": 32,
      "metadata": {
        "id": "vhHZ2M_fDip-"
      },
      "outputs": [],
      "source": [
        "class CBoW(nn.Module):\n",
        "    def __init__(self, vocab_size:int, embedding_dim:int) -> None:\n",
        "        super().__init__()\n",
        "        self.embeddingbag = nn.EmbeddingBag(vocab_size, embedding_dim)\n",
        "        self.linear = nn.Linear(embedding_dim, vocab_size)\n",
        "\n",
        "    def forward(self, inputs:Any)->Any:\n",
        "        h = self.embeddingbag(inputs) / inputs.size(-1)\n",
        "        return self.linear(h)"
      ]
    },
    {
      "attachments": {},
      "cell_type": "markdown",
      "metadata": {
        "id": "Dp6h0B9VDip-"
      },
      "source": [
        "クラスの実装上で明確に異なるのはMLPの最初のLinear層の代わりに，Embeddingbagレイヤーと名付けられた層が追加されていることです．これによりforwardメソッドへの入力をいちいちonehotやbowにしなくとも，単語idのシーケンスを渡すだけで，埋め込みベクトルを返してくれます．"
      ]
    },
    {
      "attachments": {},
      "cell_type": "markdown",
      "metadata": {
        "id": "11qu_OrwDip_"
      },
      "source": [
        "<!-- この実装は図で示したものとは少し異なります，このアーキテクチャのお気持ちとしては「単語を埋め込み表現に直した後に，それらの要素ごとの和を取る」作業を nn.Embeddingとnn.Linearの一つ目で行なう感じです．最終的に欲しいword embedding（単語埋め込み）はnn.Embeddingが持っているので，それ以降に関しては多少自由が効きます．また，-->\n",
        "最終層は「ターゲットの単語が出現する確率」なので，Softmax関数を用います（ここでもSoftmaxを利用することにします）．ただし，word2vecが発表された当初はGPUで計算するのではなく，CPUで計算できるような工夫として，Softmaxを近似した別の関数を利用していました．これにはHierarchical Softmax（階層的ソフトマックス）やNegative Sampling（不例サンプリング）が用いられます．是非調べてみてください．"
      ]
    },
    {
      "attachments": {},
      "cell_type": "markdown",
      "metadata": {},
      "source": [
        "### 損失関数"
      ]
    },
    {
      "attachments": {},
      "cell_type": "markdown",
      "metadata": {},
      "source": [
        "$x$の出現確率$p(x)$とモデルの予測した$x$の出現確率$q(x)$の交差エントロピーは以下のように求まります．\n",
        "\n",
        "$$\n",
        "H(p, q) = -\\sum_{x} p(x) \\log(q(x))\n",
        "$$ (crossentropy)\n",
        "\n",
        "今回の場合，予測したい単語が$y$であり，これは単語idになっています．これを語彙数$V$のonehotベクトルにする関数を$\\operatorname{onehot}(y)$としましょう．  \n",
        "コード中，CBoWのforwardメソッドの出力（予測する値）はself.linear(h)であり，下に示す訓練ループの中ではlogitsとされてますが，これは全結合層の出力でしかありません．本来はこれをSoftmaxに通した値が出力値であり，これが予測したい単語の出現確率です．よってここでのクロスエントロピーは\n",
        "\n",
        "$$\n",
        "H(y,\\operatorname{logits}) = -\\operatorname{onehot}(y) \\cdot \\log(\\operatorname{softmax}(\\operatorname{logits}))\n",
        "$$ (cbow_crossentropy)\n",
        "\n",
        "で求められます．ただし，minibatchごとに訓練する場合は，データ一つ一つに対して計算した後に平均をとる必要があります．"
      ]
    },
    {
      "attachments": {},
      "cell_type": "markdown",
      "metadata": {},
      "source": [
        "## 実験"
      ]
    },
    {
      "attachments": {},
      "cell_type": "markdown",
      "metadata": {},
      "source": [
        "### データのダウンロード"
      ]
    },
    {
      "attachments": {},
      "cell_type": "markdown",
      "metadata": {},
      "source": [
        "wikipediaを使いやすい形で公開してくれている[text8](http://mattmahoney.net/dc/textdata.html)の日本語版，[ja.text8](https://github.com/Hironsan/ja.text8)を使ってw2vを学習してみましょう．"
      ]
    },
    {
      "cell_type": "code",
      "execution_count": 8,
      "metadata": {
        "colab": {
          "base_uri": "https://localhost:8080/"
        },
        "id": "Cb2hCQ5eDsCZ",
        "outputId": "0c61615a-7fa7-4276-abdc-df6cfc0bdb21"
      },
      "outputs": [],
      "source": [
        "import os \n",
        "if \"ja.text8\" not in os.listdir(\"./data/\"):\n",
        "    !wget -P ./data https://s3-ap-northeast-1.amazonaws.com/dev.tech-sketch.jp/chakki/public/ja.text8.zip\n",
        "    !unzip ./data/ja.text8.zip"
      ]
    },
    {
      "attachments": {},
      "cell_type": "markdown",
      "metadata": {},
      "source": [
        "### データの準備"
      ]
    },
    {
      "cell_type": "code",
      "execution_count": 33,
      "metadata": {
        "id": "1g_95_zXDip_"
      },
      "outputs": [
        {
          "name": "stdout",
          "output_type": "stream",
          "text": [
            "ちょん 掛け （ ちょん がけ 、 丁 斧 掛け ・ 手斧 掛け と も 表記 ） と は 、 相撲 の 決まり 手 の ひとつ で ある 。 自分 の 右 （ 左 ） 足 の 踵 を 相手 の 右 （ 左 ） 足 の 踵 に 掛け 、 後方 に 捻っ て 倒す 技 。 手斧 （ ちょう な ） を かける 仕草 に 似 て いる こと から 、 ちょう な が 訛っ て ちょん 掛け と なっ \n"
          ]
        }
      ],
      "source": [
        "with open(\"./data/ja.text8\") as f:\n",
        "    text8 = f.read()\n",
        "\n",
        "print(text8[:200])"
      ]
    },
    {
      "attachments": {},
      "cell_type": "markdown",
      "metadata": {},
      "source": [
        "ja.text8では（英文のように）単語ごとにスペースを入れてくれているので，簡単にこれ以降の自然言語処理に進めます．このような処理を __分かち書き__ と呼びます．"
      ]
    },
    {
      "attachments": {},
      "cell_type": "markdown",
      "metadata": {},
      "source": [
        "本当はtext8の全てのデータを使いたいのですが，学習に時間がかかりすぎるので1/10の量を使うことにします．"
      ]
    },
    {
      "cell_type": "code",
      "execution_count": 34,
      "metadata": {},
      "outputs": [
        {
          "name": "stdout",
          "output_type": "stream",
          "text": [
            "4650779/ 46507793\n"
          ]
        }
      ],
      "source": [
        "LIMIT = math.floor(len(text8)*0.1)\n",
        "print(f\"{LIMIT}/ {len(text8)}\")\n",
        "\n",
        "text8 = text8[:LIMIT]"
      ]
    },
    {
      "attachments": {},
      "cell_type": "markdown",
      "metadata": {},
      "source": [
        "読み込んだテキストから，以下の条件で単語をフィルタリングします．\n",
        "1. 日本語のみで構成された単語だけを取り出します．\n",
        "2. 5個以上の文書に出現している単語のみを取り出し\n",
        "\n",
        "ここまでやった後に，語彙の辞書を作ります．\n",
        "1. id2word（id→単語）\n",
        "2. word2id (単語→id)"
      ]
    },
    {
      "cell_type": "code",
      "execution_count": 35,
      "metadata": {
        "colab": {
          "base_uri": "https://localhost:8080/"
        },
        "id": "Gm1Opn6KDip_",
        "outputId": "f9cbcbb3-b6c1-4fc0-a9ae-ff56843288f8"
      },
      "outputs": [
        {
          "name": "stdout",
          "output_type": "stream",
          "text": [
            "文書数: 57498, 語彙数: 17143\n"
          ]
        }
      ],
      "source": [
        "import re\n",
        "def build_simply_dictionary(texts):\n",
        "    token_set = set(token for text in texts for token in text.split())\n",
        "    word2id = {token:id for id, token in enumerate(token_set)}  \n",
        "    return word2id\n",
        "\n",
        "def my_analyzer(text):\n",
        "    #text = code_regex.sub('', text)\n",
        "    tokens = text.split()\n",
        "    tokens = filter(lambda token: re.search(r'[ぁ-ん]+|[ァ-ヴー]+|[一-龠]+', token), tokens)\n",
        "    return tokens \n",
        "\n",
        "def build_dictionary(texts, min_df=1):\n",
        "    from sklearn.feature_extraction.text import CountVectorizer\n",
        "    countvectorizer = CountVectorizer(min_df=min_df, analyzer=my_analyzer)\n",
        "\n",
        "    X = countvectorizer.fit_transform(texts)\n",
        "    id2word = {id:w for id,w in enumerate(countvectorizer.get_feature_names_out())}\n",
        "    word2id = {w:id for id,w in id2word.items()}\n",
        "    return id2word, word2id, X\n",
        "\n",
        "texts = text8.split(\"。\")\n",
        "id2word, word2id,X = build_dictionary(texts,5)\n",
        "V = len(id2word)\n",
        "D = len(texts)\n",
        "print(f\"文書数: {D}, 語彙数: {V}\")"
      ]
    },
    {
      "attachments": {},
      "cell_type": "markdown",
      "metadata": {},
      "source": [
        "ここでは，予測したい単語とコンテキストを合わせたものをウィンドウと呼びます．このウィンドウサイズを5として，予測したい単語の前後2単語をまとめた5単語を取り出し，contextsとtargetを作成します．"
      ]
    },
    {
      "cell_type": "code",
      "execution_count": 36,
      "metadata": {
        "id": "CwrACuqvDip_"
      },
      "outputs": [],
      "source": [
        "def build_contexts_and_target(preprocessed_texts, window_size=5):\n",
        "    contexts = []\n",
        "    target = []\n",
        "    a = window_size//2\n",
        "    for text in preprocessed_texts:\n",
        "        for i in range(a, len(text)-a):\n",
        "            target.append(text[i])\n",
        "            tmp = text[i-a:i]\n",
        "            tmp += text[i+1:i+1+a]\n",
        "            contexts.append(tmp)\n",
        "    return np.array(contexts), np.array(target)"
      ]
    },
    {
      "cell_type": "code",
      "execution_count": 37,
      "metadata": {
        "colab": {
          "base_uri": "https://localhost:8080/",
          "height": 85,
          "referenced_widgets": [
            "6d278f03df7246a58fcc56a8e6d097cc",
            "d8538458aeb8404ba5ea8c8f276101ce",
            "2defaa339dd44700a57a7c1f0df2ef35",
            "fcccd2fc704b4f7495bfcf6a02bcd001",
            "91cbe63560444707aac6c80eb7edf967",
            "d5838fca80f0488a9374e6ef8a6763a0",
            "e6d4150866f047e1862174d90f3e8b9a",
            "a375fa4664264c678ea5b9aefae8236d",
            "37b267824bbd48a3aa3c4b20a082274d",
            "310cc89eee2546d7aedac8a42ab3ad63",
            "da497b7a167745ed9d6612fa9dda8fd7"
          ]
        },
        "id": "KVu0kyb1Dip_",
        "outputId": "3712a969-462f-45b7-ab1f-fd3df7cf88fd"
      },
      "outputs": [
        {
          "name": "stdout",
          "output_type": "stream",
          "text": [
            "前処理後の文書数: 44599\n",
            "contextsの数: 750947\n"
          ]
        }
      ],
      "source": [
        "WINDOW_SIZE = 11\n",
        "\n",
        "preprocessed_texts = [[word2id[w] for w in text.split() if w in word2id] for text in texts]\n",
        "preprocessed_texts = [text for text in preprocessed_texts if len(text) > WINDOW_SIZE]\n",
        "contexts, target = build_contexts_and_target(preprocessed_texts, WINDOW_SIZE)\n",
        "print(\"前処理後の文書数:\", len(preprocessed_texts))\n",
        "print(f\"contextsの数: {len(contexts)}\")"
      ]
    },
    {
      "attachments": {},
      "cell_type": "markdown",
      "metadata": {},
      "source": [
        "ミニバッチを作成する関数を用意します．"
      ]
    },
    {
      "cell_type": "code",
      "execution_count": 38,
      "metadata": {
        "id": "6rEiSXZGDiqA"
      },
      "outputs": [],
      "source": [
        "def get_batch(contexts, target, batch_size=32, shuffle=True):\n",
        "    D = target.size\n",
        "    index = np.arange(D)\n",
        "    \n",
        "    if shuffle:\n",
        "        np.random.shuffle(index)\n",
        "\n",
        "    n_batches = D // batch_size\n",
        "    for minibatch_indexes in np.array_split(index, n_batches):\n",
        "        a = torch.tensor(contexts[minibatch_indexes])\n",
        "        b = torch.tensor(target[minibatch_indexes])\n",
        "        yield a,b"
      ]
    },
    {
      "attachments": {},
      "cell_type": "markdown",
      "metadata": {},
      "source": [
        "### 訓練ループの作成"
      ]
    },
    {
      "attachments": {},
      "cell_type": "markdown",
      "metadata": {},
      "source": [
        "通常のMLPと同様の学習ループを作成します．w2vの学習は時間がかかるので，プログレスバーを表示するようにしておきます．ここではepochごとに更新するバーとミニバッチごとに更新するバーを用意します．（ここで使うコーパスサイズだと，CPUで10~20分程度かかります）\n"
      ]
    },
    {
      "attachments": {},
      "cell_type": "markdown",
      "metadata": {},
      "source": [
        "学習が終わり次第，損失関数の増減を折れ線グラフにして確認できるようにもしておきましょう．"
      ]
    },
    {
      "cell_type": "code",
      "execution_count": 42,
      "metadata": {
        "colab": {
          "base_uri": "https://localhost:8080/",
          "height": 512,
          "referenced_widgets": [
            "a050ce005d814b49813fc1e5ddf7f99b",
            "8c2ec5963bf04227b720a769bda928a6",
            "0613d763ff11499d8e1dd44fa74f1d4b",
            "1a8d944f74d44afd962836f824af4b08",
            "41e8aa0826464913b6a0d8bf00a4ad3a",
            "2ea24c789f804906baddcb4faee7c7fb",
            "61ed1a487f2145f696de34c4040520a9",
            "5f20080a36f045c289bda8469548f5d8",
            "2a5aecc1ee7e4558b2573b6b79bdef42",
            "21616790f11d4228b89045159fd03a6d",
            "c19bd9b093c34c8699abb4896836f200",
            "b0c1771b5f67476ca6dba044b9b427f7",
            "4a9b16b14e3648af93a525ed7c8a1765",
            "a88b93a1f2a1465f9de3436679ead5f6",
            "022e71e7d0d24b64b9c2ceb309d9a08d",
            "c72031997dc045288d8792961eb4018a",
            "9a59e2058e264ccab1d6705b8673be7e",
            "3ce17de764fb4faf8cf0e3854e89e3f1",
            "4354036723454565a401e241602bc692",
            "e6fbc3321eab467bb287cc9affca287e",
            "f69da0ce7a3c44389bfa609505bb391d",
            "c89aa25003c84da19c88693c7d92e26b"
          ]
        },
        "id": "uZN_DIeCDiqA",
        "outputId": "20e41185-ff62-486e-fa9c-ca4504275c01",
        "tags": [
          "hide-output"
        ]
      },
      "outputs": [
        {
          "name": "stdout",
          "output_type": "stream",
          "text": [
            "loading pretrained weights...\n",
            "training CBoW from scrach...\n"
          ]
        },
        {
          "name": "stderr",
          "output_type": "stream",
          "text": [
            "  0%|          | 0/10 [00:00<?, ?it/s]"
          ]
        },
        {
          "name": "stderr",
          "output_type": "stream",
          "text": [
            "100%|██████████| 1466/1466 [00:49<00:00, 29.34it/s]\n",
            "100%|██████████| 1466/1466 [00:48<00:00, 30.25it/s]\n",
            "100%|██████████| 1466/1466 [00:58<00:00, 24.90it/s]\n",
            "100%|██████████| 1466/1466 [01:22<00:00, 17.76it/s]\n",
            "100%|██████████| 1466/1466 [01:25<00:00, 17.16it/s]\n",
            "100%|██████████| 1466/1466 [01:29<00:00, 16.40it/s]\n",
            "100%|██████████| 1466/1466 [01:05<00:00, 22.41it/s]\n",
            "100%|██████████| 1466/1466 [01:10<00:00, 20.85it/s]\n",
            "100%|██████████| 1466/1466 [01:07<00:00, 21.88it/s]\n",
            "100%|██████████| 1466/1466 [01:07<00:00, 21.75it/s]\n",
            "100%|██████████| 10/10 [11:24<00:00, 68.49s/it]\n"
          ]
        },
        {
          "data": {
            "image/png": "[encoded data removed]",
            "text/plain": [
              "<Figure size 640x480 with 1 Axes>"
            ]
          },
          "metadata": {},
          "output_type": "display_data"
        }
      ],
      "source": [
        "max_epochs = 10\n",
        "lr = 0.01\n",
        "batch_size = 512\n",
        "L = 50\n",
        "n_batches = len(target) // batch_size\n",
        "DEVICE=\"cpu\"\n",
        "if torch.cuda.is_available():\n",
        "    DEVICE =\"cuda:0\"\n",
        "\n",
        "cbow = CBoW(V, L)\n",
        "criterion = nn.CrossEntropyLoss()\n",
        "save_fname = f\"{cbow.__class__.__name__}_ep{max_epochs}_lr{lr}_b{batch_size}_emb{L}.pth\"\n",
        "\n",
        "\"\"\"\n",
        "# 学習済みの重みがある場合\n",
        "print(\"loading pretrained weights...\")\n",
        "cbow.load_state_dict(torch.load(f\"./models/{save_fname}\"))\n",
        "cbow.eval()\n",
        "\"\"\"\n",
        "\n",
        "# 学習済みの重みがない場合\n",
        "print(\"training CBoW from scrach...\")\n",
        "cbow.train()\n",
        "cbow = cbow.to(DEVICE)\n",
        "optimizer = optim.Adam(cbow.parameters(), lr=lr)\n",
        "monitoring_loss = []\n",
        "\n",
        "for epoch in trange(max_epochs):\n",
        "    with tqdm(total=n_batches) as tbar:\n",
        "        for batch in get_batch(contexts, target, batch_size):\n",
        "            x,y = batch\n",
        "            x,y = x.to(DEVICE), y.to(DEVICE)\n",
        "\n",
        "            optimizer.zero_grad()\n",
        "            logits = cbow(x)\n",
        "            loss = criterion(logits, y)\n",
        "            loss.backward()\n",
        "            optimizer.step()\n",
        "            \n",
        "            monitoring_loss.append(float(loss))\n",
        "            tbar.update(1)\n",
        "cbow.eval()\n",
        "cbow = cbow.cpu()\n",
        "torch.save(cbow.state_dict(), f\"./models/{save_fname}\")\n",
        "\n",
        "plt.title(\"cross entropy of training set\")\n",
        "plt.xlabel(\"iteration\")\n",
        "plt.ylabel(\"cross entropy loss\")\n",
        "plt.plot(monitoring_loss)"
      ]
    },
    {
      "attachments": {},
      "cell_type": "markdown",
      "metadata": {},
      "source": [
        "### 類似単語検索"
      ]
    },
    {
      "attachments": {},
      "cell_type": "markdown",
      "metadata": {},
      "source": [
        "CBoWでは第一層目の結合重みが単語埋め込みベクトルとして利用できます．例えばこれは，以下のようなコードで取り出すことが可能です．\n",
        "```python\n",
        "word_embeddings = list(cbow.embeddingbag.parameters())[0].data.detach().cpu().numpy()\n",
        "```\n",
        "\n",
        "ここから更にクエリとして与えられた単語に対応する単語埋め込みベクトルを取り出して，自分以外の全ての埋め込みベクトルとの類似度を計算することで，類似単語検索が実装できます．\n",
        "ここでは類似として __コサイン類似度__ {eq}`cosine_similarity`を使います．\n",
        "\n",
        "$$\n",
        "\\cos (\\mathbf{x}, \\mathbf{y})=\\frac{\\langle\\mathbf{x}, \\mathbf{y}\\rangle}{\\|\\mathbf{x}\\|\\|\\mathbf{y}\\|} =\\frac{\\sum_{k=1}^N x_k y_k}{\\sqrt{\\sum_{k=1}^N x_k^2} \\sqrt{\\sum_{k=1}^N y_k^2}}\n",
        "$$ (cosine_similarity)\n",
        "\n",
        "ただし, $\\|\\mathbf{x}\\|=\\sqrt{\\sum_{k=1}^N x_k^2}$ はL2ノルム, $\\langle\\mathbf{x}, \\mathbf{y}\\rangle=\\sum_{k=1}^n x_k y_k$ はベクトルの内積です．\n",
        "\n",
        "> ![](https://image.itmedia.co.jp/ait/articles/2112/08/l_di-01.gif)  \n",
        "出典: [コサイン類似度（Cosine Similarity）とは？ |@IT](https://atmarkit.itmedia.co.jp/ait/articles/2112/08/news020.html)  \n",
        "\n",
        "これが大きい順にtopn個を取り出して表示する関数を作りましょう．例えば，クエリとして「インド」を渡した時に，以下のような結果を返す予定です．\n",
        "\n",
        "```\n",
        ">>> インド\n",
        "1:アフリカ \t0.9803917407989502\n",
        "2:ホルシュタイン \t0.9631898403167725\n",
        "3:セルビア \t0.962059497833252\n",
        "4:ハンガリー \t0.9611229300498962\n",
        "```\n"
      ]
    },
    {
      "cell_type": "code",
      "execution_count": 45,
      "metadata": {
        "id": "1dH2coQGGCaw"
      },
      "outputs": [],
      "source": [
        "word_embeddings = list(cbow.embeddingbag.parameters())[0].data.detach().cpu().numpy()\n",
        "def get_similar_words(query, topn=5, word2id=word2id, word_embeddings=word_embeddings):\n",
        "    \"\"\"単語埋め込みベクトルを使って似た単語を検索する\n",
        "\n",
        "    Args:\n",
        "        query (str): 類似単語を検索したい単語\n",
        "        topn (int, optional): 検索結果の表示個数. Defaults to 5.\n",
        "        word2id (dict[str,int], optional): 単語→単語idの辞書. Defaults to word2id.\n",
        "        word_embeddings (np.ndarray, optional): 単語埋め込み行列．必ず(語彙数x埋め込み次元数)の行列であること. Defaults to word_embeddings.\n",
        "    \"\"\"\n",
        "    id=word2id[query]\n",
        "    E = (word_embeddings.T / np.linalg.norm(word_embeddings,ord=2, axis=1)).T # {(V,L).T / (V)}.T = (V,L)\n",
        "    target_vector = E[id]\n",
        "    cossim = E @ target_vector # (V,L)@(L)=(V)\n",
        "    sorted_index = np.argsort(cossim)[::-1][1:topn+1] # 最も似たベクトルは自分自身なので先頭を除外\n",
        "\n",
        "    print(f\">>> {query}\")\n",
        "    _id2word = list(word2id.keys())\n",
        "    for rank, i in enumerate(sorted_index):\n",
        "        print(f\"{rank+1}:{_id2word[i]} \\t{cossim[i]}\")"
      ]
    },
    {
      "cell_type": "code",
      "execution_count": 46,
      "metadata": {
        "colab": {
          "base_uri": "https://localhost:8080/"
        },
        "id": "1REKkZqwID00",
        "outputId": "3acc813b-1469-4445-8d58-521254eec4af"
      },
      "outputs": [
        {
          "name": "stdout",
          "output_type": "stream",
          "text": [
            ">>> ソフトウェア\n",
            "1:システム \t0.7365995049476624\n",
            "2:アプリ \t0.7077406048774719\n",
            "3:ネットワーク \t0.6998056173324585\n",
            "4:計算 \t0.6755282878875732\n",
            "5:ファイル \t0.6713197827339172\n",
            ">>> インド\n",
            "1:ローマ帝国 \t0.7319226861000061\n",
            "2:山岳 \t0.6649739742279053\n",
            "3:パキスタン \t0.6315129399299622\n",
            "4:ネパール \t0.6283044219017029\n",
            "5:アメリカ大陸 \t0.6265026926994324\n",
            ">>> 犬\n",
            "1:ペット \t0.6025487780570984\n",
            "2:泥 \t0.5757102370262146\n",
            "3:和名 \t0.553511381149292\n",
            "4:炭 \t0.5409188270568848\n",
            "5:頁岩 \t0.5395538806915283\n",
            ">>> 日本\n",
            "1:巨人 \t0.507787823677063\n",
            "2:台湾 \t0.5001265406608582\n",
            "3:英国 \t0.4997516870498657\n",
            "4:親善 \t0.49010732769966125\n",
            "5:低迷 \t0.48958519101142883\n"
          ]
        }
      ],
      "source": [
        "get_similar_words(\"ソフトウェア\")\n",
        "get_similar_words(\"インド\")\n",
        "get_similar_words(\"犬\")\n",
        "get_similar_words(\"日本\")"
      ]
    },
    {
      "attachments": {},
      "cell_type": "markdown",
      "metadata": {
        "id": "79aCoUvtDiqA"
      },
      "source": [
        "今回の例では訓練に使うコーパスの量が圧倒的に足りないので，対応している語彙の数も学習して得られる単語埋め込みの質もイマイチです．そのため時間がある場合はtext8全体を利用して更なる実験を行なってみてください．より人間の感覚に近い類似単語検索が可能になるはずです．"
      ]
    },
    {
      "attachments": {},
      "cell_type": "markdown",
      "metadata": {},
      "source": [
        "## 学習済みword2vecの利活用"
      ]
    },
    {
      "attachments": {},
      "cell_type": "markdown",
      "metadata": {},
      "source": [
        "### 類似単語検索"
      ]
    },
    {
      "attachments": {},
      "cell_type": "markdown",
      "metadata": {},
      "source": [
        "\n",
        "\n",
        "Wikipediaのdumpファイルのような大規模で広いドメイン知識を含んだテキストを使って，word2vecやそれに類する手法を訓練したPretrained model, Pretrained weightsが様々なところで公開されています．ここではこの様な学習済みの単語埋め込みベクトルをダウンロードして，利用する手順を確認します．\n",
        "\n",
        "\n",
        "\n",
        "日本語の学習済み単語埋め込みの例:\n",
        "1. [日本語 Wikipedia エンティティベクトル |東北大学 乾・岡崎研究室](http://www.cl.ecei.tohoku.ac.jp/~m-suzuki/jawiki_vector/)\n",
        "2. [chiVe: SudachiとNWJCによる日本語単語ベクトル |Works Applications](https://github.com/WorksApplications/chiVe)\n",
        "\n",
        "今回は[日本語 Wikipedia エンティティベクトル |東北大学 乾・岡崎研究室](http://www.cl.ecei.tohoku.ac.jp/~m-suzuki/jawiki_vector/)からファイル（20170201.tar.bz2）をダウンロードし，これを使って類似単語検索を行います．\n",
        "Pythonのトピックモデル手法パッケージである[Gensim](https://radimrehurek.com/gensim/)には，word2vecのクラスが実装されています．これを使ってもOKです．ここでは自力で埋め込みベクトルを取り出してみます．  \n",
        "ファイルの中身は一行目に「単語数，埋め込み次元数」が書かれています．また，データは全て半角スペースがセパレータとして利用されてます．\n",
        "\n",
        "::::{margin}\n",
        "CSVやTSVの形式に近いので，これらを読み込む機能があるPandasで読み込めそうです．\n",
        "```python\n",
        "# これはダメな例\n",
        "fpath=\"./data/entity_vector/entity_vector.model.txt\"\n",
        "df = pd.read_table(fpath,\n",
        "                   skiprows=1, \n",
        "                   sep=\" \", \n",
        "                   header=None, \n",
        "                   index_col=0,\n",
        "                   )\n",
        "```\n",
        "\n",
        "残念ながらこれだとうまくいきません．\n",
        "::::\n",
        "\n",
        "\n",
        "今回はデータ読み込みのために以下の様な関数を用意しました．この関数は返り値として，keyを単語，valueを埋め込みベクトルにした辞書keyedvectorsを返します．"
      ]
    },
    {
      "cell_type": "code",
      "execution_count": 33,
      "metadata": {
        "tags": [
          "hide-output"
        ]
      },
      "outputs": [
        {
          "name": "stderr",
          "output_type": "stream",
          "text": [
            "100%|██████████| 1015474/1015474 [01:14<00:00, 13692.18it/s]\n"
          ]
        }
      ],
      "source": [
        "def load_keyedvectors(fpath):\n",
        "    keyedvectors = {}\n",
        "    with open(fpath) as f:\n",
        "        lines = f.readlines()[1:]\n",
        "    with tqdm(total=len(lines)) as t:\n",
        "        for i, line in enumerate(lines):\n",
        "            word,*arr = line.split()\n",
        "            keyedvectors[word] = np.array(arr).astype(np.float32)\n",
        "            t.update(1)\n",
        "    return keyedvectors\n",
        "\n",
        "fpath=\"./data/entity_vector/entity_vector.model.txt\"\n",
        "kv=load_keyedvectors(fpath)"
      ]
    },
    {
      "attachments": {},
      "cell_type": "markdown",
      "metadata": {},
      "source": [
        "類似単語検索の関数は上に示したものを少し修正すればいいでしょう．またはkvからword2idと単語埋め込み行列を使ってもいいかもしれません．何にせよ十分に訓練された単語埋め込みベクトルを使って，埋め込みベクトルが人間の感覚に近い結果を返すか確認してみましょう．"
      ]
    },
    {
      "cell_type": "code",
      "execution_count": 87,
      "metadata": {},
      "outputs": [
        {
          "name": "stdout",
          "output_type": "stream",
          "text": [
            ">>> ソフトウェア\n",
            "1:[ソフトウェア] \t0.9343680739402771\n",
            "2:アプリケーション \t0.8889141082763672\n",
            "3:ハードウェア \t0.8524743318557739\n",
            "4:[アプリケーションソフトウェア] \t0.8515217900276184\n",
            "5:ソフトウエア \t0.8409579992294312\n",
            "6:ツール \t0.8184429407119751\n",
            "7:[オペレーティングシステム] \t0.818361759185791\n",
            "8:[ハードウェア] \t0.8154588341712952\n",
            "9:ディストリビューション \t0.8022889494895935\n",
            "10:[プラグイン] \t0.7999409437179565\n",
            ">>> インド\n",
            "1:[インド] \t0.8461795449256897\n",
            "2:チベット \t0.7447131872177124\n",
            "3:東南アジア \t0.7305631637573242\n",
            "4:エジプト \t0.7292859554290771\n",
            "5:アフリカ \t0.7172137498855591\n",
            "6:イラン \t0.6968802213668823\n",
            "7:西アジア \t0.6928515434265137\n",
            "8:アラビア \t0.6927241683006287\n",
            "9:中国 \t0.6918002963066101\n",
            "10:中東 \t0.6847600936889648\n",
            ">>> 犬\n",
            "1:[犬] \t0.8519492745399475\n",
            "2:[イヌ] \t0.8118769526481628\n",
            "3:[ネコ] \t0.7639949917793274\n",
            "4:[猫] \t0.7535459995269775\n",
            "5:猟犬 \t0.75133216381073\n",
            "6:猫 \t0.7439810037612915\n",
            "7:[猟犬] \t0.7298945188522339\n",
            "8:子犬 \t0.727935254573822\n",
            "9:[オオカミ] \t0.7274285554885864\n",
            "10:[牧羊犬] \t0.7150676846504211\n",
            ">>> 東京\n",
            "1:大阪 \t0.8608449697494507\n",
            "2:[東京] \t0.8446128368377686\n",
            "3:名古屋 \t0.7717304825782776\n",
            "4:[大阪] \t0.7522143721580505\n",
            "5:横浜 \t0.7329142093658447\n",
            "6:神戸 \t0.7294299602508545\n",
            "7:京都 \t0.7215739488601685\n",
            "8:札幌 \t0.7169389724731445\n",
            "9:関西 \t0.7126983404159546\n",
            "10:浅草 \t0.687187135219574\n"
          ]
        }
      ],
      "source": [
        "tohoku_w2id = {k:id for id,k in enumerate(kv)}\n",
        "tohoku_emb = np.vstack([vec for vec in kv.values()])\n",
        "topn=10\n",
        "get_similar_words(\"ソフトウェア\",topn,tohoku_w2id,tohoku_emb)\n",
        "get_similar_words(\"インド\",topn,tohoku_w2id,tohoku_emb)\n",
        "get_similar_words(\"犬\",topn,tohoku_w2id,tohoku_emb)\n",
        "get_similar_words(\"東京\",topn,tohoku_w2id,tohoku_emb)"
      ]
    },
    {
      "attachments": {},
      "cell_type": "markdown",
      "metadata": {},
      "source": [
        "類似単語検索ではある程度納得できる答えが出ていると思います．このように大規模な言語資源を使って訓練された単語埋め込みモデルはベクトル表現として「言葉の意味」をある程度上手に獲得できる様です．"
      ]
    },
    {
      "attachments": {},
      "cell_type": "markdown",
      "metadata": {},
      "source": [
        "### 単語ベクトルの足し算，引き算"
      ]
    },
    {
      "attachments": {},
      "cell_type": "markdown",
      "metadata": {},
      "source": [
        "作成した単語埋め込みベクトルは，うまく訓練すると意味の足し引きができることが知られています．\n",
        "\n",
        "> ![](https://miro.medium.com/v2/resize:fit:1356/format:webp/1*5F4TXdFYwqi-BWTToQPIfg.jpeg)  \n",
        "Trained Word2Vec Vectors with Semantic and Syntactic relationship  \n",
        "出典: [Word2Vec Research Paper Explained](https://towardsdatascience.com/word2vec-research-paper-explained-205cb7eecc30)\n",
        "\n",
        "```\n",
        "# 例\n",
        "女王 - 女 = 王\n",
        "```\n",
        "\n",
        "これが正しく動作するか確認してみましょう．"
      ]
    },
    {
      "cell_type": "code",
      "execution_count": 93,
      "metadata": {},
      "outputs": [
        {
          "name": "stdout",
          "output_type": "stream",
          "text": [
            ">>> 女王+女\n",
            "女王 \t0.4823855459690094\n",
            "[エリザベス2世] \t0.4214708209037781\n",
            "国王 \t0.4064805507659912\n",
            "[イギリスの君主] \t0.40320461988449097\n",
            "[国王] \t0.39549916982650757\n",
            "\n",
            "参考までに，\"女王\"と\"女\"と\"王\"の類似単語-----\n",
            ">>> 女王\n",
            "1:王女 \t0.7546545267105103\n",
            "2:[女王] \t0.7532833814620972\n",
            "3:国王 \t0.7170188426971436\n",
            "4:王妃 \t0.7075302600860596\n",
            "5:[王配] \t0.6518748998641968\n",
            ">>> 女\n",
            "1:男 \t0.8477675318717957\n",
            "2:姫君 \t0.6818373203277588\n",
            "3:老女 \t0.6539143323898315\n",
            "4:美女 \t0.6511508822441101\n",
            "5:女房 \t0.6428915858268738\n",
            ">>> 王\n",
            "1:[王] \t0.7630562782287598\n",
            "2:は王 \t0.7305535078048706\n",
            "3:国王 \t0.7254170775413513\n",
            "4:大王 \t0.7170721292495728\n",
            "5:皇帝 \t0.6928742527961731\n"
          ]
        }
      ],
      "source": [
        "def get_similar_words_from_vector(query, topn=5, word2id=word2id, word_embeddings=word_embeddings):\n",
        "    E = word_embeddings.T / np.linalg.norm(word_embeddings,ord=2, axis=1)\n",
        "    target_vector = query / np.linalg.norm(query, ord=2)\n",
        "    cossim = target_vector@E # (K)@(K,V)->(V)\n",
        "    sorted_index = np.argsort(cossim)[::-1][:topn]\n",
        "    id2word = list(word2id.keys())\n",
        "    for i in sorted_index:\n",
        "        print(f\"{id2word[i]} \\t{cossim[i]}\")\n",
        "\n",
        "x = \"女王\"\n",
        "y = \"女\"\n",
        "print(f\">>> {x}+{y}\")\n",
        "get_similar_words_from_vector(tohoku_emb[tohoku_w2id[x]] - tohoku_emb[tohoku_w2id[y]],\n",
        "                  5,tohoku_w2id,tohoku_emb)\n",
        "\n",
        "print('\\n参考までに，\"女王\"と\"女\"と\"王\"の類似単語-----')\n",
        "get_similar_words(\"女王\",5,tohoku_w2id,tohoku_emb)\n",
        "get_similar_words(\"女\",5,tohoku_w2id,tohoku_emb)\n",
        "get_similar_words(\"王\",5,tohoku_w2id,tohoku_emb)\n"
      ]
    },
    {
      "attachments": {},
      "cell_type": "markdown",
      "metadata": {},
      "source": [
        "期待通りの答えにはなっていませんが，訓練を工夫することで欲しい答えを返してきそうな雰囲気はありますね．他のキーワードペアも試してみましょう．"
      ]
    },
    {
      "cell_type": "code",
      "execution_count": 90,
      "metadata": {},
      "outputs": [
        {
          "name": "stdout",
          "output_type": "stream",
          "text": [
            ">>> 王+女性\n",
            "王 \t0.8152725100517273\n",
            "女性 \t0.7048345804214478\n",
            "王妃 \t0.6942119598388672\n",
            "[王] \t0.6658982634544373\n",
            "王族 \t0.6649365425109863\n",
            ">>> 王+女性\n",
            "王 \t0.8152725100517273\n",
            "女性 \t0.7048345804214478\n",
            "王妃 \t0.6942119598388672\n",
            "[王] \t0.6658982634544373\n",
            "王族 \t0.6649365425109863\n",
            ">>> 女王-女性\n",
            "女王 \t0.5956608057022095\n",
            "国王 \t0.40800678730010986\n",
            "王 \t0.3981504440307617\n",
            "聖王 \t0.39811018109321594\n",
            "王国 \t0.38871997594833374\n",
            ">>> ナルト+写輪眼\n",
            "ナルト \t0.9913040995597839\n",
            "サスケ \t0.8586304783821106\n",
            "[うずまきナルト] \t0.8437241315841675\n",
            "カカシ \t0.8275482654571533\n",
            "[うちはサスケ] \t0.8235551118850708\n",
            ">>> ナルト-写輪眼\n",
            "ナルト \t0.9860731959342957\n",
            "[うずまきナルト] \t0.849785327911377\n",
            "サスケ \t0.8380293846130371\n",
            "カカシ \t0.8109898567199707\n",
            "一護 \t0.8019786477088928\n"
          ]
        }
      ],
      "source": [
        "add_vecs = lambda x,y:(print(f\">>> {x}+{y}\"),get_similar_words_from_vector(tohoku_emb[tohoku_w2id[x]] + tohoku_emb[tohoku_w2id[y]],\n",
        "                  5,tohoku_w2id,tohoku_emb))\n",
        "sub_vecs = lambda x,y:(print(f\">>> {x}-{y}\"),get_similar_words_from_vector(tohoku_emb[tohoku_w2id[x]] - tohoku_emb[tohoku_w2id[y]],\n",
        "                  5,tohoku_w2id,tohoku_emb))\n",
        "\n",
        "add_vecs(\"王\",\"女性\")\n",
        "add_vecs(\"王\",\"女性\")\n",
        "sub_vecs(\"女王\",\"女性\");\n",
        "add_vecs(\"ナルト\",\"写輪眼\")\n",
        "sub_vecs(\"ナルト\",\"写輪眼\");"
      ]
    },
    {
      "attachments": {},
      "cell_type": "markdown",
      "metadata": {},
      "source": [
        "## word2vecの応用"
      ]
    },
    {
      "attachments": {},
      "cell_type": "markdown",
      "metadata": {},
      "source": [
        "\n",
        "このような便利な特性を持つ単語埋め込みベクトルは，この論文の発表後に様々なNLP技術の中で当たり前に利用されるようになりました．前提として，通常データが少ない場合にはうまく単語の意味を訓練によって習得させることは難しいことが知られていましたが，このような問題にうまく対処できるのが，事前学習済み単語埋め込みの利用です．この例に大規模な言語リソースを使って事前訓練された単語埋め込みを使えば，効率的に各々のタスクを解決するモデルを作成できます．\n",
        "\n",
        "例として，文書からの話題抽出タスクに事前学習モデルを利用する場合のワークフローを示します．下図において，NTM（ニューラルトピックモデル）は学習用コーパスのみを使って単語埋め込みを含めたモデルのパラメータを訓練します．これに対して，NTM-PWEは事前学習した埋め込みを利用します．この場合は単語埋め込みに相当するパラメータは学習用データを使ってパラメータ更新をしません．一番右のNTM-PWE/finetuningはNTM-PWEのように事前学習した埋め込みを利用し，単語埋め込みに相当するパラメータも学習用データを使ってパラメータ更新します．つまり，パラメータのより良い初期値として事前学習済み単語埋め込みを利用するということです．その方針を取るのかは状況によって異なりますが，多くの場合で事前学習済みモデルを初期値として利用すると良い結果をもたらすでしょう．  \n",
        "\n",
        "> ![](./figs/w2v/workflow_pwe.png)  \n",
        "文書からの話題抽出タスクに事前学習モデルを利用する場合のワークフロー\n",
        "\n",
        "この事前学習済みのモデルを（pretrained model, pretrained weights）などと呼びます．事前学習済みモデルを利用するアプローチは，現在ではNLPのみならず，CV（Computer Vision）などの様々な分野で当たり前に利用されています．"
      ]
    },
    {
      "attachments": {},
      "cell_type": "markdown",
      "metadata": {},
      "source": [
        "## 参考文献\n",
        "\n",
        "\n",
        "```{bibliography}\n",
        ":filter: docname in docnames\n",
        "```"
      ]
    },
    {
      "cell_type": "code",
      "execution_count": null,
      "metadata": {},
      "outputs": [],
      "source": []
    }
  ],
  "metadata": {
    "accelerator": "GPU",
    "colab": {
      "gpuType": "T4",
      "provenance": []
    },
    "kernelspec": {
      "display_name": "Python 3",
      "name": "python3"
    },
    "language_info": {
      "codemirror_mode": {
        "name": "ipython",
        "version": 3
      },
      "file_extension": ".py",
      "mimetype": "text/x-python",
      "name": "python",
      "nbconvert_exporter": "python",
      "pygments_lexer": "ipython3",
      "version": "3.10.6"
    },
    "widgets": {
      "application/vnd.jupyter.widget-state+json": {
        "022e71e7d0d24b64b9c2ceb309d9a08d": {
          "model_module": "@jupyter-widgets/controls",
          "model_module_version": "1.5.0",
          "model_name": "HTMLModel",
          "state": {
            "_dom_classes": [],
            "_model_module": "@jupyter-widgets/controls",
            "_model_module_version": "1.5.0",
            "_model_name": "HTMLModel",
            "_view_count": null,
            "_view_module": "@jupyter-widgets/controls",
            "_view_module_version": "1.5.0",
            "_view_name": "HTMLView",
            "description": "",
            "description_tooltip": null,
            "layout": "IPY_MODEL_f69da0ce7a3c44389bfa609505bb391d",
            "placeholder": "​",
            "style": "IPY_MODEL_c89aa25003c84da19c88693c7d92e26b",
            "value": " 3/3 [06:49&lt;00:00, 136.36s/it]"
          }
        },
        "0613d763ff11499d8e1dd44fa74f1d4b": {
          "model_module": "@jupyter-widgets/controls",
          "model_module_version": "1.5.0",
          "model_name": "FloatProgressModel",
          "state": {
            "_dom_classes": [],
            "_model_module": "@jupyter-widgets/controls",
            "_model_module_version": "1.5.0",
            "_model_name": "FloatProgressModel",
            "_view_count": null,
            "_view_module": "@jupyter-widgets/controls",
            "_view_module_version": "1.5.0",
            "_view_name": "ProgressView",
            "bar_style": "success",
            "description": "",
            "description_tooltip": null,
            "layout": "IPY_MODEL_5f20080a36f045c289bda8469548f5d8",
            "max": 2430,
            "min": 0,
            "orientation": "horizontal",
            "style": "IPY_MODEL_2a5aecc1ee7e4558b2573b6b79bdef42",
            "value": 2430
          }
        },
        "1a8d944f74d44afd962836f824af4b08": {
          "model_module": "@jupyter-widgets/controls",
          "model_module_version": "1.5.0",
          "model_name": "HTMLModel",
          "state": {
            "_dom_classes": [],
            "_model_module": "@jupyter-widgets/controls",
            "_model_module_version": "1.5.0",
            "_model_name": "HTMLModel",
            "_view_count": null,
            "_view_module": "@jupyter-widgets/controls",
            "_view_module_version": "1.5.0",
            "_view_name": "HTMLView",
            "description": "",
            "description_tooltip": null,
            "layout": "IPY_MODEL_21616790f11d4228b89045159fd03a6d",
            "placeholder": "​",
            "style": "IPY_MODEL_c19bd9b093c34c8699abb4896836f200",
            "value": " 2430/2430 [06:49&lt;00:00,  5.96it/s]"
          }
        },
        "21616790f11d4228b89045159fd03a6d": {
          "model_module": "@jupyter-widgets/base",
          "model_module_version": "1.2.0",
          "model_name": "LayoutModel",
          "state": {
            "_model_module": "@jupyter-widgets/base",
            "_model_module_version": "1.2.0",
            "_model_name": "LayoutModel",
            "_view_count": null,
            "_view_module": "@jupyter-widgets/base",
            "_view_module_version": "1.2.0",
            "_view_name": "LayoutView",
            "align_content": null,
            "align_items": null,
            "align_self": null,
            "border": null,
            "bottom": null,
            "display": null,
            "flex": null,
            "flex_flow": null,
            "grid_area": null,
            "grid_auto_columns": null,
            "grid_auto_flow": null,
            "grid_auto_rows": null,
            "grid_column": null,
            "grid_gap": null,
            "grid_row": null,
            "grid_template_areas": null,
            "grid_template_columns": null,
            "grid_template_rows": null,
            "height": null,
            "justify_content": null,
            "justify_items": null,
            "left": null,
            "margin": null,
            "max_height": null,
            "max_width": null,
            "min_height": null,
            "min_width": null,
            "object_fit": null,
            "object_position": null,
            "order": null,
            "overflow": null,
            "overflow_x": null,
            "overflow_y": null,
            "padding": null,
            "right": null,
            "top": null,
            "visibility": null,
            "width": null
          }
        },
        "2a5aecc1ee7e4558b2573b6b79bdef42": {
          "model_module": "@jupyter-widgets/controls",
          "model_module_version": "1.5.0",
          "model_name": "ProgressStyleModel",
          "state": {
            "_model_module": "@jupyter-widgets/controls",
            "_model_module_version": "1.5.0",
            "_model_name": "ProgressStyleModel",
            "_view_count": null,
            "_view_module": "@jupyter-widgets/base",
            "_view_module_version": "1.2.0",
            "_view_name": "StyleView",
            "bar_color": null,
            "description_width": ""
          }
        },
        "2defaa339dd44700a57a7c1f0df2ef35": {
          "model_module": "@jupyter-widgets/controls",
          "model_module_version": "1.5.0",
          "model_name": "FloatProgressModel",
          "state": {
            "_dom_classes": [],
            "_model_module": "@jupyter-widgets/controls",
            "_model_module_version": "1.5.0",
            "_model_name": "FloatProgressModel",
            "_view_count": null,
            "_view_module": "@jupyter-widgets/controls",
            "_view_module_version": "1.5.0",
            "_view_name": "ProgressView",
            "bar_style": "success",
            "description": "",
            "description_tooltip": null,
            "layout": "IPY_MODEL_a375fa4664264c678ea5b9aefae8236d",
            "max": 454833,
            "min": 0,
            "orientation": "horizontal",
            "style": "IPY_MODEL_37b267824bbd48a3aa3c4b20a082274d",
            "value": 454833
          }
        },
        "2ea24c789f804906baddcb4faee7c7fb": {
          "model_module": "@jupyter-widgets/base",
          "model_module_version": "1.2.0",
          "model_name": "LayoutModel",
          "state": {
            "_model_module": "@jupyter-widgets/base",
            "_model_module_version": "1.2.0",
            "_model_name": "LayoutModel",
            "_view_count": null,
            "_view_module": "@jupyter-widgets/base",
            "_view_module_version": "1.2.0",
            "_view_name": "LayoutView",
            "align_content": null,
            "align_items": null,
            "align_self": null,
            "border": null,
            "bottom": null,
            "display": null,
            "flex": null,
            "flex_flow": null,
            "grid_area": null,
            "grid_auto_columns": null,
            "grid_auto_flow": null,
            "grid_auto_rows": null,
            "grid_column": null,
            "grid_gap": null,
            "grid_row": null,
            "grid_template_areas": null,
            "grid_template_columns": null,
            "grid_template_rows": null,
            "height": null,
            "justify_content": null,
            "justify_items": null,
            "left": null,
            "margin": null,
            "max_height": null,
            "max_width": null,
            "min_height": null,
            "min_width": null,
            "object_fit": null,
            "object_position": null,
            "order": null,
            "overflow": null,
            "overflow_x": null,
            "overflow_y": null,
            "padding": null,
            "right": null,
            "top": null,
            "visibility": null,
            "width": null
          }
        },
        "310cc89eee2546d7aedac8a42ab3ad63": {
          "model_module": "@jupyter-widgets/base",
          "model_module_version": "1.2.0",
          "model_name": "LayoutModel",
          "state": {
            "_model_module": "@jupyter-widgets/base",
            "_model_module_version": "1.2.0",
            "_model_name": "LayoutModel",
            "_view_count": null,
            "_view_module": "@jupyter-widgets/base",
            "_view_module_version": "1.2.0",
            "_view_name": "LayoutView",
            "align_content": null,
            "align_items": null,
            "align_self": null,
            "border": null,
            "bottom": null,
            "display": null,
            "flex": null,
            "flex_flow": null,
            "grid_area": null,
            "grid_auto_columns": null,
            "grid_auto_flow": null,
            "grid_auto_rows": null,
            "grid_column": null,
            "grid_gap": null,
            "grid_row": null,
            "grid_template_areas": null,
            "grid_template_columns": null,
            "grid_template_rows": null,
            "height": null,
            "justify_content": null,
            "justify_items": null,
            "left": null,
            "margin": null,
            "max_height": null,
            "max_width": null,
            "min_height": null,
            "min_width": null,
            "object_fit": null,
            "object_position": null,
            "order": null,
            "overflow": null,
            "overflow_x": null,
            "overflow_y": null,
            "padding": null,
            "right": null,
            "top": null,
            "visibility": null,
            "width": null
          }
        },
        "37b267824bbd48a3aa3c4b20a082274d": {
          "model_module": "@jupyter-widgets/controls",
          "model_module_version": "1.5.0",
          "model_name": "ProgressStyleModel",
          "state": {
            "_model_module": "@jupyter-widgets/controls",
            "_model_module_version": "1.5.0",
            "_model_name": "ProgressStyleModel",
            "_view_count": null,
            "_view_module": "@jupyter-widgets/base",
            "_view_module_version": "1.2.0",
            "_view_name": "StyleView",
            "bar_color": null,
            "description_width": ""
          }
        },
        "3ce17de764fb4faf8cf0e3854e89e3f1": {
          "model_module": "@jupyter-widgets/controls",
          "model_module_version": "1.5.0",
          "model_name": "DescriptionStyleModel",
          "state": {
            "_model_module": "@jupyter-widgets/controls",
            "_model_module_version": "1.5.0",
            "_model_name": "DescriptionStyleModel",
            "_view_count": null,
            "_view_module": "@jupyter-widgets/base",
            "_view_module_version": "1.2.0",
            "_view_name": "StyleView",
            "description_width": ""
          }
        },
        "41e8aa0826464913b6a0d8bf00a4ad3a": {
          "model_module": "@jupyter-widgets/base",
          "model_module_version": "1.2.0",
          "model_name": "LayoutModel",
          "state": {
            "_model_module": "@jupyter-widgets/base",
            "_model_module_version": "1.2.0",
            "_model_name": "LayoutModel",
            "_view_count": null,
            "_view_module": "@jupyter-widgets/base",
            "_view_module_version": "1.2.0",
            "_view_name": "LayoutView",
            "align_content": null,
            "align_items": null,
            "align_self": null,
            "border": null,
            "bottom": null,
            "display": null,
            "flex": null,
            "flex_flow": null,
            "grid_area": null,
            "grid_auto_columns": null,
            "grid_auto_flow": null,
            "grid_auto_rows": null,
            "grid_column": null,
            "grid_gap": null,
            "grid_row": null,
            "grid_template_areas": null,
            "grid_template_columns": null,
            "grid_template_rows": null,
            "height": null,
            "justify_content": null,
            "justify_items": null,
            "left": null,
            "margin": null,
            "max_height": null,
            "max_width": null,
            "min_height": null,
            "min_width": null,
            "object_fit": null,
            "object_position": null,
            "order": null,
            "overflow": null,
            "overflow_x": null,
            "overflow_y": null,
            "padding": null,
            "right": null,
            "top": null,
            "visibility": null,
            "width": null
          }
        },
        "4354036723454565a401e241602bc692": {
          "model_module": "@jupyter-widgets/base",
          "model_module_version": "1.2.0",
          "model_name": "LayoutModel",
          "state": {
            "_model_module": "@jupyter-widgets/base",
            "_model_module_version": "1.2.0",
            "_model_name": "LayoutModel",
            "_view_count": null,
            "_view_module": "@jupyter-widgets/base",
            "_view_module_version": "1.2.0",
            "_view_name": "LayoutView",
            "align_content": null,
            "align_items": null,
            "align_self": null,
            "border": null,
            "bottom": null,
            "display": null,
            "flex": null,
            "flex_flow": null,
            "grid_area": null,
            "grid_auto_columns": null,
            "grid_auto_flow": null,
            "grid_auto_rows": null,
            "grid_column": null,
            "grid_gap": null,
            "grid_row": null,
            "grid_template_areas": null,
            "grid_template_columns": null,
            "grid_template_rows": null,
            "height": null,
            "justify_content": null,
            "justify_items": null,
            "left": null,
            "margin": null,
            "max_height": null,
            "max_width": null,
            "min_height": null,
            "min_width": null,
            "object_fit": null,
            "object_position": null,
            "order": null,
            "overflow": null,
            "overflow_x": null,
            "overflow_y": null,
            "padding": null,
            "right": null,
            "top": null,
            "visibility": null,
            "width": null
          }
        },
        "4a9b16b14e3648af93a525ed7c8a1765": {
          "model_module": "@jupyter-widgets/controls",
          "model_module_version": "1.5.0",
          "model_name": "HTMLModel",
          "state": {
            "_dom_classes": [],
            "_model_module": "@jupyter-widgets/controls",
            "_model_module_version": "1.5.0",
            "_model_name": "HTMLModel",
            "_view_count": null,
            "_view_module": "@jupyter-widgets/controls",
            "_view_module_version": "1.5.0",
            "_view_name": "HTMLView",
            "description": "",
            "description_tooltip": null,
            "layout": "IPY_MODEL_9a59e2058e264ccab1d6705b8673be7e",
            "placeholder": "​",
            "style": "IPY_MODEL_3ce17de764fb4faf8cf0e3854e89e3f1",
            "value": "100%"
          }
        },
        "5f20080a36f045c289bda8469548f5d8": {
          "model_module": "@jupyter-widgets/base",
          "model_module_version": "1.2.0",
          "model_name": "LayoutModel",
          "state": {
            "_model_module": "@jupyter-widgets/base",
            "_model_module_version": "1.2.0",
            "_model_name": "LayoutModel",
            "_view_count": null,
            "_view_module": "@jupyter-widgets/base",
            "_view_module_version": "1.2.0",
            "_view_name": "LayoutView",
            "align_content": null,
            "align_items": null,
            "align_self": null,
            "border": null,
            "bottom": null,
            "display": null,
            "flex": null,
            "flex_flow": null,
            "grid_area": null,
            "grid_auto_columns": null,
            "grid_auto_flow": null,
            "grid_auto_rows": null,
            "grid_column": null,
            "grid_gap": null,
            "grid_row": null,
            "grid_template_areas": null,
            "grid_template_columns": null,
            "grid_template_rows": null,
            "height": null,
            "justify_content": null,
            "justify_items": null,
            "left": null,
            "margin": null,
            "max_height": null,
            "max_width": null,
            "min_height": null,
            "min_width": null,
            "object_fit": null,
            "object_position": null,
            "order": null,
            "overflow": null,
            "overflow_x": null,
            "overflow_y": null,
            "padding": null,
            "right": null,
            "top": null,
            "visibility": null,
            "width": null
          }
        },
        "61ed1a487f2145f696de34c4040520a9": {
          "model_module": "@jupyter-widgets/controls",
          "model_module_version": "1.5.0",
          "model_name": "DescriptionStyleModel",
          "state": {
            "_model_module": "@jupyter-widgets/controls",
            "_model_module_version": "1.5.0",
            "_model_name": "DescriptionStyleModel",
            "_view_count": null,
            "_view_module": "@jupyter-widgets/base",
            "_view_module_version": "1.2.0",
            "_view_name": "StyleView",
            "description_width": ""
          }
        },
        "6d278f03df7246a58fcc56a8e6d097cc": {
          "model_module": "@jupyter-widgets/controls",
          "model_module_version": "1.5.0",
          "model_name": "HBoxModel",
          "state": {
            "_dom_classes": [],
            "_model_module": "@jupyter-widgets/controls",
            "_model_module_version": "1.5.0",
            "_model_name": "HBoxModel",
            "_view_count": null,
            "_view_module": "@jupyter-widgets/controls",
            "_view_module_version": "1.5.0",
            "_view_name": "HBoxView",
            "box_style": "",
            "children": [
              "IPY_MODEL_d8538458aeb8404ba5ea8c8f276101ce",
              "IPY_MODEL_2defaa339dd44700a57a7c1f0df2ef35",
              "IPY_MODEL_fcccd2fc704b4f7495bfcf6a02bcd001"
            ],
            "layout": "IPY_MODEL_91cbe63560444707aac6c80eb7edf967"
          }
        },
        "8c2ec5963bf04227b720a769bda928a6": {
          "model_module": "@jupyter-widgets/controls",
          "model_module_version": "1.5.0",
          "model_name": "HTMLModel",
          "state": {
            "_dom_classes": [],
            "_model_module": "@jupyter-widgets/controls",
            "_model_module_version": "1.5.0",
            "_model_name": "HTMLModel",
            "_view_count": null,
            "_view_module": "@jupyter-widgets/controls",
            "_view_module_version": "1.5.0",
            "_view_name": "HTMLView",
            "description": "",
            "description_tooltip": null,
            "layout": "IPY_MODEL_2ea24c789f804906baddcb4faee7c7fb",
            "placeholder": "​",
            "style": "IPY_MODEL_61ed1a487f2145f696de34c4040520a9",
            "value": "100%"
          }
        },
        "91cbe63560444707aac6c80eb7edf967": {
          "model_module": "@jupyter-widgets/base",
          "model_module_version": "1.2.0",
          "model_name": "LayoutModel",
          "state": {
            "_model_module": "@jupyter-widgets/base",
            "_model_module_version": "1.2.0",
            "_model_name": "LayoutModel",
            "_view_count": null,
            "_view_module": "@jupyter-widgets/base",
            "_view_module_version": "1.2.0",
            "_view_name": "LayoutView",
            "align_content": null,
            "align_items": null,
            "align_self": null,
            "border": null,
            "bottom": null,
            "display": null,
            "flex": null,
            "flex_flow": null,
            "grid_area": null,
            "grid_auto_columns": null,
            "grid_auto_flow": null,
            "grid_auto_rows": null,
            "grid_column": null,
            "grid_gap": null,
            "grid_row": null,
            "grid_template_areas": null,
            "grid_template_columns": null,
            "grid_template_rows": null,
            "height": null,
            "justify_content": null,
            "justify_items": null,
            "left": null,
            "margin": null,
            "max_height": null,
            "max_width": null,
            "min_height": null,
            "min_width": null,
            "object_fit": null,
            "object_position": null,
            "order": null,
            "overflow": null,
            "overflow_x": null,
            "overflow_y": null,
            "padding": null,
            "right": null,
            "top": null,
            "visibility": null,
            "width": null
          }
        },
        "9a59e2058e264ccab1d6705b8673be7e": {
          "model_module": "@jupyter-widgets/base",
          "model_module_version": "1.2.0",
          "model_name": "LayoutModel",
          "state": {
            "_model_module": "@jupyter-widgets/base",
            "_model_module_version": "1.2.0",
            "_model_name": "LayoutModel",
            "_view_count": null,
            "_view_module": "@jupyter-widgets/base",
            "_view_module_version": "1.2.0",
            "_view_name": "LayoutView",
            "align_content": null,
            "align_items": null,
            "align_self": null,
            "border": null,
            "bottom": null,
            "display": null,
            "flex": null,
            "flex_flow": null,
            "grid_area": null,
            "grid_auto_columns": null,
            "grid_auto_flow": null,
            "grid_auto_rows": null,
            "grid_column": null,
            "grid_gap": null,
            "grid_row": null,
            "grid_template_areas": null,
            "grid_template_columns": null,
            "grid_template_rows": null,
            "height": null,
            "justify_content": null,
            "justify_items": null,
            "left": null,
            "margin": null,
            "max_height": null,
            "max_width": null,
            "min_height": null,
            "min_width": null,
            "object_fit": null,
            "object_position": null,
            "order": null,
            "overflow": null,
            "overflow_x": null,
            "overflow_y": null,
            "padding": null,
            "right": null,
            "top": null,
            "visibility": null,
            "width": null
          }
        },
        "a050ce005d814b49813fc1e5ddf7f99b": {
          "model_module": "@jupyter-widgets/controls",
          "model_module_version": "1.5.0",
          "model_name": "HBoxModel",
          "state": {
            "_dom_classes": [],
            "_model_module": "@jupyter-widgets/controls",
            "_model_module_version": "1.5.0",
            "_model_name": "HBoxModel",
            "_view_count": null,
            "_view_module": "@jupyter-widgets/controls",
            "_view_module_version": "1.5.0",
            "_view_name": "HBoxView",
            "box_style": "",
            "children": [
              "IPY_MODEL_8c2ec5963bf04227b720a769bda928a6",
              "IPY_MODEL_0613d763ff11499d8e1dd44fa74f1d4b",
              "IPY_MODEL_1a8d944f74d44afd962836f824af4b08"
            ],
            "layout": "IPY_MODEL_41e8aa0826464913b6a0d8bf00a4ad3a"
          }
        },
        "a375fa4664264c678ea5b9aefae8236d": {
          "model_module": "@jupyter-widgets/base",
          "model_module_version": "1.2.0",
          "model_name": "LayoutModel",
          "state": {
            "_model_module": "@jupyter-widgets/base",
            "_model_module_version": "1.2.0",
            "_model_name": "LayoutModel",
            "_view_count": null,
            "_view_module": "@jupyter-widgets/base",
            "_view_module_version": "1.2.0",
            "_view_name": "LayoutView",
            "align_content": null,
            "align_items": null,
            "align_self": null,
            "border": null,
            "bottom": null,
            "display": null,
            "flex": null,
            "flex_flow": null,
            "grid_area": null,
            "grid_auto_columns": null,
            "grid_auto_flow": null,
            "grid_auto_rows": null,
            "grid_column": null,
            "grid_gap": null,
            "grid_row": null,
            "grid_template_areas": null,
            "grid_template_columns": null,
            "grid_template_rows": null,
            "height": null,
            "justify_content": null,
            "justify_items": null,
            "left": null,
            "margin": null,
            "max_height": null,
            "max_width": null,
            "min_height": null,
            "min_width": null,
            "object_fit": null,
            "object_position": null,
            "order": null,
            "overflow": null,
            "overflow_x": null,
            "overflow_y": null,
            "padding": null,
            "right": null,
            "top": null,
            "visibility": null,
            "width": null
          }
        },
        "a88b93a1f2a1465f9de3436679ead5f6": {
          "model_module": "@jupyter-widgets/controls",
          "model_module_version": "1.5.0",
          "model_name": "FloatProgressModel",
          "state": {
            "_dom_classes": [],
            "_model_module": "@jupyter-widgets/controls",
            "_model_module_version": "1.5.0",
            "_model_name": "FloatProgressModel",
            "_view_count": null,
            "_view_module": "@jupyter-widgets/controls",
            "_view_module_version": "1.5.0",
            "_view_name": "ProgressView",
            "bar_style": "success",
            "description": "",
            "description_tooltip": null,
            "layout": "IPY_MODEL_4354036723454565a401e241602bc692",
            "max": 3,
            "min": 0,
            "orientation": "horizontal",
            "style": "IPY_MODEL_e6fbc3321eab467bb287cc9affca287e",
            "value": 3
          }
        },
        "b0c1771b5f67476ca6dba044b9b427f7": {
          "model_module": "@jupyter-widgets/controls",
          "model_module_version": "1.5.0",
          "model_name": "HBoxModel",
          "state": {
            "_dom_classes": [],
            "_model_module": "@jupyter-widgets/controls",
            "_model_module_version": "1.5.0",
            "_model_name": "HBoxModel",
            "_view_count": null,
            "_view_module": "@jupyter-widgets/controls",
            "_view_module_version": "1.5.0",
            "_view_name": "HBoxView",
            "box_style": "",
            "children": [
              "IPY_MODEL_4a9b16b14e3648af93a525ed7c8a1765",
              "IPY_MODEL_a88b93a1f2a1465f9de3436679ead5f6",
              "IPY_MODEL_022e71e7d0d24b64b9c2ceb309d9a08d"
            ],
            "layout": "IPY_MODEL_c72031997dc045288d8792961eb4018a"
          }
        },
        "c19bd9b093c34c8699abb4896836f200": {
          "model_module": "@jupyter-widgets/controls",
          "model_module_version": "1.5.0",
          "model_name": "DescriptionStyleModel",
          "state": {
            "_model_module": "@jupyter-widgets/controls",
            "_model_module_version": "1.5.0",
            "_model_name": "DescriptionStyleModel",
            "_view_count": null,
            "_view_module": "@jupyter-widgets/base",
            "_view_module_version": "1.2.0",
            "_view_name": "StyleView",
            "description_width": ""
          }
        },
        "c72031997dc045288d8792961eb4018a": {
          "model_module": "@jupyter-widgets/base",
          "model_module_version": "1.2.0",
          "model_name": "LayoutModel",
          "state": {
            "_model_module": "@jupyter-widgets/base",
            "_model_module_version": "1.2.0",
            "_model_name": "LayoutModel",
            "_view_count": null,
            "_view_module": "@jupyter-widgets/base",
            "_view_module_version": "1.2.0",
            "_view_name": "LayoutView",
            "align_content": null,
            "align_items": null,
            "align_self": null,
            "border": null,
            "bottom": null,
            "display": null,
            "flex": null,
            "flex_flow": null,
            "grid_area": null,
            "grid_auto_columns": null,
            "grid_auto_flow": null,
            "grid_auto_rows": null,
            "grid_column": null,
            "grid_gap": null,
            "grid_row": null,
            "grid_template_areas": null,
            "grid_template_columns": null,
            "grid_template_rows": null,
            "height": null,
            "justify_content": null,
            "justify_items": null,
            "left": null,
            "margin": null,
            "max_height": null,
            "max_width": null,
            "min_height": null,
            "min_width": null,
            "object_fit": null,
            "object_position": null,
            "order": null,
            "overflow": null,
            "overflow_x": null,
            "overflow_y": null,
            "padding": null,
            "right": null,
            "top": null,
            "visibility": null,
            "width": null
          }
        },
        "c89aa25003c84da19c88693c7d92e26b": {
          "model_module": "@jupyter-widgets/controls",
          "model_module_version": "1.5.0",
          "model_name": "DescriptionStyleModel",
          "state": {
            "_model_module": "@jupyter-widgets/controls",
            "_model_module_version": "1.5.0",
            "_model_name": "DescriptionStyleModel",
            "_view_count": null,
            "_view_module": "@jupyter-widgets/base",
            "_view_module_version": "1.2.0",
            "_view_name": "StyleView",
            "description_width": ""
          }
        },
        "d5838fca80f0488a9374e6ef8a6763a0": {
          "model_module": "@jupyter-widgets/base",
          "model_module_version": "1.2.0",
          "model_name": "LayoutModel",
          "state": {
            "_model_module": "@jupyter-widgets/base",
            "_model_module_version": "1.2.0",
            "_model_name": "LayoutModel",
            "_view_count": null,
            "_view_module": "@jupyter-widgets/base",
            "_view_module_version": "1.2.0",
            "_view_name": "LayoutView",
            "align_content": null,
            "align_items": null,
            "align_self": null,
            "border": null,
            "bottom": null,
            "display": null,
            "flex": null,
            "flex_flow": null,
            "grid_area": null,
            "grid_auto_columns": null,
            "grid_auto_flow": null,
            "grid_auto_rows": null,
            "grid_column": null,
            "grid_gap": null,
            "grid_row": null,
            "grid_template_areas": null,
            "grid_template_columns": null,
            "grid_template_rows": null,
            "height": null,
            "justify_content": null,
            "justify_items": null,
            "left": null,
            "margin": null,
            "max_height": null,
            "max_width": null,
            "min_height": null,
            "min_width": null,
            "object_fit": null,
            "object_position": null,
            "order": null,
            "overflow": null,
            "overflow_x": null,
            "overflow_y": null,
            "padding": null,
            "right": null,
            "top": null,
            "visibility": null,
            "width": null
          }
        },
        "d8538458aeb8404ba5ea8c8f276101ce": {
          "model_module": "@jupyter-widgets/controls",
          "model_module_version": "1.5.0",
          "model_name": "HTMLModel",
          "state": {
            "_dom_classes": [],
            "_model_module": "@jupyter-widgets/controls",
            "_model_module_version": "1.5.0",
            "_model_name": "HTMLModel",
            "_view_count": null,
            "_view_module": "@jupyter-widgets/controls",
            "_view_module_version": "1.5.0",
            "_view_name": "HTMLView",
            "description": "",
            "description_tooltip": null,
            "layout": "IPY_MODEL_d5838fca80f0488a9374e6ef8a6763a0",
            "placeholder": "​",
            "style": "IPY_MODEL_e6d4150866f047e1862174d90f3e8b9a",
            "value": "100%"
          }
        },
        "da497b7a167745ed9d6612fa9dda8fd7": {
          "model_module": "@jupyter-widgets/controls",
          "model_module_version": "1.5.0",
          "model_name": "DescriptionStyleModel",
          "state": {
            "_model_module": "@jupyter-widgets/controls",
            "_model_module_version": "1.5.0",
            "_model_name": "DescriptionStyleModel",
            "_view_count": null,
            "_view_module": "@jupyter-widgets/base",
            "_view_module_version": "1.2.0",
            "_view_name": "StyleView",
            "description_width": ""
          }
        },
        "e6d4150866f047e1862174d90f3e8b9a": {
          "model_module": "@jupyter-widgets/controls",
          "model_module_version": "1.5.0",
          "model_name": "DescriptionStyleModel",
          "state": {
            "_model_module": "@jupyter-widgets/controls",
            "_model_module_version": "1.5.0",
            "_model_name": "DescriptionStyleModel",
            "_view_count": null,
            "_view_module": "@jupyter-widgets/base",
            "_view_module_version": "1.2.0",
            "_view_name": "StyleView",
            "description_width": ""
          }
        },
        "e6fbc3321eab467bb287cc9affca287e": {
          "model_module": "@jupyter-widgets/controls",
          "model_module_version": "1.5.0",
          "model_name": "ProgressStyleModel",
          "state": {
            "_model_module": "@jupyter-widgets/controls",
            "_model_module_version": "1.5.0",
            "_model_name": "ProgressStyleModel",
            "_view_count": null,
            "_view_module": "@jupyter-widgets/base",
            "_view_module_version": "1.2.0",
            "_view_name": "StyleView",
            "bar_color": null,
            "description_width": ""
          }
        },
        "f69da0ce7a3c44389bfa609505bb391d": {
          "model_module": "@jupyter-widgets/base",
          "model_module_version": "1.2.0",
          "model_name": "LayoutModel",
          "state": {
            "_model_module": "@jupyter-widgets/base",
            "_model_module_version": "1.2.0",
            "_model_name": "LayoutModel",
            "_view_count": null,
            "_view_module": "@jupyter-widgets/base",
            "_view_module_version": "1.2.0",
            "_view_name": "LayoutView",
            "align_content": null,
            "align_items": null,
            "align_self": null,
            "border": null,
            "bottom": null,
            "display": null,
            "flex": null,
            "flex_flow": null,
            "grid_area": null,
            "grid_auto_columns": null,
            "grid_auto_flow": null,
            "grid_auto_rows": null,
            "grid_column": null,
            "grid_gap": null,
            "grid_row": null,
            "grid_template_areas": null,
            "grid_template_columns": null,
            "grid_template_rows": null,
            "height": null,
            "justify_content": null,
            "justify_items": null,
            "left": null,
            "margin": null,
            "max_height": null,
            "max_width": null,
            "min_height": null,
            "min_width": null,
            "object_fit": null,
            "object_position": null,
            "order": null,
            "overflow": null,
            "overflow_x": null,
            "overflow_y": null,
            "padding": null,
            "right": null,
            "top": null,
            "visibility": null,
            "width": null
          }
        },
        "fcccd2fc704b4f7495bfcf6a02bcd001": {
          "model_module": "@jupyter-widgets/controls",
          "model_module_version": "1.5.0",
          "model_name": "HTMLModel",
          "state": {
            "_dom_classes": [],
            "_model_module": "@jupyter-widgets/controls",
            "_model_module_version": "1.5.0",
            "_model_name": "HTMLModel",
            "_view_count": null,
            "_view_module": "@jupyter-widgets/controls",
            "_view_module_version": "1.5.0",
            "_view_name": "HTMLView",
            "description": "",
            "description_tooltip": null,
            "layout": "IPY_MODEL_310cc89eee2546d7aedac8a42ab3ad63",
            "placeholder": "​",
            "style": "IPY_MODEL_da497b7a167745ed9d6612fa9dda8fd7",
            "value": " 454833/454833 [00:15&lt;00:00, 20483.11it/s]"
          }
        }
      }
    }
  },
  "nbformat": 4,
  "nbformat_minor": 0
}
